{
 "cells": [
  {
   "cell_type": "code",
   "execution_count": 1,
   "metadata": {},
   "outputs": [
    {
     "name": "stdout",
     "output_type": "stream",
     "text": [
      "<\n"
     ]
    }
   ],
   "source": [
    "A, B = map(int, input().split())\n",
    "if A > B : print('>')\n",
    "elif A < B : print('<')\n",
    "else : print('==')"
   ]
  },
  {
   "cell_type": "code",
   "execution_count": 2,
   "metadata": {},
   "outputs": [
    {
     "name": "stdout",
     "output_type": "stream",
     "text": [
      "A\n"
     ]
    }
   ],
   "source": [
    "a = int(input())\n",
    "if a >= 90 : print('A')\n",
    "elif a >= 80 : print('B')\n",
    "elif a >= 70 : print('C')\n",
    "elif a >= 60 : print('D')\n",
    "else : print('F')"
   ]
  },
  {
   "cell_type": "code",
   "execution_count": 4,
   "metadata": {},
   "outputs": [
    {
     "name": "stdout",
     "output_type": "stream",
     "text": [
      "1\n"
     ]
    }
   ],
   "source": [
    "year = int(input())\n",
    "if year % 4 == 0 and year % 100 != 0:\n",
    "  print(1)\n",
    "elif year % 400 == 0:\n",
    "  print(1)\n",
    "else : print(0)"
   ]
  },
  {
   "cell_type": "code",
   "execution_count": 6,
   "metadata": {},
   "outputs": [
    {
     "name": "stdout",
     "output_type": "stream",
     "text": [
      "4\n"
     ]
    }
   ],
   "source": [
    "x = int(input())\n",
    "y = int(input())\n",
    "\n",
    "if x * y > 0:\n",
    "  if x > 0 : print(1)\n",
    "  else : print(3)\n",
    "elif x * y < 0 :\n",
    "  if x > 0 : print(4)\n",
    "  else : print(2)"
   ]
  },
  {
   "cell_type": "code",
   "execution_count": 10,
   "metadata": {},
   "outputs": [
    {
     "name": "stdout",
     "output_type": "stream",
     "text": [
      "22 55\n"
     ]
    }
   ],
   "source": [
    "H, M = map(int, input().split())\n",
    "if M >= 45 : print(f'{H} {M-45}')\n",
    "elif H >= 1 : print(f'{H-1} {M+15}')\n",
    "else : print(f'23 {M+15}')"
   ]
  },
  {
   "cell_type": "code",
   "execution_count": 14,
   "metadata": {},
   "outputs": [
    {
     "name": "stdout",
     "output_type": "stream",
     "text": [
      "19 0\n"
     ]
    }
   ],
   "source": [
    "A, B = map(int, input().split())\n",
    "C = int(input())\n",
    "ac = (C // 60) + A\n",
    "bc = (C % 60) + B\n",
    "if bc >= 60 : \n",
    "  if ac >= 23 : print(f'{ac-23} {bc-60}')\n",
    "  else : print(f'{ac+1} {bc-60}')\n",
    "elif ac >= 24 : print(f'{ac-24} {bc}')\n",
    "else : print(f'{ac} {bc}')"
   ]
  },
  {
   "cell_type": "code",
   "execution_count": 21,
   "metadata": {},
   "outputs": [
    {
     "name": "stdout",
     "output_type": "stream",
     "text": [
      "600\n"
     ]
    }
   ],
   "source": [
    "a, b, c = map(int, input().split())\n",
    "if (a == b) and (b == c) : print(10000 + 1000 * a)\n",
    "elif (a == b) or (a == c) : print(1000 + 100 * a)\n",
    "elif b == c : print(1000 + b * 100)\n",
    "else : print(max(a, b, c) * 100)"
   ]
  }
 ],
 "metadata": {
  "kernelspec": {
   "display_name": "Python 3",
   "language": "python",
   "name": "python3"
  },
  "language_info": {
   "codemirror_mode": {
    "name": "ipython",
    "version": 3
   },
   "file_extension": ".py",
   "mimetype": "text/x-python",
   "name": "python",
   "nbconvert_exporter": "python",
   "pygments_lexer": "ipython3",
   "version": "3.9.19"
  }
 },
 "nbformat": 4,
 "nbformat_minor": 2
}
