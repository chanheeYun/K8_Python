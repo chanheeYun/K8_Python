{
 "cells": [
  {
   "cell_type": "code",
   "execution_count": 3,
   "metadata": {},
   "outputs": [
    {
     "name": "stdout",
     "output_type": "stream",
     "text": [
      "['genesis', 'sonata']\n",
      "차는 k9\n",
      "k9\n",
      "차는 genesis\n",
      "genesis\n",
      "차는 sonata\n",
      "sonata\n",
      "차는 canival\n",
      "canival\n"
     ]
    }
   ],
   "source": [
    "lst = ['k9', 'genesis', 'sonata', 'canival']\n",
    "print(lst[1:3]) #slice 시작은 닫힘 끝은 열림\n",
    "for car in lst : ##loop block\n",
    "   print(f'차는 {car}')\n",
    "   print(car)\n"
   ]
  },
  {
   "cell_type": "code",
   "execution_count": 4,
   "metadata": {},
   "outputs": [
    {
     "name": "stdout",
     "output_type": "stream",
     "text": [
      "0\n",
      "1\n",
      "2\n",
      "3\n",
      "4\n",
      "<class 'range'>\n",
      "5\n"
     ]
    }
   ],
   "source": [
    "for value in range(5):\n",
    "   print(value)\n",
    "rng = range(1, 4)\n",
    "print(type(rng))\n",
    "numbers = list(range(1, 6))\n",
    "print(len(numbers))"
   ]
  },
  {
   "cell_type": "code",
   "execution_count": 10,
   "metadata": {},
   "outputs": [
    {
     "name": "stdout",
     "output_type": "stream",
     "text": [
      "[0, 1, 2, 3, 4]\n"
     ]
    }
   ],
   "source": [
    "num_list = list(range(5))\n",
    "print(num_list)"
   ]
  },
  {
   "cell_type": "code",
   "execution_count": 1,
   "metadata": {},
   "outputs": [
    {
     "name": "stdout",
     "output_type": "stream",
     "text": [
      "[1, 9, 25, 49, 81]\n",
      "[1, 25, 81]\n",
      "[81, 49, 25, 9, 1]\n",
      "[49, 9]\n",
      "1\n",
      "9\n",
      "25\n"
     ]
    }
   ],
   "source": [
    "squares = [value**2 for value in range(1, 11, 2)]\n",
    "print(squares)\n",
    "print(squares[::2]) # 마지막 2씩 step\n",
    "print(squares[::-1]) #거꾸로 출력\n",
    "print(squares[-2::-2])\n",
    "\n",
    "for v in squares[:3]:\n",
    "   print(v)\n"
   ]
  },
  {
   "cell_type": "code",
   "execution_count": 2,
   "metadata": {},
   "outputs": [
    {
     "name": "stdout",
     "output_type": "stream",
     "text": [
      "원본 리스트 l: [1, 2, 3, 4]\n",
      "참조한 리스트 la: [1, 2, 3, 4]\n",
      "복사된 리스트 lb: [1, 2, 3]\n",
      "\n",
      "튜플 t :  (1, 2, 3)\n",
      "\n",
      "튜플 t1 :  (1, 2, 3)\n",
      "튜플 t[0] :  4\n",
      "i = 0, value = 10\n",
      "i = 1, value = 11\n",
      "i = 2, value = 30\n"
     ]
    }
   ],
   "source": [
    "# 리스트 복사하기 (얕은 복사)\n",
    "l = [1, 2, 3]\n",
    "la = l  # la는 l의 참조, 같은 메모리 주소를 가리킴\n",
    "lb = l[:]  # lb는 l의 복사본, 서로 다른 메모리 주소\n",
    "\n",
    "# 리스트에 값 추가하기\n",
    "l.append(4)\n",
    "\n",
    "print(\"원본 리스트 l:\", l)       # [1, 2, 3, 4]\n",
    "print(\"참조한 리스트 la:\", la)   # [1, 2, 3, 4] (la는 l과 동일한 참조)\n",
    "print(\"복사된 리스트 lb:\", lb)   # [1, 2, 3] (lb는 독립적인 리스트)\n",
    "\n",
    "# 튜플 (immutable)\n",
    "t = (1, 2, 3)\n",
    "t1 = 1, 2, 3 #튜플은 () 생략 가능\n",
    "# t[0] = 10  # 에러: 튜플은 불변(immutable)하기 때문에 요소를 변경할 수 없음\n",
    "\n",
    "print(\"\\n튜플 t : \", t)  # (1, 2, 3)\n",
    "print(type(t))\n",
    "print(\"\\n튜플 t1 : \", t1)  # (1, 2, 3)\n",
    "t = 4, 5, 6, 7\n",
    "print('튜플 t[0] : ', t[0])\n",
    "lst = [10, 20, 30]\n",
    "lst[1] = 11 #list는 mutable\n",
    "for i, v in enumerate(lst):\n",
    "    print(f'i = {i}, value = {v}') #여기서 i, v가 튜플의 형태로 전달된다"
   ]
  },
  {
   "cell_type": "code",
   "execution_count": 31,
   "metadata": {},
   "outputs": [
    {
     "name": "stdout",
     "output_type": "stream",
     "text": [
      "[99, 8, 7, 6, 5, 4, 3, 2, 1, 0]\n",
      "[0, 1, 2, 3, 4, 5, 6, 7, 8, 99]\n",
      "[11, 1, 2, 3, 4, 5, 6, 7, 8, 99]\n"
     ]
    }
   ],
   "source": [
    "# 리스트[start:stop:step]\n",
    "# start: 시작 인덱스 (포함)\n",
    "# stop: 끝 인덱스 (포함되지 않음)\n",
    "# step: 인덱스 증가 값 (기본값은 1)\n",
    "numbers = [0, 1, 2, 3, 4, 5, 6, 7, 8, 9]\n",
    "# 리스트를 뒤집기\n",
    "numbers.reverse()\n",
    "reversed_list = numbers\n",
    "reversed_list[0] = 99\n",
    "print(reversed_list)\n",
    "numbers.reverse()\n",
    "print(numbers)\n",
    "numbers2 = numbers\n",
    "numbers2[0] = 11\n",
    "print(numbers)"
   ]
  },
  {
   "cell_type": "code",
   "execution_count": 1,
   "metadata": {},
   "outputs": [
    {
     "name": "stdout",
     "output_type": "stream",
     "text": [
      "[[1, 2, 3, 4, 5, 6, 7, 8], [9, 10, 11, 12, 13, 14, 15, 16], [17, 18, 19, 20, 21, 22, 23, 24], [25, 26, 27, 28, 29, 30, 31, 32], [33, 34, 35, 36, 37, 38, 39, 40]]\n"
     ]
    }
   ],
   "source": [
    "array = [[] for i in range(5)]  \n",
    "for i in range(5):  \n",
    "    for j in range(1, 9):  \n",
    "        array[i].append(j+8*i)  \n",
    "\n",
    "print(array)"
   ]
  },
  {
   "cell_type": "markdown",
   "metadata": {},
   "source": [
    "슬라이싱 예제"
   ]
  },
  {
   "cell_type": "code",
   "execution_count": 30,
   "metadata": {},
   "outputs": [
    {
     "name": "stdout",
     "output_type": "stream",
     "text": [
      "[0]\n"
     ]
    }
   ],
   "source": [
    "matrix = [[0, 1, 2], [3, 4, 5], [6, 7, 8]]\n",
    "\n",
    "print(matrix[0][:1])\n"
   ]
  },
  {
   "cell_type": "code",
   "execution_count": 17,
   "metadata": {},
   "outputs": [
    {
     "name": "stdout",
     "output_type": "stream",
     "text": [
      "\n",
      "리스트 슬라이싱 : \n",
      "[0, 1, 2]\n",
      "[3, 4, 5]\n",
      "[6, 7, 8]\n",
      "\n",
      "행 역순 출력 : \n",
      "[6, 7, 8]\n",
      "[3, 4, 5]\n",
      "[0, 1, 2]\n",
      "\n",
      "열 역순 출력 : \n",
      "[2, 1, 0]\n",
      "[5, 4, 3]\n",
      "[8, 7, 6]\n",
      "[2]\n",
      "\n",
      "파이썬 예외처리\n",
      "에러 발생: list indices must be integers or slices, not tuple\n",
      "\n",
      "list와 tuple\n",
      "[5, 2]\n",
      "<class 'int'>\n",
      "<class 'int'>\n",
      "10\n",
      "\n",
      "Array 활용\n",
      "array('i', [1, 2, 3])\n",
      "5\n",
      "\n",
      "함수 활용 - def\n",
      "a= 22, b = 11\n",
      "10 20 30\n"
     ]
    }
   ],
   "source": [
    "# 슬라이싱 예제 - 리스트는 [::] 형식만 지원\n",
    "matrix = [[0, 1, 2], [3, 4, 5], [6, 7, 8]]\n",
    "\n",
    "# 리스트 슬라이싱 (정상)\n",
    "print(\"\\n리스트 슬라이싱 : \")\n",
    "for row in matrix:\n",
    "   print(row)\n",
    "# 행을 역순으로 출력\n",
    "print(\"\\n행 역순 출력 : \")\n",
    "matrix1 = matrix[::-1]\n",
    "for row in matrix1:\n",
    "   print(row)\n",
    "\n",
    "# 열을 역순으로 출력\n",
    "print(\"\\n열 역순 출력 : \")\n",
    "matrix2 = matrix[:]\n",
    "for i in range(len(matrix2)):\n",
    "    matrix2[i].reverse()\n",
    "    print(matrix2[i])\n",
    "\n",
    "#print(matrix[:1, :1])을 구현하는 리스트 슬라이싱\n",
    "# 첫 번째 행에서 첫 번째 열만 슬라이싱 (== matrix[:1, :1])\n",
    "print(matrix[0][:1])\n",
    "\n",
    "# 잘못된 슬라이싱 시도 - 튜플로 인식되는 경우\n",
    "print('\\n파이썬 예외처리')\n",
    "try:\n",
    "    print(matrix[::-1,::-1])  # 잘못된 사용, TypeError 발생 슬라이싱 시에 , 지원 X / numpy에서는 가능\n",
    "except TypeError as e:\n",
    "    print(\"에러 발생:\", e)\n",
    "\n",
    "print('\\nlist와 tuple')\n",
    "lst1 = [a,b] = [1,2]\n",
    "tpl1 = (c,d) = (3,4)\n",
    "lst1[0] = 5\n",
    "#tpl1[0] = 7\n",
    "print(lst1)\n",
    "print(type(lst1[0]))\n",
    "print(type(tpl1[0]))\n",
    "num = range(10)\n",
    "type(num)\n",
    "num\n",
    "### tuple\n",
    "tup = 10,20,30,40\n",
    "#tup[0] = 11\n",
    "print(tup[0])\n",
    "\n",
    "print('\\nArray 활용')\n",
    "import array ## 파이썬의 배열\n",
    "my_array = array.array('i', [1, 2, 3])  # 'i'는 정수(int)를 의미\n",
    "# 1차원 배열을 리스트로 묶어서 2차원 배열처럼 사용\n",
    "row1 = array.array('i', [1, 2, 3])\n",
    "row2 = array.array('i', [4, 5, 6])\n",
    "row3 = array.array('i', [7, 8, 9])\n",
    "\n",
    "matrix = [row1, row2, row3]  # 리스트로 2차원 배열처럼 표현\n",
    "\n",
    "# 2차원 배열처럼 접근\n",
    "print(matrix[0])     # 첫 번째 행 출력: [1, 2, 3]\n",
    "print(matrix[1][1])  # 두 번째 행의 두 번째 값 출력: 5\n",
    "#matrix[:1,:2] ##  리스트 인덱스는 튜플 사용 안됨\n",
    "\n",
    "print('\\n함수 활용 - def')\n",
    "a,b,c = 10,20,30\n",
    "a,b = 11,22\n",
    "a,b = b, a\n",
    "print(f\"a= {a}, b = {b}\")\n",
    "def test():\n",
    "    return 10,20,30\n",
    "\n",
    "x,y,z = test()\n",
    "print(x, y, z)"
   ]
  },
  {
   "cell_type": "code",
   "execution_count": 63,
   "metadata": {},
   "outputs": [
    {
     "name": "stdout",
     "output_type": "stream",
     "text": [
      "원본 행렬:\n",
      "[1, 2, 3, 4, 5]\n",
      "[6, 7, 8, 9, 10]\n",
      "[11, 12, 13, 14, 15]\n",
      "\n",
      "전치 행렬:\n",
      "[1, 6, 11]\n",
      "[2, 7, 12]\n",
      "[3, 8, 13]\n",
      "[4, 9, 14]\n",
      "[5, 10, 15]\n"
     ]
    }
   ],
   "source": [
    "# 3x5 행렬 생성\n",
    "matrix = [\n",
    "    [1, 2, 3, 4, 5],\n",
    "    [6, 7, 8, 9, 10],\n",
    "    [11, 12, 13, 14, 15]\n",
    "]\n",
    "\n",
    "print(\"원본 행렬:\")\n",
    "for row in matrix :\n",
    "   print(row)\n",
    "\n",
    "#전치 행렬 교수님 코드\n",
    "def transposingMatrix(matrix):\n",
    "    transposeMatrix = [[row[col] for row in matrix] for col in range(len(matrix[0]))] #바깥쪽 for가 위쪽에 적힌다고 생각\n",
    "    return transposeMatrix\n",
    "\n",
    "# 전치 행렬 (행과 열을 뒤바꿈)\n",
    "def transpose(matrix):\n",
    "    transpose_matrix = []\n",
    "    row_num = len(matrix)\n",
    "    col_num = len(matrix[0])\n",
    "    for j in range(col_num):\n",
    "        row = []\n",
    "        for i in range(row_num):\n",
    "            row.append(matrix[i][j])\n",
    "        transpose_matrix.append(row)\n",
    "    return transpose_matrix\n",
    "\n",
    "print(\"\\n전치 행렬:\")\n",
    "for row in transpose(matrix) :\n",
    "   print(row)"
   ]
  },
  {
   "cell_type": "code",
   "execution_count": 60,
   "metadata": {},
   "outputs": [
    {
     "name": "stdout",
     "output_type": "stream",
     "text": [
      "[95, 53, 79, 41, 1, 59, 47, 26, 64]\n",
      "[59, 11, 18, 46, 91, 99, 92, 1, 80]\n",
      "[53, 98, 72, 10, 92, 86, 87, 67, 78]\n",
      "[80, 65, 10, 38, 5, 46, 31, 75, 81]\n",
      "[43, 41, 18, 9, 93, 50, 42, 48, 1]\n",
      "[33, 41, 46, 48, 39, 27, 30, 55, 77]\n",
      "[88, 50, 37, 64, 40, 74, 44, 53, 88]\n",
      "\n",
      "결과 행렬 (최대 값부터 3번째 큰 값까지) : \n",
      "[95, 79, 64]\n",
      "[99, 92, 91]\n",
      "[98, 92, 87]\n",
      "[81, 80, 75]\n",
      "[93, 50, 48]\n",
      "[77, 55, 48]\n",
      "[88, 88, 74]\n",
      "\n",
      "결과 행렬의 전치 : \n",
      "[95, 99, 98, 81, 93, 77, 88]\n",
      "[79, 92, 92, 80, 50, 55, 88]\n",
      "[64, 91, 87, 75, 48, 48, 74]\n"
     ]
    }
   ],
   "source": [
    "import random\n",
    "\n",
    "# 행렬의 크기 정의\n",
    "rows, cols = 7, 9\n",
    "\n",
    "# 2차원 행렬을 난수로 초기화\n",
    "matrix = []\n",
    "for i in range(rows):\n",
    "   matrix.append(random.choices(range(1, 100), k = cols))\n",
    "\n",
    "#교수님 코드\n",
    "matrix2 = [[random.randrange(1, 100) for _ in range(cols)] for _ in range(rows)]\n",
    "\n",
    "\n",
    "# 행렬 출력\n",
    "# print(row for row in matrix)\n",
    "for row in matrix:\n",
    "   print(row)\n",
    "\n",
    "# 각 행에서 최대 값부터 3번째 큰 값까지 순서대로 행렬 만들기\n",
    "result_matrix = []\n",
    "\n",
    "for row in matrix:\n",
    "   # 행을 정렬하여 최대 값부터 작은 값으로 정렬\n",
    "   row.sort(reverse=True)\n",
    "    \n",
    "   # 최대 값부터 3번째 큰 값까지 가져오기\n",
    "   result_row = row[:3]\n",
    "        \n",
    "   # 결과 행렬에 추가\n",
    "   result_matrix.append(result_row)\n",
    "\n",
    "\n",
    "# 결과 행렬 출력\n",
    "print(\"\\n결과 행렬 (최대 값부터 3번째 큰 값까지) : \")\n",
    "for row in result_matrix:\n",
    "   print(row)\n",
    "\n",
    "#결과 행렬의 전치행렬\n",
    "print(\"\\n결과 행렬의 전치 : \")\n",
    "for row in transpose(result_matrix) :\n",
    "   print(row)"
   ]
  },
  {
   "cell_type": "markdown",
   "metadata": {},
   "source": [
    "행렬 덧셈, 곱셈"
   ]
  },
  {
   "cell_type": "code",
   "execution_count": 56,
   "metadata": {},
   "outputs": [
    {
     "name": "stdout",
     "output_type": "stream",
     "text": [
      "[[39, 10, 16, 93, 41, 11, 12], [90, 67, 76, 36, 3, 27, 74], [21, 25, 36, 37, 89, 89, 77], [69, 38, 8, 76, 52, 87, 56], [24, 45, 99, 79, 41, 11, 38]]\n",
      "[[26, 84, 40, 30, 23, 81, 28], [87, 23, 92, 16, 57, 70, 68], [3, 79, 14, 62, 19, 22, 90], [36, 12, 99, 63, 1, 38, 49], [54, 84, 91, 69, 58, 35, 23]]\n",
      "[[65, 94, 56, 123, 64, 92, 40], [177, 90, 168, 52, 60, 97, 142], [24, 104, 50, 99, 108, 111, 167], [105, 50, 107, 139, 53, 125, 105], [78, 129, 190, 148, 99, 46, 61]]\n"
     ]
    }
   ],
   "source": [
    "row, col = 5, 7 #튜플 사용\n",
    "matrix1 = [[random.randrange(1, 100) for _ in range(col)] for _ in range(row)] #난수 사용 초기화\n",
    "matrix2 = [[random.randrange(1, 100) for _ in range(col)] for _ in range(row)]\n",
    "\n",
    "## 행렬 덧셈\n",
    "matrixSum = [[0 for _ in range(col)] for _ in range(row)]\n",
    "for i in range(row):\n",
    "   for j in range(col):\n",
    "      matrixSum[i][j] = matrix1[i][j] + matrix2[i][j]\n",
    "\n",
    "print(matrix1)\n",
    "print(matrix2)\n",
    "print(matrixSum)\n",
    "\n",
    "## 행렬 곱셈"
   ]
  },
  {
   "cell_type": "code",
   "execution_count": 64,
   "metadata": {},
   "outputs": [
    {
     "name": "stdout",
     "output_type": "stream",
     "text": [
      "[26, 83, 67, 60, 72, 29, 84, 38, 30]\n",
      "[66, 19, 94, 2, 38, 57, 96, 48, 25]\n",
      "[18, 55, 88, 47, 10, 79, 20, 55, 77]\n",
      "[29, 69, 2, 76, 30, 62, 9, 1, 53]\n",
      "[84, 4, 69, 16, 66, 12, 11, 69, 68]\n",
      "[74, 80, 35, 75, 5, 89, 69, 8, 47]\n",
      "[82, 15, 85, 92, 98, 79, 92, 16, 65]\n",
      "\n",
      "각 열의 큰 순서대로 3번째 수까지 이용해서 행렬 만들기\n",
      "[84, 82, 74]\n",
      "[83, 80, 69]\n",
      "[94, 88, 85]\n",
      "[92, 76, 75]\n",
      "[98, 72, 66]\n",
      "[89, 79, 79]\n",
      "[96, 92, 84]\n",
      "[69, 55, 48]\n",
      "[77, 68, 65]\n",
      "\n",
      "결과 행렬 전치\n",
      "[84, 83, 94, 92, 98, 89, 96, 69, 77]\n",
      "[82, 80, 88, 76, 72, 79, 92, 55, 68]\n",
      "[74, 69, 85, 75, 66, 79, 84, 48, 65]\n"
     ]
    }
   ],
   "source": [
    "import random\n",
    "\n",
    "# 행렬의 크기 정의\n",
    "rows, cols = 7, 9\n",
    "\n",
    "matrix = [[random.randrange(1, 100) for _ in range(cols)] for _ in range(rows)]\n",
    "\n",
    "\n",
    "# 행렬 출력\n",
    "# print(row for row in matrix)\n",
    "for row in matrix:\n",
    "   print(row)\n",
    "\n",
    "# 각 열에서 최대 값부터 3번째 큰 값까지 순서대로 행렬 만들기\n",
    "print('\\n각 열의 큰 순서대로 3번째 수까지 이용해서 행렬 만들기')\n",
    "transposeMatrix = [[row[col] for row in matrix] for col in range(len(matrix[0]))]\n",
    "\n",
    "result_matrix = []\n",
    "for row in transposeMatrix:\n",
    "   row.sort(reverse=True)\n",
    "   result_row = row[:3]\n",
    "   result_matrix.append(result_row)\n",
    "\n",
    "for row in result_matrix:\n",
    "   print(row)\n",
    "\n",
    "print('\\n결과 행렬 전치')\n",
    "for row in transposingMatrix(result_matrix):\n",
    "   print(row)\n"
   ]
  }
 ],
 "metadata": {
  "kernelspec": {
   "display_name": "Python 3",
   "language": "python",
   "name": "python3"
  },
  "language_info": {
   "codemirror_mode": {
    "name": "ipython",
    "version": 3
   },
   "file_extension": ".py",
   "mimetype": "text/x-python",
   "name": "python",
   "nbconvert_exporter": "python",
   "pygments_lexer": "ipython3",
   "version": "3.9.13"
  }
 },
 "nbformat": 4,
 "nbformat_minor": 2
}
