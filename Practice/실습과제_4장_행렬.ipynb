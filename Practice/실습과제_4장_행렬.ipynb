{
 "cells": [
  {
   "cell_type": "markdown",
   "metadata": {},
   "source": [
    "실습과제4_1 2차원 행렬 난수 초기화 > 전치행렬 만들기 출력"
   ]
  },
  {
   "cell_type": "code",
   "execution_count": 3,
   "metadata": {},
   "outputs": [
    {
     "name": "stdout",
     "output_type": "stream",
     "text": [
      "[[9, 65, 60, 80, 27], [57, 27, 33, 36, 14], [66, 19, 95, 26, 14]]\n",
      "원본 행렬 : \n",
      "[9, 65, 60, 80, 27]\n",
      "[57, 27, 33, 36, 14]\n",
      "[66, 19, 95, 26, 14]\n",
      "\n",
      "전치 행렬 : \n",
      "[9, 57, 66]\n",
      "[65, 27, 19]\n",
      "[60, 33, 95]\n",
      "[80, 36, 26]\n",
      "[27, 14, 14]\n"
     ]
    }
   ],
   "source": [
    "import random\n",
    "# (3, 5) 크기의 2차원 배열 생성: 3행 5열\n",
    "rows, cols = (3, 5)\n",
    "matrix = [[random.randrange(1, 100) for _ in range(cols)] for _ in range(rows)]\n",
    "\n",
    "# 리스트 컴프리헨션과 range()를 사용하여 2차원 배열 만들기\n",
    "## 난수를 사용하여 2차원 배열 만들기\n",
    "print(matrix)\n",
    "\n",
    "print(\"원본 행렬 : \")\n",
    "for row in matrix:\n",
    "   print(row)\n",
    "\n",
    "    \n",
    "# 전치 행렬 (행과 열을 뒤바꿈)\n",
    "print(\"\\n전치 행렬 : \")\n",
    "trans_matrix = [[row[col] for row in matrix] for col in range(len(matrix[0]))]\n",
    "for row in trans_matrix:\n",
    "   print(row)\n"
   ]
  },
  {
   "cell_type": "markdown",
   "metadata": {},
   "source": [
    "실습과제4_2 2차원 행렬의 행과 열을 모두 반전 시키기 > 행을 먼저 역순으로 만든 다음에 열도 역순으로 만든다 "
   ]
  },
  {
   "cell_type": "code",
   "execution_count": 5,
   "metadata": {},
   "outputs": [
    {
     "name": "stdout",
     "output_type": "stream",
     "text": [
      "원본 행렬 : \n",
      "[27, 80, 60, 65, 9]\n",
      "[14, 36, 33, 27, 57]\n",
      "[14, 26, 95, 19, 66]\n",
      "\n",
      "행과 열이 모두 반전된 2차원 배열:\n",
      "[66, 19, 95, 26, 14]\n",
      "[57, 27, 33, 36, 14]\n",
      "[9, 65, 60, 80, 27]\n"
     ]
    }
   ],
   "source": [
    "# 행을 반전시키고, 각 행의 열도 반전시키기\n",
    "\n",
    "print(\"원본 행렬 : \")\n",
    "for row in matrix:\n",
    "   print(row)\n",
    "\n",
    "reversed_matrix = []\n",
    "for row in matrix:\n",
    "    row.reverse()\n",
    "    reversed_matrix.insert(0, row)\n",
    "\n",
    "print(\"\\n행과 열이 모두 반전된 2차원 배열:\")\n",
    "for row in reversed_matrix:\n",
    "    print(row)"
   ]
  },
  {
   "cell_type": "markdown",
   "metadata": {},
   "source": [
    "실습과제4_3 2차원 행렬 난수 초기화 > 각 행의 최대값, 다음 최대값, 다다음 최대값을 뽑아 새로운 행렬에 저장한 다음에 출력"
   ]
  },
  {
   "cell_type": "code",
   "execution_count": 8,
   "metadata": {},
   "outputs": [
    {
     "name": "stdout",
     "output_type": "stream",
     "text": [
      "원본 행렬 : \n",
      "[88, 97, 83, 23, 8, 15, 72]\n",
      "[39, 93, 60, 74, 51, 49, 44]\n",
      "[93, 84, 13, 56, 3, 32, 30]\n",
      "[84, 43, 33, 27, 2, 84, 10]\n",
      "[31, 99, 14, 83, 43, 5, 34]\n",
      "\n",
      "결과 행렬 (최대 값부터 3번째 큰 값까지):\n",
      "[97, 88, 83]\n",
      "[93, 74, 60]\n",
      "[93, 84, 56]\n",
      "[84, 84, 43]\n",
      "[99, 83, 43]\n"
     ]
    }
   ],
   "source": [
    "import random\n",
    "\n",
    "# 행렬의 크기 정의 (5x7 행렬)\n",
    "rows, cols = 5, 7\n",
    "\n",
    "# 2차원 행렬을 난수로 초기화\n",
    "matrix = [[random.randrange(1, 100) for _ in range(cols)] for _ in range(rows)]\n",
    "\n",
    "# 행렬 출력\n",
    "print(\"원본 행렬 : \")\n",
    "for row in matrix:\n",
    "   print(row)\n",
    "\n",
    "# 각 행에서 최대 값부터 3번째 큰 값까지 순서대로 행렬 만들기\n",
    "result_matrix = []\n",
    "\n",
    "for row in matrix:\n",
    "    # 행을 정렬하여 최대 값부터 작은 값으로 정렬\n",
    "    row.sort(reverse=True)\n",
    "    result_row = row[:3]\n",
    "    # 결과 행렬에 추가\n",
    "    result_matrix.append(result_row)\n",
    "\n",
    "# 결과 행렬 출력\n",
    "print(\"\\n결과 행렬 (최대 값부터 3번째 큰 값까지):\")\n",
    "for row in result_matrix:\n",
    "   print(row)\n",
    "\n"
   ]
  },
  {
   "cell_type": "markdown",
   "metadata": {},
   "source": [
    "실습과제4_4 2차원 행렬 난수 초기화 > 각 열의 최대값, 다음 최대값, 다다음 최대값을 뽑아 새로운 행렬에 저장한 다음에 출력"
   ]
  },
  {
   "cell_type": "code",
   "execution_count": 10,
   "metadata": {},
   "outputs": [
    {
     "name": "stdout",
     "output_type": "stream",
     "text": [
      "원본 행렬 : \n",
      "[44, 7, 89, 29, 70, 69, 97]\n",
      "[35, 77, 13, 58, 38, 88, 19]\n",
      "[99, 33, 94, 10, 31, 23, 87]\n",
      "[46, 68, 76, 66, 17, 21, 37]\n",
      "[29, 9, 94, 18, 61, 59, 55]\n",
      "\n",
      "결과 행렬 (최대 값부터 3번째 큰 값까지):\n",
      "[97, 89, 70]\n",
      "[88, 77, 58]\n",
      "[99, 94, 87]\n",
      "[76, 68, 66]\n",
      "[94, 61, 59]\n"
     ]
    }
   ],
   "source": [
    "import random\n",
    "\n",
    "# 행렬의 크기 정의 (5x7 행렬)\n",
    "rows, cols = 5, 7\n",
    "\n",
    "# 2차원 행렬을 난수로 초기화\n",
    "matrix = [[random.randrange(1, 100) for _ in range(cols)] for _ in range(rows)]\n",
    "\n",
    "# 행렬 출력\n",
    "print(\"원본 행렬 : \")\n",
    "for row in matrix:\n",
    "   print(row)\n",
    "\n",
    "\n",
    "# 각 열에서 최대 값부터 3번째 큰 값까지 순서대로 행렬 만들기\n",
    "trans_matrix = [[row[col] for row in matrix] for col in range(len(matrix[0]))]\n",
    "result_matrix = []\n",
    "\n",
    "for row in matrix:\n",
    "    # 행을 정렬하여 최대 값부터 작은 값으로 정렬\n",
    "    row.sort(reverse=True)\n",
    "\n",
    "    # 최대 값부터 3번째 큰 값까지 가져오기\n",
    "    result_row = row[:3]\n",
    "    \n",
    "    # 결과 행렬에 추가\n",
    "    result_matrix.append(result_row)\n",
    "\n",
    "# 결과 행렬 출력\n",
    "print(\"\\n결과 행렬 (최대 값부터 3번째 큰 값까지):\")\n",
    "for row in result_matrix:\n",
    "    print(row)"
   ]
  },
  {
   "cell_type": "markdown",
   "metadata": {},
   "source": [
    "실습과제4_5 2차원 행렬 난수 초기화 > 두 행렬의 덧셈 결과를 새로운 행렬을 만들어 저장 > 출력"
   ]
  },
  {
   "cell_type": "code",
   "execution_count": 4,
   "metadata": {},
   "outputs": [
    {
     "name": "stdout",
     "output_type": "stream",
     "text": [
      "[71, 84, 19, 83, 30, 21, 39]\n",
      "[95, 22, 81, 49, 32, 85, 70]\n",
      "[89, 76, 27, 97, 94, 21, 49]\n",
      "[43, 19, 23, 77, 92, 41, 6]\n",
      "[95, 66, 61, 66, 12, 54, 49]\n",
      "[91, 70, 83, 21, 16, 52, 77]\n",
      "[4, 9, 79, 62, 85, 77, 77]\n",
      "[32, 50, 10, 66, 46, 27, 50]\n",
      "[50, 61, 88, 31, 39, 75, 80]\n",
      "[67, 10, 68, 36, 35, 22, 78]\n",
      "행렬 덧셈 결과:\n",
      "[162, 154, 102, 104, 46, 73, 116]\n",
      "[99, 31, 160, 111, 117, 162, 147]\n",
      "[121, 126, 37, 163, 140, 48, 99]\n",
      "[93, 80, 111, 108, 131, 116, 86]\n",
      "[162, 76, 129, 102, 47, 76, 127]\n"
     ]
    }
   ],
   "source": [
    "import random\n",
    "\n",
    "# 두 행렬 (5,7)을 난수를 사용하여 초기화\n",
    "matrix1 = []\n",
    "\n",
    "matrix2 = []\n",
    "\n",
    "rows, cols = 5, 7\n",
    "\n",
    "matrix1 = [[random.randrange(1, 100) for _ in range(cols)] for _ in range(rows)]\n",
    "matrix2 = [[random.randrange(1, 100) for _ in range(cols)] for _ in range(rows)]\n",
    "\n",
    "for row in matrix1:\n",
    "   print(row)\n",
    "for row in matrix2:\n",
    "   print(row)\n",
    "\n",
    "# 결과를 저장할 행렬을 0으로 초기화\n",
    "result_add = [[0 for _ in range(cols)] for _ in range(rows)]\n",
    "\n",
    "# 각 요소에 대해 더하기 연산 수행\n",
    "for i in range(rows):\n",
    "   for j in range(cols):\n",
    "      result_add[i][j] = matrix1[i][j] + matrix2[i][j]\n",
    "\n",
    "print(\"행렬 덧셈 결과:\")\n",
    "for row in result_add:\n",
    "    print(row)"
   ]
  },
  {
   "cell_type": "markdown",
   "metadata": {},
   "source": [
    "실습과제4_6 2차원 행렬 난수 초기화 > 두 행렬의 곱셈 결과를 새로운 행렬을 만들어 저장 > 출력"
   ]
  },
  {
   "cell_type": "code",
   "execution_count": 9,
   "metadata": {},
   "outputs": [
    {
     "name": "stdout",
     "output_type": "stream",
     "text": [
      "행렬 곱셈 결과:\n",
      "[136, 226, 246, 265, 179, 167, 127, 156, 225]\n",
      "[95, 226, 171, 213, 127, 144, 101, 186, 171]\n",
      "[95, 183, 201, 203, 159, 146, 111, 128, 177]\n",
      "[148, 253, 258, 276, 202, 199, 132, 159, 227]\n",
      "[126, 235, 256, 250, 184, 185, 109, 149, 238]\n"
     ]
    }
   ],
   "source": [
    "# 두 행렬의 곱셈\n",
    "# 행렬1 (5,7), 행렬2 (7,9)을 난수를 사용하여 초기화\n",
    "matrix1 = []\n",
    "rows1, cols1 = 5, 7\n",
    "matrix2 = []\n",
    "rows2, cols2 = 7, 9\n",
    "\n",
    "matrix1 = [[random.randrange(1, 10) for _ in range(cols1)] for _ in range(rows1)]\n",
    "matrix2 = [[random.randrange(1, 10) for _ in range(cols2)] for _ in range(rows2)]\n",
    "\n",
    "\n",
    "# 결과를 저장할 행렬을 0으로 초기화\n",
    "result_multiply = [[0 for _ in range(cols2)] for _ in range(rows1)]\n",
    "\n",
    "# 각 요소에 대해 곱셈 연산 수행\n",
    "for i in range(rows1):\n",
    "    for j in range(cols2):\n",
    "        for e in range(cols1):\n",
    "            result_multiply[i][j] += matrix1[i][e]*matrix2[e][j]\n",
    "\n",
    "print(\"행렬 곱셈 결과:\")\n",
    "for row in result_multiply:\n",
    "    print(row)"
   ]
  }
 ],
 "metadata": {
  "kernelspec": {
   "display_name": "Python 3",
   "language": "python",
   "name": "python3"
  },
  "language_info": {
   "codemirror_mode": {
    "name": "ipython",
    "version": 3
   },
   "file_extension": ".py",
   "mimetype": "text/x-python",
   "name": "python",
   "nbconvert_exporter": "python",
   "pygments_lexer": "ipython3",
   "version": "3.9.13"
  }
 },
 "nbformat": 4,
 "nbformat_minor": 2
}
