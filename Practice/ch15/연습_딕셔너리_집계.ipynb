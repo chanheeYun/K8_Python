{
 "cells": [
  {
   "cell_type": "code",
   "execution_count": 7,
   "metadata": {},
   "outputs": [
    {
     "name": "stdout",
     "output_type": "stream",
     "text": [
      "카테고리별 항목 갯수: {'fruits': 5, 'vegetables': 3, 'drinks': 2}\n",
      "카테고리 총 항목수: 10\n"
     ]
    }
   ],
   "source": [
    "# 딕셔너리 (key: 리스트)\n",
    "data = {\n",
    "    'fruits': ['apple', 'banana', 'orange', 'grape', 'pear'],\n",
    "    'vegetables': ['carrot', 'broccoli', 'spinach'],\n",
    "    'drinks': ['water', 'juice']\n",
    "}\n",
    "\n",
    "# 카테고리별 갯수를 저장할 딕셔너리를 만듬\n",
    "category_count = {}\n",
    "total = 0\n",
    "# 항목 갯수 집계\n",
    "for category, items in data.items():\n",
    "    # 카테고리별 갯수를 집계\n",
    "    category_count[category] = len(items)\n",
    "    # 카테고리들의 총 갯수를 집계\n",
    "    # total += category_count[category]\n",
    "total = sum(category_count.values())\n",
    "\n",
    "# 결과 출력\n",
    "print(\"카테고리별 항목 갯수:\", category_count)\n",
    "print(\"카테고리 총 항목수:\", total)"
   ]
  }
 ],
 "metadata": {
  "kernelspec": {
   "display_name": "Python 3",
   "language": "python",
   "name": "python3"
  },
  "language_info": {
   "codemirror_mode": {
    "name": "ipython",
    "version": 3
   },
   "file_extension": ".py",
   "mimetype": "text/x-python",
   "name": "python",
   "nbconvert_exporter": "python",
   "pygments_lexer": "ipython3",
   "version": "3.9.19"
  }
 },
 "nbformat": 4,
 "nbformat_minor": 2
}
