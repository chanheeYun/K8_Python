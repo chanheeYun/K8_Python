{
 "cells": [
  {
   "cell_type": "code",
   "execution_count": 1,
   "metadata": {},
   "outputs": [
    {
     "name": "stdout",
     "output_type": "stream",
     "text": [
      "<class 'dict'>\n",
      "yellow\n"
     ]
    }
   ],
   "source": [
    "# 파이썬 딕셔너리\n",
    "person = {\"name\": \"John\", \"age\": 30}\n",
    "print(type(person))\n",
    "person[\"city\"]=\"busan\"\n",
    "person['color']='yellow'\n",
    "print(person['color'])\n",
    "#print(person[0]) 딕셔너리는 순서가 없음 -> index 없음"
   ]
  },
  {
   "cell_type": "code",
   "execution_count": 6,
   "metadata": {},
   "outputs": [
    {
     "name": "stdout",
     "output_type": "stream",
     "text": [
      "{'id': 1, 'sname': 'hong', 'coding': 'java'}\n",
      "{'id': 1, 'sname': 'hong'}\n",
      "None\n"
     ]
    }
   ],
   "source": [
    "student={}\n",
    "student['id']=1\n",
    "student['sname']='hong'\n",
    "student['coding']='java'\n",
    "print(student)\n",
    "del student['coding']\n",
    "print(student)\n",
    "# print(student['name'])\n",
    "print(student.get('name'))"
   ]
  },
  {
   "cell_type": "code",
   "execution_count": 11,
   "metadata": {},
   "outputs": [
    {
     "name": "stdout",
     "output_type": "stream",
     "text": [
      "key = id, value = 1\n",
      "key = sname, value = hong\n",
      "key = coding, value = java\n",
      "key = id\n",
      "key = sname\n",
      "key = coding\n",
      "값 = 1\n",
      "값 = hong\n",
      "값 = java\n",
      "정렬::key = coding\n",
      "정렬::key = id\n",
      "정렬::key = sname\n",
      "{'id': 1, 'sname': 'hong', 'coding': 'java', 'skill': 'java'}\n",
      "집합::value = 1\n",
      "집합::value = java\n",
      "집합::value = hong\n"
     ]
    }
   ],
   "source": [
    "student={}\n",
    "student['id']=1\n",
    "student['sname']='hong'\n",
    "student['coding']='java'\n",
    "for k, v in student.items(): #key, value의 쌍을 튜플들의 리스트로 반환\n",
    "    print(\"key = {}, value = {}\".format(k, v))\n",
    "\n",
    "for k in student.keys():\n",
    "    print(\"key = {}\".format(k))\n",
    "    \n",
    "for k in student.values():\n",
    "    print(\"값 = {}\".format(k))\n",
    "    \n",
    "for k in sorted(student.keys()):\n",
    "    print(\"정렬::key = {}\".format(k))  \n",
    "    \n",
    "student['skill']='java' ## coding 과 별개로 저장\n",
    "print(student)\n",
    "for v in set(student.values()): ## value값이 set에 의해 중복 제거됨\n",
    "    print(\"집합::value = {}\".format(v))  "
   ]
  },
  {
   "cell_type": "markdown",
   "metadata": {},
   "source": [
    "딕셔너리들의 리스트 "
   ]
  },
  {
   "cell_type": "code",
   "execution_count": 17,
   "metadata": {},
   "outputs": [
    {
     "name": "stdout",
     "output_type": "stream",
     "text": [
      "학생 = {'id': 1, 'sname': 'hong', 'coding': 'java'}\n",
      "학생 = {'id': 2, 'sname': '김', 'coding': 'javascript'}\n",
      "학생 = {'id': 3, 'sname': 'hong', 'coding': 'java'}\n",
      "[{'id': 1, 'sname': 'hong', 'coding': 'java'}, {'id': 2, 'sname': '김', 'coding': 'javascript'}, {'id': 3, 'sname': 'hong', 'coding': 'java'}, {'id': 4, 'sname': 'lee', 'coding': 'python'}, {'id': 5, 'sname': 'lee', 'coding': 'python'}, {'id': 6, 'sname': 'lee', 'coding': 'python'}, {'id': 7, 'sname': 'lee', 'coding': 'python'}]\n",
      "학생 = {'id': 5, 'sname': 'lee', 'coding': 'python'}\n",
      "학생 = {'id': 4, 'sname': 'lee', 'coding': 'python'}\n",
      "학생 = {'id': 3, 'sname': 'hong', 'coding': 'python'}\n"
     ]
    }
   ],
   "source": [
    "student0 = {'id':1, 'sname':'hong', 'coding':'java'}\n",
    "student1 = {'id':2, 'sname':'김', 'coding':'javascript'}\n",
    "student2 = {'id':3, 'sname':'hong', 'coding':'java'}\n",
    "students = [student0,student1,student2]\n",
    "for student in students:\n",
    "    print(f\"학생 = {student}\")\n",
    "    \n",
    "for id in range(4,8):\n",
    "    new_student = {'id':id, 'sname': 'lee', 'coding':'python'}\n",
    "    students.append(new_student)\n",
    "    \n",
    "print(students)\n",
    "\n",
    "for student in students[4:1:-1]:\n",
    "    if student['sname'] == 'hong':\n",
    "        student['coding'] = 'python'\n",
    "    print(\"학생 = {}\".format(student))"
   ]
  },
  {
   "cell_type": "markdown",
   "metadata": {},
   "source": [
    "리스트를 포함하는 딕셔너리들의 리스트 "
   ]
  },
  {
   "cell_type": "code",
   "execution_count": 31,
   "metadata": {},
   "outputs": [
    {
     "name": "stdout",
     "output_type": "stream",
     "text": [
      "{'id': 5, 'sname': 'choi', 'coding': ['C++', 'c']}\n",
      "{'id': 3, 'sname': 'hong', 'coding': ['go', 'C++', 'javascript']}\n",
      "{'id': 1, 'sname': 'hong', 'coding': ['java', 'c', 'python']}\n",
      "id : 1\n",
      "sname : hong\n",
      "코딩 언어 = java\n",
      "코딩 언어 = c\n",
      "코딩 언어 = python\n",
      "\n",
      "\n",
      "id : 2\n",
      "sname : kim\n",
      "코딩 언어 = C++\n",
      "코딩 언어 = c\n",
      "\n",
      "\n",
      "id : 3\n",
      "sname : hong\n",
      "코딩 언어 = go\n",
      "코딩 언어 = C++\n",
      "코딩 언어 = javascript\n",
      "\n",
      "\n",
      "id : 4\n",
      "sname : lee\n",
      "코딩 언어 = java\n",
      "코딩 언어 = c\n",
      "코딩 언어 = python\n",
      "\n",
      "\n",
      "id : 5\n",
      "sname : choi\n",
      "코딩 언어 = C++\n",
      "코딩 언어 = c\n",
      "\n",
      "\n",
      "id : 6\n",
      "sname : yun\n",
      "코딩 언어 = go\n",
      "코딩 언어 = C++\n",
      "코딩 언어 = javascript\n",
      "\n",
      "\n",
      "id : 7\n",
      "sname : lee\n",
      "코딩 언어 = java\n",
      "코딩 언어 = javascriptc\n",
      "코딩 언어 = typescript\n",
      "\n",
      "\n",
      "id : 8\n",
      "sname : lee\n",
      "코딩 언어 = java\n",
      "코딩 언어 = javascriptc\n",
      "코딩 언어 = typescript\n",
      "\n",
      "\n",
      "id : 9\n",
      "sname : lee\n",
      "코딩 언어 = java\n",
      "코딩 언어 = javascriptc\n",
      "코딩 언어 = typescript\n",
      "\n",
      "\n"
     ]
    }
   ],
   "source": [
    "##교재 p.166\n",
    "student0 = {'id':1, 'sname':'hong', 'coding':['java','c','python']}\n",
    "student1 = {'id':2, 'sname':'kim', 'coding':['C++','c']}\n",
    "student2 = {'id':3, 'sname':'hong', 'coding':['go','C++','javascript']}\n",
    "student3 = {'id':4, 'sname':'lee', 'coding':['java','c','python']}\n",
    "student4 = {'id':5, 'sname':'choi', 'coding':['C++','c']}\n",
    "student5 = {'id':6, 'sname':'yun', 'coding':['go','C++','javascript']}\n",
    "students = [student0,student1,student2,student3,student4,student5]\n",
    "# 리스트의 딕셔너리 출력: for 문사용 > 역순 출력 > 0,2,4만 출력\n",
    "\n",
    "for i, std in enumerate(reversed(students)):\n",
    "    if i % 2 != 0:\n",
    "        print(std)\n",
    "\n",
    "\n",
    "for id in range(7, 10):\n",
    "    new_student = {'id':id, 'sname': 'lee', 'coding':['java','javascriptc','typescript']}\n",
    "    students.append(new_student)\n",
    "    \n",
    "for std in students:\n",
    "    for k, v in std.items():\n",
    "        if k == 'coding':\n",
    "            for i in std[k]:\n",
    "                print(f'코딩 언어 = {i}')\n",
    "        else:\n",
    "            print(f'{k} : {v}')\n",
    "    print('\\n')\n",
    "# 리스트이 딕셔너리 객체에 대하여 items()사용하여 key, value을 구한다.\n",
    "##key가 coding이면 각 value을 출력한다\n",
    "\n",
    "\n"
   ]
  },
  {
   "cell_type": "markdown",
   "metadata": {},
   "source": [
    "Nested dictionary(중첩 딕셔너리)"
   ]
  },
  {
   "cell_type": "code",
   "execution_count": 34,
   "metadata": {},
   "outputs": [
    {
     "name": "stdout",
     "output_type": "stream",
     "text": [
      "user1의 정보: {'name': 'John', 'age': 30, 'city': 'New York'}\n",
      "user2의 이름: Alice\n",
      "user1의 도시 : New York\n",
      "user2의 도시 : Los Angeles\n",
      "user3의 도시 : Chicago\n"
     ]
    }
   ],
   "source": [
    "# 중첩 딕셔너리 예제: 여러 사용자의 정보\n",
    "users = {\n",
    "    \"user1\": {\n",
    "        \"name\": \"John\",\n",
    "        \"age\": 30,\n",
    "        \"city\": \"New York\",\n",
    "    },\n",
    "    \"user2\": {\n",
    "        \"name\": \"Alice\",\n",
    "        \"age\": 25,\n",
    "        \"city\": \"Los Angeles\",\n",
    "    },\n",
    "    \"user3\": {\n",
    "        \"name\": \"Bob\",\n",
    "        \"age\": 35,\n",
    "        \"city\": \"Chicago\",\n",
    "    }\n",
    "}\n",
    "\n",
    "# 특정 사용자 정보 접근\n",
    "print(\"user1의 정보:\", users[\"user1\"])\n",
    "print(\"user2의 이름:\", users[\"user2\"][\"name\"])\n",
    "\n",
    "# 모든 사용자의 key, value에 대하여 \"user\"의 \"city\"를 찾는 코드를 작성한다\n",
    "for user, user_info in users.items():\n",
    "   print(f\"{user}의 도시 : {user_info['city']}\")\n"
   ]
  }
 ],
 "metadata": {
  "kernelspec": {
   "display_name": "Python 3",
   "language": "python",
   "name": "python3"
  },
  "language_info": {
   "codemirror_mode": {
    "name": "ipython",
    "version": 3
   },
   "file_extension": ".py",
   "mimetype": "text/x-python",
   "name": "python",
   "nbconvert_exporter": "python",
   "pygments_lexer": "ipython3",
   "version": "3.9.13"
  }
 },
 "nbformat": 4,
 "nbformat_minor": 2
}
