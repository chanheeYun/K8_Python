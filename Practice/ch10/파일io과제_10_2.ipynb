{
  "cells": [
    {
      "cell_type": "markdown",
      "metadata": {
        "id": "ZYJeA4fpcGNk"
      },
      "source": [
        "# Lab"
      ]
    },
    {
      "cell_type": "markdown",
      "metadata": {
        "id": "0AZqhmeccW7p"
      },
      "source": [
        "\n",
        "## 1. 미국 대통령에 관한 정보를 담은 파일을 읽고 이를 처리하는 프로그램을 작성하세요. 그로버 클리블랜드처럼 비연속적인 임기를 지낸 대통령들은 각각의 임기가 따로 나열되어 있습니다.\n",
        "\n",
        "* President 클래스를 작성하고, 대통령의 이름, 각 임기의 시작 및 종료 연도를 추출하는 메서드를 작성하세요. 또한, 대통령이 총 4년 이상을 재임했는지(연속적이든 아니든)를 확인하는 메서드를 작성하세요.\n",
        "\n",
        "* 현재 재임 중인 대통령(예: 조 바이든, 종료 연도가 없는 경우)의 처리를 포함해야 합니다.\n",
        "\n",
        "* 파일: https://github.com/dbwebb-se/vlinux/blob/master/example/grep/presidents.txt\n",
        "\n",
        "* 파일의 각 줄에는 대통령의 이름과 그들이 재임한 연도가 쉼표로 구분되어 나열되어 있습니다.\n",
        "\n",
        "### President 클래스\n",
        "\n",
        "* 생성자 (__init__): President 객체를 초기화하며 대통령의 이름을 저장하고 process_term 메서드를 사용하여 각 임기를 처리합니다. 임기의 목록은 문자열로 전달되며, 각 문자열은 \"1789-1797\" 또는 \"1885-1889, 1893-1897\"처럼 표현됩니다.\n",
        "\n",
        "> 힌트: 생성자에서 list comprehension을 사용하여 각 임기 문자열을 __process_term 메서드를 사용해 (start_year, end_year) 튜플로 변환하세요. 이렇게 하면 대통령의 임기 데이터를 쉽게 접근하고 조작할 수 있습니다.\n",
        "\n",
        "* __process_term 메서드: 대통령 임기를 나타내는 문자열(예: \"1789-1797\")을 받아 시작 및 종료 연도를 정수로 변환하는 튜플로 바꿉니다. 종료 연도가 없으면(예: 현재 대통령인 경우) 현재 연도를 할당합니다.\n",
        "\n",
        "> 힌트: 문자열 분할(term.split('-'))을 사용해 임기를 시작 연도와 종료 연도로 나누세요. 종료 연도가 없으면 datetime.now().year를 사용하여 현재 연도를 할당하세요. 이 메서드는 완료된 임기와 진행 중인 임기 모두를 처리할 수 있도록 합니다.\n",
        "\n",
        "* is_served_multiple 메서드: 대통령이 총 4년 이상 재임했는지 또는 여러 임기를 지냈는지 확인합니다. 모든 임기를 합산하여 총 재임 기간이 4년을 초과하는지 확인합니다.\n",
        "\n",
        "> 힌트: generator expression을 사용해 각 임기의 종료 연도와 시작 연도 사이의 차이를 합산하여 총 재임 기간을 계산하세요.\n",
        "\n",
        "### 함수\n",
        "\n",
        "read_presidents_from_file 함수: 파일에서 각 줄에 대통령의 이름과 재임 기간이 포함된 데이터를 읽고, President 객체의 목록을 생성합니다.\n",
        "\n",
        "> 힌트: split(', ', 1)을 사용해 이름과 임기를 분리하세요. 그런 다음 임기를 목록으로 나누고 President 생성자에 전달하세요. 파일이 없는 경우 try-except 블록을 사용하여 예외 처리를 하세요.\n"
      ]
    },
    {
      "cell_type": "code",
      "execution_count": 26,
      "metadata": {},
      "outputs": [
        {
          "name": "stdout",
          "output_type": "stream",
          "text": [
            "<class 'int'>\n",
            " 2020\n",
            "<class 'str'>\n"
          ]
        }
      ],
      "source": [
        "from datetime import datetime\n",
        "\n",
        "print(type(datetime.now().year))\n",
        "\n",
        "s, e = '2020-'.split('-')\n",
        "print(e, s)\n",
        "print(type(e))"
      ]
    },
    {
      "cell_type": "code",
      "execution_count": 41,
      "metadata": {},
      "outputs": [],
      "source": [
        "from datetime import datetime\n",
        "\n",
        "class President:\n",
        "    def __init__(self, name: str, terms: list):\n",
        "        self.name = name\n",
        "        self.terms = [self.__process_term(term) for term in terms]\n",
        "    \n",
        "    def __process_term(self, term: str):\n",
        "        start_year, end_year = term.split('-')\n",
        "        start_year = int(start_year)\n",
        "        if end_year == '': \n",
        "            end_year = datetime.now().year\n",
        "        else:\n",
        "            end_year = int(end_year)\n",
        "        return (start_year, end_year)\n",
        "\n",
        "    def is_served_multiple(self) -> bool:\n",
        "        total = sum(end - start for start, end in self.terms)\n",
        "        return total >= 4"
      ]
    },
    {
      "cell_type": "code",
      "execution_count": 42,
      "metadata": {
        "id": "WchTnVn0eCIh"
      },
      "outputs": [],
      "source": [
        "def read_presidents_from_file(file_path: str) -> list:\n",
        "    result = []\n",
        "    try:\n",
        "        with open(file_path, 'r') as file:\n",
        "            for line in file:\n",
        "                name, terms_str = line.strip().split(', ', 1)\n",
        "                terms = terms_str.split(', ')\n",
        "                president = next((p for p in result if p.name == name), None)\n",
        "                \n",
        "                if president:\n",
        "                    president.terms.extend(president._President__process_term(term) for term in terms)\n",
        "                else:\n",
        "                    result.append(President(name, terms))\n",
        "    except FileNotFoundError as e:\n",
        "        print(f'파일을 찾을 수 없습니다: {e}')\n",
        "    \n",
        "    return result       \n",
        "                \n",
        "            \n",
        "    # result = []\n",
        "    # file_content = open(file_path)\n",
        "    # for line in file_content:\n",
        "    #     name, terms = line.strip().split(', ')\n",
        "    #     p = President(name, terms)\n",
        "    #     result.append(p)\n",
        "    #     return result"
      ]
    },
    {
      "cell_type": "code",
      "execution_count": 44,
      "metadata": {
        "id": "19HbTZd5XI4i"
      },
      "outputs": [
        {
          "name": "stdout",
          "output_type": "stream",
          "text": [
            "37\n"
          ]
        }
      ],
      "source": [
        "presidents = read_presidents_from_file('aip_file_io\\presidents.txt')\n",
        "\n",
        "count = 0\n",
        "for president in presidents:\n",
        "    if president.is_served_multiple():\n",
        "        count += 1\n",
        "\n",
        "# assert count == 18\n",
        "print(count)"
      ]
    },
    {
      "cell_type": "markdown",
      "metadata": {
        "id": "mGbPfQJEc5pl"
      },
      "source": [
        "\n",
        "## 2. TextAnalyzer 클래스를 작성하세요. 이 클래스에는 word_frequency() 메서드가 있으며, 생성 시 제공되는 텍스트 파일을 읽고 파일에 있는 각 단어의 빈도를 반환합니다. 단어는 소문자로 변환되어야 하고, 구두점은 무시되어야 합니다. 파일을 찾지 못했을 경우의 예외 처리를 적절히 처리하세요.\n",
        "\n",
        "> 파일 URL: https://gist.github.com/phillipj/4944029\n",
        "\n",
        "\n",
        "# 클래스 TextAnalyzer\n",
        "\n",
        "* 생성자 (init): TextAnalyzer 클래스의 인스턴스를 초기화합니다. 이 생성자는 하나의 인자 file_path를 받으며, 이 인자는 분석할 텍스트 파일의 경로를 나타냅니다. 이 인자는 나중에 다른 메서드에서 사용될 수 있도록 인스턴스 변수로 저장됩니다.\n",
        "\n",
        "> 힌트: 클래스를 인스턴스화할 때, 유효한 파일 경로를 생성자에게 인자로 전달하는지 확인하세요. 이 파일 경로는 word_frequency 메서드에서 사용됩니다.\n",
        "\n",
        "* word_frequency(self): 텍스트 파일을 처리하여 파일 내의 각 단어를 빈도로 매핑하는 딕셔너리를 반환합니다. 이 메서드는 파일의 내용을 읽고, 모든 텍스트를 소문자로 변환하여 대소문자 구분 없는 비교를 보장하며, 구두점을 제거하여 실제 단어에 집중합니다. 그런 다음, 내용을 단어로 분리하고, 각 단어의 출현 빈도를 계산하여 딕셔너리에 저장합니다.\n",
        "\n",
        "> 힌트: 이 메서드는 파일을 읽고 분석하여 각 단어가 몇 번 등장했는지를 카운팅하는 역할을 합니다. 텍스트는 대소문자 구분 없이 처리되어야 하며, 구두점과 같은 불필요한 문자는 제거되어야 합니다. 메서드는 각 단어와 그에 해당하는 빈도를 포함하는 딕셔너리를 반환합니다. 또한, 파일이 존재하지 않을 경우를 처리하는 예외처리도 해야 합니다.\n",
        "\n",
        "> 구두점 제거\n",
        "```python\n",
        "words = ''.join([char if char.isalnum() or char.isspace() else ' ' for char in file_content]).split()\n"
      ]
    },
    {
      "cell_type": "code",
      "execution_count": 65,
      "metadata": {},
      "outputs": [
        {
          "name": "stdout",
          "output_type": "stream",
          "text": [
            "{'Alice': 396, 's': 195, 'Adventures': 3, 'in': 357, 'Wonderland': 3, 'ALICE': 3, 'S': 7, 'ADVENTURES': 1, 'IN': 2, 'WONDERLAND': 1, 'Lewis': 1, 'Carroll': 1, 'THE': 9, 'MILLENNIUM': 1, 'FULCRUM': 1, 'EDITION': 1, '3': 1, '0': 1, 'CHAPTER': 12, 'I': 545, 'Down': 3, 'the': 1527, 'Rabbit': 45, 'Hole': 1, 'was': 352, 'beginning': 14, 'to': 725, 'get': 44, 'very': 126, 'tired': 7, 'of': 500, 'sitting': 10, 'by': 54, 'her': 243, 'sister': 9, 'on': 189, 'bank': 3, 'and': 802, 'having': 10, 'nothing': 30, 'do': 68, 'once': 31, 'or': 76, 'twice': 5, 'she': 509, 'had': 177, 'peeped': 3, 'into': 67, 'book': 11, 'reading': 3, 'but': 133, 'it': 527, 'no': 69, 'pictures': 4, 'conversations': 1, 'what': 93, 'is': 97, 'use': 18, 'a': 615, 'thought': 74, 'without': 26, 'conversation': 10, 'So': 27, 'considering': 3, 'own': 10, 'mind': 9, 'as': 246, 'well': 40, 'could': 73, 'for': 140, 'hot': 7, 'day': 29, 'made': 30, 'feel': 8, 'sleepy': 5, 'stupid': 5, 'whether': 11, 'pleasure': 2, 'making': 8, 'daisy': 1, 'chain': 1, 'would': 70, 'be': 145, 'worth': 4, 'trouble': 6, 'getting': 22, 'up': 98, 'picking': 2, 'daisies': 1, 'when': 69, 'suddenly': 12, 'White': 22, 'with': 175, 'pink': 1, 'eyes': 29, 'ran': 16, 'close': 13, 'There': 33, 'so': 124, 'VERY': 13, 'remarkable': 2, 'that': 275, 'nor': 2, 'did': 60, 'think': 50, 'much': 51, 'out': 116, 'way': 56, 'hear': 14, 'say': 51, 'itself': 14, 'Oh': 35, 'dear': 28, 'shall': 23, 'late': 6, 'over': 40, 'afterwards': 2, 'occurred': 2, 'ought': 14, 'have': 73, 'wondered': 1, 'at': 202, 'this': 113, 'time': 68, 'all': 173, 'seemed': 27, 'quite': 53, 'natural': 4, 'actually': 1, 'TOOK': 1, 'A': 17, 'WATCH': 1, 'OUT': 1, 'OF': 3, 'ITS': 1, 'WAISTCOAT': 1, 'POCKET': 1, 'looked': 45, 'then': 72, 'hurried': 11, 'started': 2, 'feet': 19, 'flashed': 1, 'across': 5, 'never': 42, 'before': 36, 'seen': 15, 'rabbit': 5, 'either': 9, 'waistcoat': 1, 'pocket': 6, 'watch': 7, 'take': 18, 'burning': 1, 'curiosity': 5, 'field': 1, 'after': 37, 'fortunately': 1, 'just': 45, 'see': 66, 'pop': 1, 'down': 99, 'large': 33, 'hole': 4, 'under': 16, 'hedge': 2, 'In': 11, 'another': 22, 'moment': 31, 'went': 83, 'how': 40, 'world': 7, 'again': 83, 'The': 108, 'straight': 2, 'like': 84, 'tunnel': 1, 'some': 48, 'dipped': 2, 'not': 129, 'about': 94, 'stopping': 1, 'herself': 83, 'found': 30, 'falling': 2, 'deep': 7, 'Either': 1, 'fell': 6, 'slowly': 8, 'plenty': 1, 'look': 28, 'wonder': 18, 'going': 27, 'happen': 8, 'next': 28, 'First': 7, 'tried': 19, 'make': 27, 'coming': 8, 'too': 25, 'dark': 3, 'anything': 19, 'sides': 4, 'noticed': 8, 'they': 129, 'were': 85, 'filled': 3, 'cupboards': 2, 'shelves': 2, 'here': 39, 'there': 65, 'saw': 14, 'maps': 1, 'hung': 1, 'upon': 26, 'pegs': 1, 'She': 39, 'took': 23, 'jar': 2, 'from': 34, 'one': 94, 'passed': 5, 'labelled': 1, 'ORANGE': 1, 'MARMALADE': 1, 'great': 39, 'disappointment': 1, 'empty': 1, 'drop': 1, 'fear': 4, 'killing': 1, 'somebody': 5, 'managed': 4, 'put': 31, 'past': 3, 'Well': 23, 'such': 40, 'fall': 7, 'tumbling': 2, 'stairs': 3, 'How': 27, 'brave': 1, 'll': 56, 'me': 61, 'home': 5, 'Why': 27, 'wouldn': 12, 't': 216, 'even': 17, 'if': 78, 'off': 62, 'top': 8, 'house': 18, 'Which': 8, 'likely': 5, 'true': 3, 'Would': 8, 'NEVER': 2, 'come': 25, 'an': 52, 'end': 17, 'many': 12, 'miles': 3, 've': 43, 'fallen': 4, 'said': 456, 'aloud': 5, 'must': 41, 'somewhere': 2, 'near': 14, 'centre': 1, 'earth': 4, 'Let': 11, 'four': 8, 'thousand': 2, 'you': 345, 'learnt': 2, 'several': 4, 'things': 31, 'sort': 20, 'lessons': 10, 'schoolroom': 1, 'though': 10, 'good': 26, 'opportunity': 8, 'showing': 2, 'knowledge': 3, 'listen': 7, 'still': 12, 'practice': 1, 'yes': 1, 'right': 30, 'distance': 8, 'Latitude': 2, 'Longitude': 2, 'got': 45, 'idea': 15, 'nice': 6, 'grand': 3, 'words': 21, 'Presently': 2, 'began': 58, 'THROUGH': 1, 'funny': 3, 'seem': 8, 'among': 12, 'people': 13, 'walk': 5, 'their': 50, 'heads': 9, 'downward': 1, 'Antipathies': 1, 'rather': 25, 'glad': 11, 'WAS': 4, 'listening': 3, 'didn': 14, 'sound': 4, 'word': 10, 'ask': 11, 'them': 88, 'name': 10, 'country': 1, 'know': 87, 'Please': 5, 'Ma': 2, 'am': 16, 'New': 1, 'Zealand': 1, 'Australia': 1, 'curtsey': 1, 'spoke': 17, 'fancy': 7, 'CURTSEYING': 1, 're': 38, 'through': 13, 'air': 15, 'Do': 13, 'manage': 7, 'And': 67, 'ignorant': 1, 'little': 125, 'girl': 4, 'asking': 5, 'No': 20, 'perhaps': 14, 'written': 6, 'else': 12, 'soon': 24, 'talking': 16, 'Dinah': 14, 'miss': 1, 'night': 5, 'should': 27, 'cat': 11, 'hope': 3, 'remember': 14, 'saucer': 1, 'milk': 2, 'tea': 18, 'my': 55, 'wish': 21, 'are': 44, 'mice': 4, 'm': 58, 'afraid': 12, 'might': 28, 'catch': 3, 'bat': 3, 'mouse': 14, 'But': 37, 'cats': 13, 'eat': 17, 'bats': 4, 'saying': 15, 'dreamy': 1, 'sometimes': 5, 'couldn': 9, 'answer': 9, 'question': 17, 'matter': 9, 'which': 41, 'felt': 23, 'dozing': 1, 'begun': 7, 'dream': 7, 'walking': 5, 'hand': 20, 'earnestly': 2, 'Now': 12, 'tell': 27, 'truth': 1, 'ever': 20, 'thump': 2, 'came': 40, 'heap': 1, 'sticks': 1, 'dry': 8, 'leaves': 6, 'bit': 16, 'hurt': 3, 'jumped': 6, 'overhead': 1, 'long': 31, 'passage': 4, 'sight': 10, 'hurrying': 1, 'lost': 3, 'away': 25, 'wind': 2, 'turned': 16, 'corner': 4, 'ears': 5, 'whiskers': 3, 'behind': 13, 'longer': 3, 'low': 15, 'hall': 9, 'lit': 1, 'row': 2, 'lamps': 1, 'hanging': 3, 'roof': 6, 'doors': 2, 'round': 41, 'locked': 1, 'been': 38, 'side': 17, 'other': 40, 'trying': 14, 'every': 12, 'door': 30, 'walked': 10, 'sadly': 5, 'middle': 7, 'wondering': 7, 'Suddenly': 1, 'three': 28, 'legged': 2, 'table': 17, 'solid': 1, 'glass': 10, 'except': 4, 'tiny': 4, 'golden': 7, 'key': 9, 'first': 44, 'belong': 1, 'alas': 3, 'locks': 2, 'small': 10, 'any': 39, 'rate': 9, 'open': 7, 'However': 13, 'second': 4, 'curtain': 1, 'fifteen': 1, 'inches': 6, 'high': 15, 'lock': 1, 'delight': 3, 'fitted': 1, 'opened': 10, 'led': 4, 'larger': 7, 'than': 23, 'rat': 1, 'knelt': 1, 'along': 6, 'loveliest': 1, 'garden': 16, 'longed': 2, 'wander': 1, 'those': 9, 'beds': 2, 'bright': 8, 'flowers': 2, 'cool': 2, 'fountains': 2, 'head': 50, 'doorway': 1, 'go': 47, 'poor': 25, 'shoulders': 4, 'shut': 5, 'telescope': 3, 'only': 47, 'begin': 12, 'For': 13, 'happened': 7, 'lately': 1, 'few': 9, 'indeed': 15, 'really': 11, 'impossible': 3, 'waiting': 8, 'back': 38, 'half': 22, 'hoping': 3, 'find': 21, 'rules': 3, 'shutting': 2, 'telescopes': 1, 'bottle': 10, 'certainly': 13, 'neck': 7, 'paper': 4, 'label': 2, 'DRINK': 2, 'ME': 7, 'beautifully': 2, 'printed': 1, 'letters': 1, 'It': 64, 'Drink': 1, 'wise': 2, 'THAT': 13, 'hurry': 11, 'marked': 6, 'poison': 3, 'read': 10, 'histories': 1, 'children': 10, 'who': 48, 'burnt': 1, 'eaten': 1, 'wild': 2, 'beasts': 2, 'unpleasant': 2, 'because': 14, 'WOULD': 5, 'simple': 5, 'friends': 2, 'taught': 4, 'red': 2, 'poker': 1, 'will': 24, 'burn': 2, 'hold': 6, 'cut': 5, 'your': 53, 'finger': 5, 'deeply': 4, 'knife': 3, 'usually': 2, 'bleeds': 1, 'forgotten': 6, 'drink': 4, 'almost': 6, 'certain': 3, 'disagree': 1, 'sooner': 2, 'later': 3, 'NOT': 7, 'ventured': 4, 'taste': 2, 'finding': 3, 'fact': 8, 'mixed': 2, 'flavour': 1, 'cherry': 1, 'tart': 1, 'custard': 1, 'pine': 1, 'apple': 1, 'roast': 1, 'turkey': 1, 'toffee': 1, 'buttered': 1, 'toast': 1, 'finished': 12, 'What': 42, 'curious': 19, 'feeling': 7, 'now': 48, 'ten': 5, 'face': 15, 'brightened': 2, 'size': 13, 'lovely': 2, 'however': 7, 'waited': 11, 'minutes': 11, 'shrink': 1, 'further': 3, 'nervous': 5, 'altogether': 5, 'candle': 3, 'flame': 1, 'blown': 1, 'thing': 49, 'After': 6, 'while': 20, 'more': 47, 'decided': 3, 'possibly': 3, 'reach': 4, 'plainly': 1, 'best': 10, 'climb': 1, 'legs': 3, 'slippery': 1, 'sat': 17, 'cried': 20, 'Come': 21, 'crying': 2, 'sharply': 4, 'advise': 1, 'leave': 7, 'minute': 21, 'generally': 7, 'gave': 13, 'advice': 1, 'seldom': 1, 'followed': 8, 'scolded': 1, 'severely': 4, 'bring': 2, 'tears': 10, 'remembered': 5, 'box': 10, 'cheated': 1, 'game': 12, 'croquet': 8, 'playing': 2, 'against': 9, 'child': 11, 'fond': 4, 'pretending': 1, 'two': 32, 'pretend': 1, 'hardly': 11, 'enough': 18, 'left': 14, 'ONE': 4, 'respectable': 1, 'person': 4, 'Soon': 1, 'eye': 7, 'lying': 8, 'cake': 3, 'EAT': 1, 'currants': 1, 'makes': 11, 'grow': 13, 'can': 57, 'smaller': 3, 'creep': 1, 'don': 51, 'care': 4, 'happens': 5, 'ate': 1, 'anxiously': 14, 'holding': 3, 'growing': 11, 'surprised': 7, 'remained': 3, 'same': 23, 'sure': 20, 'eats': 1, 'expecting': 3, 'dull': 3, 'life': 12, 'common': 1, 'set': 14, 'work': 8, 'II': 1, 'Pool': 1, 'Tears': 1, 'Curiouser': 1, 'curiouser': 1, 'forgot': 2, 'speak': 13, 'English': 6, 'opening': 3, 'largest': 1, 'Good': 1, 'bye': 2, 'far': 13, 'shoes': 6, 'stockings': 1, 'dears': 3, 'shan': 5, 'able': 1, 'deal': 12, 'myself': 6, 'kind': 7, 'won': 26, 'want': 9, 'give': 9, 'new': 4, 'pair': 5, 'boots': 2, 'Christmas': 1, 'planning': 1, 'They': 21, 'carrier': 1, 'sending': 2, 'presents': 2, 'odd': 1, 'directions': 3, 'RIGHT': 1, 'FOOT': 1, 'ESQ': 1, 'HEARTHRUG': 1, 'NEAR': 1, 'FENDER': 1, 'WITH': 1, 'LOVE': 1, 'nonsense': 6, 'Just': 7, 'struck': 2, 'nine': 5, 'Poor': 2, 'hopeless': 1, 'cry': 3, 'You': 51, 'ashamed': 2, 'yourself': 10, 'Stop': 1, 'shedding': 1, 'gallons': 1, 'until': 5, 'pool': 10, 'reaching': 1, 'heard': 30, 'pattering': 3, 'hastily': 16, 'dried': 1, 'returning': 1, 'splendidly': 1, 'dressed': 1, 'white': 8, 'kid': 5, 'gloves': 11, 'fan': 10, 'he': 101, 'trotting': 2, 'muttering': 3, 'himself': 6, 'Duchess': 42, 'savage': 4, 'kept': 13, 'desperate': 1, 'ready': 8, 'help': 9, 'timid': 3, 'voice': 47, 'If': 16, 'please': 13, 'sir': 6, 'violently': 4, 'dropped': 5, 'skurried': 1, 'darkness': 1, 'hard': 8, 'fanning': 1, 'Dear': 1, 'queer': 12, 'everything': 12, 'yesterday': 3, 'usual': 5, 'changed': 8, 'morning': 5, 'different': 9, 'Who': 15, 'Ah': 5, 'puzzle': 1, 'thinking': 10, 'knew': 14, 'age': 4, 'Ada': 1, 'hair': 7, 'goes': 7, 'ringlets': 2, 'mine': 7, 'doesn': 16, 'Mabel': 4, 'sorts': 3, 'oh': 10, 'knows': 2, 'Besides': 1, 'SHE': 5, 'puzzling': 4, 'try': 12, 'used': 13, 'times': 6, 'five': 1, 'twelve': 4, 'six': 2, 'thirteen': 1, 'seven': 1, 'twenty': 2, 'Multiplication': 1, 'Table': 1, 'signify': 1, 'let': 11, 'Geography': 1, 'London': 1, 'capital': 4, 'Paris': 2, 'Rome': 2, 'wrong': 5, 'doth': 2, 'crossed': 3, 'hands': 12, 'lap': 2, 'repeat': 6, 'sounded': 5, 'hoarse': 3, 'strange': 5, 'crocodile': 1, 'Improve': 1, 'his': 94, 'shining': 1, 'tail': 9, 'pour': 1, 'waters': 1, 'Nile': 1, 'On': 4, 'scale': 1, 'cheerfully': 1, 'seems': 5, 'grin': 6, 'neatly': 2, 'spread': 3, 'claws': 2, 'welcome': 1, 'fishes': 1, 'With': 4, 'gently': 3, 'smiling': 2, 'jaws': 2, 'live': 8, 'poky': 1, 'toys': 1, 'play': 8, 'learn': 7, 'stay': 5, 'putting': 3, 'Tell': 5, 'being': 19, 'till': 21, 'sudden': 5, 'burst': 1, 'alone': 4, 'As': 17, 'CAN': 4, 'done': 15, 'measure': 1, 'nearly': 10, 'guess': 3, 'shrinking': 4, 'rapidly': 2, 'cause': 3, 'avoid': 1, 'That': 27, 'narrow': 2, 'escape': 4, 'frightened': 7, 'change': 13, 'existence': 1, 'speed': 1, 'worse': 3, 'declare': 2, 'bad': 2, 'these': 11, 'foot': 9, 'slipped': 3, 'splash': 1, 'chin': 7, 'salt': 2, 'water': 5, 'Her': 3, 'somehow': 1, 'sea': 14, 'case': 5, 'railway': 2, 'seaside': 1, 'general': 3, 'conclusion': 2, 'wherever': 2, 'coast': 1, 'number': 4, 'bathing': 1, 'machines': 1, 'digging': 2, 'sand': 1, 'wooden': 1, 'spades': 1, 'lodging': 1, 'houses': 1, 'station': 1, 'wept': 1, 'hadn': 7, 'swam': 5, 'punished': 1, 'suppose': 12, 'drowned': 1, 'WILL': 3, 'something': 17, 'splashing': 2, 'nearer': 5, 'walrus': 1, 'hippopotamus': 1, 'Everything': 2, 'talk': 14, 'harm': 1, 'O': 3, 'Mouse': 30, 'swimming': 2, 'speaking': 5, 'brother': 1, 'Latin': 1, 'Grammar': 1, 'inquisitively': 1, 'wink': 2, 'its': 56, 'Perhaps': 3, 'understand': 6, 'daresay': 1, 'French': 4, 'William': 6, 'Conqueror': 2, 'history': 7, 'clear': 2, 'notion': 3, 'ago': 2, 'Ou': 1, 'est': 1, 'ma': 1, 'chatte': 1, 'sentence': 5, 'lesson': 3, 'leap': 1, 'quiver': 1, 'fright': 2, 'beg': 7, 'pardon': 6, 'animal': 2, 'feelings': 2, 'Not': 9, 'shrill': 5, 'passionate': 1, 'YOU': 15, 'soothing': 1, 'tone': 40, 'angry': 5, 'yet': 21, 'show': 3, 'our': 7, 'd': 27, 'quiet': 2, 'lazily': 1, 'sits': 1, 'purring': 2, 'nicely': 2, 'fire': 4, 'licking': 1, 'paws': 4, 'washing': 2, 'soft': 1, 'nurse': 3, 'catching': 2, 'bristling': 1, 'offended': 10, 'We': 10, 'trembling': 6, 'subject': 6, 'Our': 1, 'family': 1, 'always': 12, 'HATED': 1, 'nasty': 1, 'vulgar': 1, 'Don': 9, 'Are': 4, 'dogs': 3, 'eagerly': 8, 'dog': 3, 'eyed': 1, 'terrier': 1, 'curly': 1, 'brown': 2, 'fetch': 6, 'throw': 3, 'sit': 6, 'dinner': 2, 'belongs': 2, 'farmer': 1, 'says': 4, 'useful': 2, 'hundred': 1, 'pounds': 1, 'He': 20, 'kills': 1, 'rats': 1, 'sorrowful': 2, 'commotion': 1, 'called': 15, 'softly': 1, 'we': 23, 'When': 10, 'pale': 4, 'passion': 3, 'us': 14, 'shore': 4, 'why': 13, 'hate': 2, 'crowded': 5, 'birds': 9, 'animals': 4, 'Duck': 3, 'Dodo': 13, 'Lory': 7, 'Eaglet': 3, 'creatures': 10, 'whole': 13, 'party': 9, 'III': 1, 'Caucus': 3, 'Race': 1, 'Long': 1, 'Tale': 1, 'looking': 32, 'assembled': 2, 'draggled': 1, 'feathers': 1, 'fur': 3, 'clinging': 1, 'dripping': 1, 'wet': 2, 'cross': 3, 'uncomfortable': 4, 'course': 26, 'consultation': 1, 'familiarly': 1, 'known': 1, 'Indeed': 1, 'argument': 4, 'last': 32, 'sulky': 3, 'older': 2, 'better': 14, 'allow': 2, 'knowing': 2, 'old': 17, 'positively': 1, 'refused': 1, 'At': 9, 'authority': 2, 'Sit': 1, 'LL': 1, 'ring': 2, 'fixed': 1, 'cold': 1, 'Ahem': 1, 'important': 7, 'This': 17, 'driest': 1, 'Silence': 3, 'whose': 2, 'favoured': 1, 'pope': 1, 'submitted': 1, 'wanted': 4, 'leaders': 1, 'accustomed': 1, 'usurpation': 1, 'conquest': 1, 'Edwin': 2, 'Morcar': 2, 'earls': 2, 'Mercia': 2, 'Northumbria': 2, 'Ugh': 2, 'shiver': 1, 'frowning': 4, 'politely': 6, 'Did': 3, 'proceed': 2, 'declared': 1, 'him': 39, 'Stigand': 1, 'patriotic': 1, 'archbishop': 2, 'Canterbury': 1, 'advisable': 2, 'Found': 2, 'WHAT': 6, 'IT': 4, 'replied': 29, 'crossly': 1, 'means': 5, 'frog': 2, 'worm': 1, 'notice': 5, 'hurriedly': 2, 'Edgar': 1, 'Atheling': 1, 'meet': 2, 'offer': 2, 'crown': 3, 'conduct': 1, 'moderate': 1, 'insolence': 1, 'Normans': 1, 'continued': 9, 'turning': 12, 'melancholy': 6, 'solemnly': 4, 'rising': 1, 'move': 3, 'meeting': 1, 'adjourn': 1, 'immediate': 1, 'adoption': 1, 'energetic': 1, 'remedies': 1, 'Speak': 2, 'meaning': 8, 'believe': 9, 'bent': 1, 'hide': 1, 'smile': 2, 'tittered': 1, 'audibly': 1, 'race': 5, 'IS': 8, 'paused': 1, 'SOMEBODY': 1, 'inclined': 1, 'explain': 8, 'winter': 1, 'circle': 1, 'exact': 1, 'shape': 1, 'placed': 1, 'One': 6, 'running': 8, 'liked': 6, 'easy': 2, 'hour': 2, 'panting': 2, 'has': 6, 'pressed': 3, 'forehead': 2, 'position': 2, 'Shakespeare': 1, 'rest': 10, 'silence': 11, 'EVERYBODY': 1, 'prizes': 3, 'chorus': 3, 'voices': 3, 'asked': 17, 'pointing': 4, 'calling': 1, 'confused': 4, 'Prizes': 2, 'despair': 1, 'pulled': 1, 'comfits': 2, 'luckily': 1, 'handed': 3, 'exactly': 5, 'piece': 6, 'prize': 1, 'Of': 11, 'gravely': 3, 'Only': 3, 'thimble': 4, 'Hand': 1, 'Then': 21, 'presented': 1, 'acceptance': 1, 'elegant': 1, 'short': 4, 'speech': 3, 'cheered': 3, 'absurd': 2, 'grave': 3, 'dare': 5, 'laugh': 1, 'simply': 3, 'bowed': 4, 'solemn': 3, 'caused': 2, 'noise': 3, 'confusion': 5, 'complained': 1, 'theirs': 1, 'ones': 1, 'choked': 3, 'patted': 1, 'begged': 1, 'promised': 1, 'C': 1, 'D': 2, 'added': 23, 'whisper': 3, 'Mine': 1, 'sad': 3, 'tale': 3, 'sighing': 3, 'call': 5, 'Fury': 2, 'met': 3, 'both': 14, 'law': 2, 'prosecute': 1, 'denial': 1, 'trial': 10, 'Said': 4, 'cur': 1, 'Such': 1, 'Sir': 1, 'jury': 22, 'judge': 4, 'wasting': 2, 'breath': 4, 'cunning': 1, 'condemn': 1, 'death': 1, 'attending': 3, 'humbly': 2, 'fifth': 1, 'bend': 2, 'angrily': 9, 'knot': 2, 'undo': 1, 'insult': 1, 'mean': 10, 'pleaded': 3, 'easily': 3, 'growled': 1, 'reply': 5, 'finish': 5, 'story': 7, 'others': 7, 'joined': 3, 'Yes': 12, 'shook': 9, 'impatiently': 5, 'quicker': 1, 'pity': 3, 'sighed': 5, 'Crab': 2, 'daughter': 1, 'lose': 1, 'YOUR': 7, 'temper': 5, 'Hold': 4, 'tongue': 4, 'young': 5, 'snappishly': 1, 'patience': 1, 'oyster': 1, 'addressing': 1, 'nobody': 5, 'particular': 4, 'venture': 3, 'pet': 1, 'bird': 2, 'sensation': 2, 'Some': 2, 'Magpie': 1, 'wrapping': 1, 'carefully': 3, 'remarking': 3, 'suit': 3, 'throat': 2, 'Canary': 1, 'bed': 1, 'various': 1, 'pretexts': 1, 'moved': 5, 'mentioned': 3, 'Nobody': 3, 'lonely': 2, 'spirited': 1, 'footsteps': 2, 'IV': 1, 'Sends': 1, 'Little': 1, 'Bill': 16, 'executed': 6, 'ferrets': 2, 'Where': 5, 'guessed': 3, 'naturedly': 1, 'hunting': 3, 'nowhere': 2, 'since': 4, 'swim': 3, 'vanished': 4, 'completely': 1, 'Very': 5, 'Mary': 4, 'Ann': 4, 'ARE': 6, 'doing': 5, 'Run': 1, 'Quick': 1, 'direction': 5, 'pointed': 1, 'mistake': 3, 'housemaid': 1, 'finds': 1, 'neat': 1, 'brass': 1, 'plate': 3, 'W': 1, 'RABBIT': 1, 'engraved': 1, 'knocking': 3, 'upstairs': 1, 'lest': 1, 'real': 3, 'messages': 2, 'fancying': 1, 'Miss': 3, 'directly': 2, 'Coming': 1, 'stop': 5, 'ordering': 2, 'By': 4, 'tidy': 1, 'room': 13, 'window': 8, 'hoped': 1, 'pairs': 1, 'stood': 7, 'nevertheless': 1, 'uncorked': 1, 'lips': 1, 'SOMETHING': 1, 'interesting': 5, 'whenever': 1, 'does': 6, 'expected': 1, 'drunk': 2, 'pressing': 1, 'ceiling': 1, 'stoop': 2, 'save': 1, 'broken': 6, 'Alas': 1, 'kneel': 1, 'floor': 3, 'effect': 3, 'elbow': 3, 'arm': 15, 'curled': 2, 'Still': 1, 'resource': 1, 'chimney': 6, 'whatever': 2, 'become': 5, 'Luckily': 1, 'magic': 1, 'full': 6, 'grew': 1, 'chance': 4, 'unhappy': 2, 'pleasanter': 1, 'wasn': 11, 'ordered': 4, 'rabbits': 1, 'gone': 13, 'fairy': 1, 'tales': 1, 'fancied': 2, 'write': 5, 'grown': 7, 'least': 9, 'HERE': 1, 'comfort': 1, 'woman': 2, 'shouldn': 5, 'foolish': 1, 'answered': 4, 'books': 2, 'taking': 5, 'outside': 3, 'stopped': 3, 'Fetch': 1, 'trembled': 2, 'forgetting': 3, 'reason': 9, 'inwards': 1, 'attempt': 1, 'proved': 2, 'failure': 1, 'snatch': 2, 'shriek': 5, 'crash': 3, 'concluded': 2, 'possible': 1, 'cucumber': 2, 'frame': 1, 'Next': 2, 'Pat': 3, 'Sure': 4, 'Digging': 2, 'apples': 2, 'yer': 4, 'honour': 4, 'Here': 11, 'THIS': 4, 'Sounds': 1, 'pronounced': 1, 'arrum': 1, 'An': 5, 'goose': 2, 'fills': 1, 'business': 7, 'whispers': 1, 'coward': 1, 'TWO': 2, 'shrieks': 1, 'sounds': 3, 'frames': 1, 'pulling': 1, 'COULD': 4, 'hearing': 4, 'rumbling': 1, 'cartwheels': 1, 'together': 9, 'ladder': 1, 'lad': 1, 'em': 3, 'tie': 1, 'rope': 1, 'Will': 6, 'bear': 2, 'Mind': 2, 'loose': 1, 'slate': 4, 'Heads': 1, 'below': 3, 'loud': 6, 'Nay': 1, 'master': 4, 'Shy': 1, 'place': 8, 'fireplace': 1, 'THINK': 3, 'kick': 3, 'drew': 5, 'scratching': 1, 'scrambling': 1, 'above': 3, 'sharp': 6, 'Catch': 1, 'Brandy': 1, 'choke': 1, 'fellow': 4, 'Last': 1, 'feeble': 2, 'squeaking': 2, 'thank': 1, 'ye': 1, 'flustered': 1, 'comes': 2, 'Jack': 1, 'sky': 5, 'rocket': 1, 'dead': 4, 'instantly': 5, 'sense': 3, 'moving': 3, 'barrowful': 2, 'doubt': 4, 'shower': 2, 'pebbles': 2, 'rattling': 2, 'hit': 2, 'shouted': 9, 'produced': 1, 'surprise': 5, 'cakes': 3, 'lay': 4, 'SOME': 1, 'swallowed': 1, 'delighted': 2, 'crowd': 4, 'Lizard': 6, 'held': 4, 'guinea': 6, 'pigs': 6, 'giving': 2, 'rush': 2, 'appeared': 8, 'safe': 2, 'thick': 1, 'wood': 8, 'wandered': 2, 'plan': 4, 'excellent': 2, 'arranged': 1, 'difficulty': 4, 'smallest': 2, 'peering': 1, 'trees': 7, 'bark': 2, 'enormous': 1, 'puppy': 7, 'feebly': 1, 'stretching': 1, 'paw': 3, 'touch': 1, 'coaxing': 2, 'whistle': 1, 'terribly': 1, 'hungry': 3, 'spite': 1, 'Hardly': 1, 'picked': 3, 'stick': 4, 'whereupon': 1, 'yelp': 1, 'rushed': 1, 'worry': 1, 'dodged': 1, 'thistle': 2, 'keep': 9, 'run': 3, 'tumbled': 1, 'heels': 1, 'cart': 1, 'horse': 1, 'trampled': 1, 'series': 1, 'charges': 1, 'forwards': 1, 'each': 7, 'barking': 1, 'hoarsely': 1, 'mouth': 10, 'faint': 1, 'leant': 1, 'buttercup': 1, 'fanned': 1, 'teaching': 1, 'tricks': 1, 'blades': 1, 'grass': 4, 'circumstances': 1, 'mushroom': 8, 'height': 5, 'stretched': 2, 'tiptoe': 2, 'edge': 3, 'immediately': 3, 'caterpillar': 1, 'arms': 6, 'folded': 3, 'quietly': 5, 'smoking': 2, 'hookah': 5, 'V': 1, 'Advice': 1, 'Caterpillar': 27, 'addressed': 2, 'languid': 1, 'encouraging': 2, 'shyly': 1, 'present': 3, 'sternly': 1, 'Explain': 2, 'MYSELF': 1, 'clearly': 1, 'sizes': 1, 'confusing': 3, 'isn': 7, 'haven': 8, 'turn': 8, 'chrysalis': 1, 'butterfly': 1, 'may': 11, 'contemptuously': 2, 'brought': 3, 'irritated': 1, 'remarks': 3, 'state': 1, 'promising': 1, 'Keep': 2, 'Is': 3, 'swallowing': 1, 'anger': 2, 'wait': 1, 'puffed': 1, 'unfolded': 2, 'Can': 2, 'HOW': 1, 'DOTH': 1, 'LITTLE': 2, 'BUSY': 1, 'BEE': 1, 'Repeat': 1, 'OLD': 2, 'FATHER': 2, 'WILLIAM': 2, 'Father': 2, 'man': 5, 'incessantly': 1, 'stand': 5, 'youth': 6, 'son': 1, 'feared': 1, 'injure': 1, 'brain': 1, 'perfectly': 4, 'none': 4, 'most': 8, 'uncommonly': 1, 'fat': 1, 'Yet': 3, 'somersault': 2, 'Pray': 3, 'sage': 1, 'grey': 1, 'limbs': 1, 'supple': 1, 'ointment': 1, 'shilling': 1, 'Allow': 1, 'sell': 2, 'couple': 1, 'weak': 2, 'tougher': 1, 'suet': 1, 'bones': 1, 'beak': 1, 'father': 2, 'argued': 1, 'wife': 1, 'muscular': 1, 'strength': 1, 'jaw': 1, 'Has': 1, 'lasted': 2, 'steady': 1, 'balanced': 1, 'eel': 2, 'nose': 8, 'awfully': 1, 'clever': 2, 'questions': 4, 'airs': 1, 'stuff': 3, 'Be': 2, 'QUITE': 2, 'timidly': 9, 'altered': 1, 'decidedly': 4, 'changing': 2, 'often': 5, 'DON': 1, 'T': 2, 'contradicted': 1, 'losing': 1, 'content': 1, 'wretched': 2, 'rearing': 1, 'upright': 1, 'piteous': 1, 'patiently': 2, 'chose': 2, 'yawned': 2, 'crawled': 1, 'merely': 2, 'taller': 2, 'shorter': 2, 'thoughtfully': 4, 'difficult': 2, 'broke': 2, 'nibbled': 2, 'violent': 2, 'blow': 2, 'underneath': 1, 'closely': 1, 'swallow': 1, 'morsel': 1, 'lefthand': 2, 'free': 3, 'alarm': 2, 'immense': 1, 'length': 1, 'rise': 1, 'stalk': 1, 'green': 4, 'where': 10, 'HAVE': 4, 'result': 1, 'follow': 2, 'shaking': 3, 'distant': 2, 'serpent': 6, 'succeeded': 3, 'curving': 1, 'graceful': 1, 'zigzag': 1, 'dive': 1, 'tops': 1, 'wandering': 2, 'hiss': 1, 'draw': 7, 'pigeon': 1, 'flown': 1, 'beating': 2, 'wings': 1, 'Serpent': 3, 'screamed': 4, 'Pigeon': 11, 'indignantly': 4, 'repeated': 10, 'subdued': 1, 'sob': 1, 'roots': 2, 'banks': 1, 'hedges': 1, 'serpents': 3, 'pleasing': 1, 'puzzled': 9, 'hatching': 1, 'eggs': 5, 'sleep': 6, 'weeks': 1, 'sorry': 1, 'annoyed': 1, 'taken': 4, 'highest': 1, 'tree': 8, 'raising': 1, 'needs': 1, 'wriggling': 1, 'invent': 1, 'doubtfully': 2, 'changes': 2, 'deepest': 1, 'contempt': 1, 'girls': 3, 'denying': 1, 'telling': 2, 'tasted': 3, 'egg': 1, 'truthful': 1, 'silent': 7, 'adding': 1, 'matters': 2, 'YOURS': 1, 'raw': 1, 'settled': 3, 'nest': 1, 'crouched': 1, 'entangled': 2, 'branches': 2, 'untwist': 1, 'pieces': 3, 'nibbling': 3, 'bringing': 3, 'beautiful': 8, 'Whoever': 1, 'lives': 4, 'frighten': 1, 'wits': 1, 'righthand': 1, 'VI': 1, 'Pig': 2, 'Pepper': 2, 'footman': 3, 'livery': 3, 'considered': 3, 'otherwise': 4, 'judging': 1, 'fish': 6, 'rapped': 1, 'loudly': 3, 'knuckles': 1, 'footmen': 1, 'powdered': 1, 'crept': 1, 'Fish': 2, 'Footman': 11, 'producing': 1, 'letter': 3, 'invitation': 2, 'Queen': 74, 'Frog': 1, 'order': 3, 'From': 1, 'curls': 1, 'laughed': 2, 'ground': 7, 'staring': 3, 'stupidly': 1, 'knocked': 1, 'reasons': 1, 'secondly': 2, 'inside': 1, 'extraordinary': 2, 'within': 2, 'constant': 2, 'howling': 3, 'sneezing': 6, 'dish': 4, 'kettle': 1, 'between': 5, 'instance': 3, 'INSIDE': 1, 'knock': 1, 'uncivil': 1, 'remarked': 10, 'tomorrow': 1, 'skimming': 1, 'grazed': 1, 'maybe': 1, 'louder': 1, 'told': 6, 'dreadful': 2, 'muttered': 2, 'argue': 1, 'drive': 1, 'crazy': 1, 'repeating': 3, 'remark': 10, 'variations': 1, 'days': 4, 'Anything': 1, 'whistling': 1, 'desperately': 1, 'idiotic': 1, 'kitchen': 4, 'smoke': 1, 'stool': 1, 'nursing': 3, 'baby': 14, 'cook': 13, 'leaning': 2, 'stirring': 2, 'cauldron': 2, 'soup': 4, 'pepper': 6, 'Even': 1, 'sneezed': 1, 'occasionally': 1, 'alternately': 1, 'pause': 2, 'sneeze': 2, 'hearth': 1, 'grinning': 1, 'ear': 6, 'manners': 1, 'grins': 1, 'Cheshire': 7, 'violence': 1, 'courage': 3, 'grinned': 3, 'pleased': 7, 'introduce': 2, 'While': 5, 'fix': 1, 'throwing': 2, 'irons': 1, 'saucepans': 1, 'plates': 2, 'dishes': 2, 'already': 2, 'blows': 1, 'PLEASE': 1, 'jumping': 4, 'agony': 1, 'terror': 1, 'PRECIOUS': 1, 'unusually': 1, 'saucepan': 1, 'flew': 1, 'carried': 4, 'everybody': 5, 'minded': 1, 'growl': 3, 'faster': 3, 'advantage': 3, 'takes': 2, 'hours': 4, 'axis': 1, 'Talking': 1, 'axes': 1, 'chop': 1, 'glanced': 1, 'meant': 5, 'hint': 2, 'busily': 4, 'Twenty': 1, 'bother': 1, 'abide': 1, 'figures': 1, 'singing': 2, 'lullaby': 1, 'shake': 1, 'line': 2, 'roughly': 1, 'boy': 3, 'beat': 4, 'sneezes': 2, 'annoy': 1, 'Because': 1, 'teases': 1, 'CHORUS': 2, 'Wow': 2, 'wow': 4, 'sang': 2, 'verse': 4, 'song': 7, 'tossing': 3, 'howled': 1, 'thoroughly': 2, 'enjoy': 1, 'pleases': 1, 'flinging': 1, 'threw': 2, 'frying': 1, 'pan': 1, 'missed': 2, 'caught': 3, 'shaped': 3, 'creature': 4, 'star': 1, 'snorting': 1, 'steam': 1, 'engine': 1, 'doubling': 1, 'straightening': 1, 'proper': 3, 'twist': 2, 'tight': 1, 'prevent': 1, 'undoing': 1, 'IF': 2, 'kill': 1, 'murder': 1, 'grunted': 4, 'grunt': 1, 'expressing': 1, 'snout': 1, 'also': 2, 'extremely': 2, 'sobbing': 3, 'pig': 9, 'seriously': 1, 'sobbed': 1, 'NO': 1, 'neither': 2, 'less': 3, 'carry': 1, 'relieved': 1, 'trot': 1, 'dreadfully': 6, 'ugly': 2, 'handsome': 1, 'startled': 2, 'seeing': 1, 'Cat': 26, 'bough': 1, 'yards': 1, 'natured': 1, 'teeth': 1, 'treated': 1, 'respect': 1, 'Puss': 1, 'wider': 1, 'depends': 1, 'SOMEWHERE': 1, 'explanation': 2, 'denied': 2, 'waving': 5, 'Hatter': 55, 'March': 34, 'Hare': 31, 'Visit': 1, 'mad': 14, 'To': 1, 'grant': 1, 'growls': 1, 'wags': 1, 'wag': 1, 'Therefore': 1, 'growling': 1, 'Call': 4, 'invited': 2, 'happening': 1, 'became': 2, 'appear': 2, 'hatters': 1, 'May': 2, 'raving': 2, 'branch': 1, 'fig': 1, 'appearing': 1, 'vanishing': 1, 'giddy': 2, 'All': 5, 'ending': 2, 'farther': 1, 'chimneys': 1, 'thatched': 1, 'raised': 2, 'towards': 1, 'Suppose': 2, 'instead': 3, 'VII': 1, 'Mad': 1, 'Tea': 1, 'Party': 1, 'front': 2, 'Dormouse': 40, 'fast': 4, 'asleep': 8, 'using': 2, 'cushion': 2, 'resting': 2, 'elbows': 1, 'PLENTY': 1, 'chair': 1, 'Have': 3, 'wine': 2, 'civil': 3, 'laid': 2, 'Your': 2, 'wants': 2, 'cutting': 1, 'personal': 2, 'severity': 1, 'rude': 2, 'wide': 2, 'SAID': 2, 'raven': 1, 'writing': 6, 'desk': 1, 'fun': 3, 'riddles': 2, 'Exactly': 3, 'breathe': 3, 'ravens': 1, 'desks': 1, 'break': 2, 'month': 2, 'uneasily': 2, 'fourth': 1, 'Two': 6, 'butter': 9, 'works': 1, 'BEST': 2, 'meekly': 2, 'crumbs': 4, 'grumbled': 1, 'bread': 7, 'gloomily': 1, 'cup': 2, 'shoulder': 4, 'tells': 2, 'o': 3, 'clock': 5, 'Does': 2, 'year': 2, 'readily': 1, 'stays': 1, 'MINE': 2, 'poured': 1, 'riddle': 1, 'slightest': 1, 'Nor': 1, 'wearily': 1, 'waste': 1, 'answers': 1, 'Time': 3, 'HIM': 3, 'cautiously': 3, 'music': 3, 'accounts': 1, 'terms': 1, 'twinkling': 4, 'Half': 1, 'mournfully': 1, 'quarrelled': 1, 'HE': 4, 'spoon': 2, 'concert': 2, 'given': 1, 'Hearts': 6, 'sing': 5, 'Twinkle': 3, 'twinkle': 5, 'Up': 2, 'fly': 3, 'Like': 1, 'tray': 1, 'pinch': 1, 'bawled': 1, 'murdering': 1, 'Off': 11, 'exclaimed': 6, 'mournful': 1, 'sigh': 4, 'wash': 2, 'whiles': 1, 'interrupted': 9, 'yawning': 2, 'vote': 1, 'lady': 3, 'alarmed': 1, 'proposal': 1, 'Wake': 2, 'pinched': 2, 'fellows': 1, 'quick': 1, 'Once': 3, 'sisters': 2, 'names': 2, 'Elsie': 1, 'Lacie': 1, 'Tillie': 1, 'lived': 3, 'bottom': 4, 'interest': 1, 'eating': 1, 'drinking': 1, 'treacle': 5, 'ill': 2, 'ways': 1, 'living': 2, 'Take': 4, 'LESS': 1, 'MORE': 2, 'opinion': 1, 'triumphantly': 2, 'helped': 1, 'Sh': 1, 'sh': 1, 'sulkily': 2, 'interrupt': 1, 'consented': 1, 'learning': 2, 'promise': 1, 'Treacle': 2, 'clean': 1, 'unwillingly': 1, 'upset': 3, 'jug': 1, 'offend': 1, 'eh': 1, 'choosing': 1, 'interrupting': 2, 'rubbing': 2, 'manner': 2, 'begins': 4, 'M': 5, 'closed': 2, 'doze': 1, 'woke': 1, 'traps': 1, 'moon': 1, 'memory': 1, 'muchness': 3, 'drawing': 1, 'Really': 2, 'rudeness': 1, 'disgust': 1, 'teapot': 1, 'THERE': 1, 'stupidest': 1, 'leading': 1, 'today': 1, 'unlocking': 1, 'THEN': 1, 'flower': 2, 'VIII': 1, 'Croquet': 1, 'Ground': 1, 'rose': 4, 'entrance': 1, 'roses': 3, 'gardeners': 8, 'painting': 2, 'Look': 1, 'Five': 7, 'paint': 1, 'Seven': 5, 'jogged': 1, 'Always': 1, 'blame': 1, 'deserved': 1, 'beheaded': 3, 'spoken': 1, 'tulip': 1, 'onions': 1, 'flung': 1, 'brush': 1, 'unjust': 1, 'chanced': 1, 'watching': 3, 'checked': 3, 'RED': 1, 'afore': 1, 'themselves': 3, 'flat': 2, 'faces': 5, 'eager': 3, 'soldiers': 10, 'carrying': 2, 'clubs': 1, 'oblong': 1, 'corners': 1, 'courtiers': 2, 'ornamented': 2, 'diamonds': 1, 'royal': 2, 'merrily': 1, 'couples': 1, 'hearts': 1, 'guests': 3, 'mostly': 2, 'Kings': 1, 'Queens': 1, 'recognised': 1, 'noticing': 1, 'Knave': 9, 'King': 61, 'crimson': 2, 'velvet': 1, 'procession': 5, 'KING': 1, 'AND': 3, 'QUEEN': 1, 'HEARTS': 1, 'doubtful': 2, 'lie': 2, 'rule': 4, 'processions': 1, 'besides': 3, 'opposite': 1, 'smiled': 2, 'Idiot': 1, 'My': 3, 'Majesty': 12, 'pack': 5, 'cards': 3, 'needn': 3, 'THESE': 1, 'rosetree': 1, 'pattern': 1, 'backs': 1, 'fury': 1, 'glaring': 1, 'beast': 1, 'Nonsense': 1, 'Consider': 3, 'Turn': 3, 'Get': 2, 'bowing': 1, 'Leave': 1, 'humble': 1, 'knee': 5, 'meanwhile': 1, 'examining': 1, 'remaining': 1, 'execute': 1, 'unfortunate': 3, 'protection': 1, 'pot': 1, 'marched': 1, 'Their': 1, 'evidently': 1, 'roared': 1, 'fine': 2, 'peeping': 1, 'Hush': 2, 'whispered': 5, 'execution': 3, 'boxed': 1, 'scream': 2, 'laughter': 1, 'hush': 1, 'places': 2, 'thunder': 1, 'ridges': 1, 'furrows': 1, 'balls': 1, 'hedgehogs': 3, 'mallets': 1, 'flamingoes': 2, 'double': 1, 'arches': 4, 'chief': 1, 'managing': 1, 'flamingo': 5, 'body': 2, 'tucked': 3, 'comfortably': 1, 'straightened': 1, 'hedgehog': 7, 'expression': 1, 'bursting': 1, 'laughing': 1, 'provoking': 1, 'unrolled': 2, 'act': 1, 'crawling': 1, 'ridge': 1, 'furrow': 1, 'send': 1, 'doubled': 1, 'parts': 1, 'players': 4, 'played': 1, 'turns': 3, 'quarrelling': 2, 'fighting': 1, 'furious': 1, 'stamping': 2, 'shouting': 2, 'uneasy': 1, 'dispute': 2, 'beheading': 1, 'alive': 3, 'appearance': 1, 'nodded': 1, 'account': 1, 'someone': 1, 'fairly': 1, 'complaining': 1, 'quarrel': 1, 'oneself': 1, 'attends': 1, 'arch': 1, 'croqueted': 1, 'win': 1, 'finishing': 1, 'friend': 3, 'kiss': 1, 'likes': 1, 'impertinent': 1, 'king': 1, 'removed': 2, 'passing': 1, 'settling': 1, 'difficulties': 1, 'executioner': 6, 'screaming': 1, 'search': 1, 'engaged': 1, 'fight': 2, 'croqueting': 1, 'helpless': 1, 'collected': 2, 'appealed': 1, 'settle': 1, 'arguments': 1, 'unless': 2, 'HIS': 1, 'weren': 1, 'anxious': 3, 'HER': 2, 'prison': 1, 'arrow': 1, 'fading': 1, 'entirely': 2, 'disappeared': 2, 'wildly': 2, 'IX': 1, 'Mock': 56, 'Turtle': 59, 'Story': 1, 'affectionately': 1, 'pleasant': 1, 'hopeful': 1, 'AT': 1, 'ALL': 4, 'Soup': 13, 'Maybe': 1, 'tempered': 2, 'vinegar': 1, 'sour': 1, 'camomile': 1, 'bitter': 1, 'barley': 1, 'sugar': 2, 'sweet': 1, 'stingy': 1, 'forget': 2, 'moral': 8, 'hasn': 2, 'Tut': 1, 'tut': 1, 'squeezed': 1, 'closer': 1, 'keeping': 2, 'uncomfortably': 1, 'bore': 1, 'Tis': 2, 'tis': 2, 'love': 2, 'Somebody': 1, 'minding': 1, 'morals': 1, 'waist': 1, 'Shall': 2, 'experiment': 2, 'bite': 2, 'mustard': 3, 'Birds': 1, 'feather': 1, 'flock': 1, 'Right': 1, 'mineral': 1, 'agree': 2, 'yours': 2, 'attended': 1, 'vegetable': 1, 'Never': 4, 'imagine': 1, 'cheap': 1, 'birthday': 1, 'Thinking': 1, 'dig': 1, 'worried': 1, 'died': 1, 'favourite': 1, 'linked': 1, 'hers': 4, 'tremble': 1, 'thunderstorm': 1, 'fair': 1, 'warning': 1, 'choice': 2, 'absence': 1, 'shade': 1, 'delay': 1, 'cost': 1, 'Those': 1, 'whom': 1, 'sentenced': 1, 'custody': 2, 'company': 1, 'pardoned': 1, 'executions': 2, 'Gryphon': 55, 'sun': 2, 'picture': 1, 'lazy': 1, 'leaving': 1, 'rubbed': 1, 'watched': 2, 'chuckled': 1, 'executes': 1, 'Everybody': 2, 'ledge': 1, 'rock': 1, 'heart': 2, 'pitied': 1, 'sorrow': 2, 'hollow': 1, 'EVEN': 1, 'These': 2, 'occasional': 1, 'exclamation': 1, 'Hjckrrh': 1, 'heavy': 2, 'Thank': 3, 'MUST': 3, 'calmly': 1, 'school': 6, 'Tortoise': 3, 'sink': 1, 'Drive': 1, 'mayn': 1, 'educations': 1, 'VE': 1, 'proud': 2, 'extras': 1, 'learned': 1, 'Certainly': 1, 'relief': 2, 'OURS': 1, 'bill': 1, 'WASHING': 1, 'extra': 1, 'afford': 1, 'regular': 2, 'inquired': 1, 'Reeling': 1, 'Writhing': 1, 'Arithmetic': 1, 'Ambition': 1, 'Distraction': 1, 'Uglification': 2, 'Derision': 1, 'lifted': 1, 'uglifying': 1, 'beautify': 1, 'prettier': 1, 'uglify': 1, 'simpleton': 1, 'encouraged': 1, 'Mystery': 2, 'counting': 1, 'subjects': 1, 'flappers': 1, 'ancient': 1, 'modern': 1, 'Seaography': 1, 'Drawling': 3, 'conger': 1, 'week': 3, 'Stretching': 1, 'Fainting': 1, 'Coils': 1, 'stiff': 1, 'Hadn': 1, 'Classics': 1, 'crab': 1, 'Laughing': 1, 'Grief': 1, 'hid': 1, 'Ten': 1, 'lessen': 1, 'eleventh': 1, 'holiday': 1, 'twelfth': 1, 'games': 1, 'X': 1, 'Lobster': 5, 'Quadrille': 4, 'flapper': 1, 'sobs': 4, 'Same': 1, 'bone': 1, 'punching': 1, 'recovered': 2, 'cheeks': 1, 'introduced': 1, 'lobster': 2, 'delightful': 2, 'dance': 13, 'form': 1, 'lines': 1, 'Seals': 1, 'turtles': 2, 'salmon': 1, 'cleared': 1, 'jelly': 1, 'advance': 3, 'Each': 1, 'partner': 1, 'partners': 1, 'lobsters': 7, 'retire': 1, 'bound': 1, 'Swim': 1, 'capering': 1, 'Change': 1, 'yelled': 1, 'Back': 1, 'land': 1, 'figure': 3, 'dropping': 1, 'pretty': 1, 'dancing': 2, 'treading': 2, 'toes': 3, 'forepaws': 1, 'mark': 3, 'whiting': 8, 'snail': 3, 'porpoise': 4, 'See': 1, 'shingle': 1, 'join': 9, 'Too': 1, 'askance': 1, 'thanked': 1, 'kindly': 2, 'scaly': 1, 'England': 1, 'France': 1, 'beloved': 1, 'dinn': 1, 'Dinn': 1, 'tails': 3, 'mouths': 4, 'thrown': 1, 'DOES': 1, 'BOOTS': 1, 'SHOES': 1, 'shiny': 1, 'blacking': 1, 'Boots': 1, 'Soles': 1, 'eels': 1, 'shrimp': 1, 'thoughts': 2, 'obliged': 3, 'anywhere': 1, 'Wouldn': 1, 'journey': 1, 'purpose': 1, 'adventures': 4, 'impatient': 1, 'explanations': 1, 'gained': 1, 'listeners': 1, 'part': 2, 'Stand': 1, 'TIS': 1, 'VOICE': 1, 'SLUGGARD': 1, 'baked': 1, 'duck': 1, 'eyelids': 1, 'Trims': 1, 'belt': 1, 'buttons': 1, 'editions': 2, 'follows': 3, 'sands': 1, 'gay': 1, 'lark': 1, 'contemptuous': 1, 'tones': 2, 'Shark': 1, 'tide': 1, 'rises': 1, 'sharks': 1, 'around': 3, 'His': 1, 'tremulous': 1, 'uncommon': 1, 'EVER': 1, 'explained': 1, 'Go': 3, 'persisted': 2, 'disobey': 1, 'Owl': 3, 'Panther': 3, 'sharing': 1, 'pie': 3, 'crust': 1, 'gravy': 1, 'meat': 1, 'share': 1, 'treat': 1, 'boon': 1, 'Was': 1, 'permitted': 1, 'received': 1, 'fork': 1, 'banquet': 1, 'Or': 1, 'Hm': 1, 'accounting': 1, 'tastes': 1, 'Sing': 1, 'Beautiful': 5, 'rich': 1, 'Waiting': 1, 'tureen': 1, 'dainties': 1, 'evening': 5, 'Beau': 4, 'ootiful': 4, 'Soo': 7, 'oop': 7, 'e': 6, 'cares': 2, 'Game': 1, 'Pennyworth': 2, 'beauti': 1, 'FUL': 1, 'SOUP': 1, 'Chorus': 1, 'panted': 1, 'faintly': 1, 'breeze': 1, 'XI': 1, 'Stole': 1, 'Tarts': 1, 'seated': 1, 'throne': 1, 'arrived': 1, 'standing': 1, 'chains': 1, 'soldier': 1, 'guard': 1, 'trumpet': 3, 'scroll': 2, 'parchment': 2, 'court': 17, 'tarts': 6, 'refreshments': 1, 'pass': 1, 'justice': 1, 'wig': 2, 'wore': 1, 'frontispiece': 1, 'comfortable': 1, 'becoming': 1, 'jurors': 4, 'rightly': 1, 'men': 1, 'slates': 8, 'Stupid': 1, 'indignant': 1, 'spectacles': 3, 'spell': 1, 'neighbour': 1, 'muddle': 1, 'pencil': 2, 'squeaked': 1, 'quickly': 2, 'juror': 1, 'Herald': 1, 'accusation': 1, 'blew': 2, 'blasts': 2, 'summer': 2, 'stole': 1, 'verdict': 4, 'witness': 10, 'teacup': 3, 'sent': 2, 'Fourteenth': 1, 'Fifteenth': 1, 'Sixteenth': 1, 'Write': 1, 'wrote': 3, 'dates': 1, 'reduced': 1, 'shillings': 1, 'pence': 1, 'hat': 1, 'Stolen': 1, 'memorandum': 1, 'hatter': 1, 'fidgeted': 1, 'Give': 3, 'evidence': 6, 'spot': 1, 'encourage': 1, 'shifting': 1, 'remain': 1, 'squeeze': 1, 'boldly': 1, 'reasonable': 1, 'pace': 1, 'ridiculous': 1, 'fashion': 2, 'officers': 4, 'Bring': 1, 'list': 3, 'singers': 2, 'thin': 1, 'dunce': 1, 'twinkled': 1, 'deny': 2, 'denies': 1, 'miserable': 2, 'speaker': 1, 'suppressed': 4, 'canvas': 1, 'bag': 1, 'tied': 1, 'strings': 1, 'newspapers': 1, 'trials': 1, 'attempts': 1, 'applause': 1, 'understood': 1, 'lower': 1, 'SIT': 1, 'officer': 1, 'Shan': 1, 'examine': 2, 'folding': 1, 'Collar': 1, 'shrieked': 1, 'Behead': 1, 'Suppress': 1, 'Pinch': 1, 'undertone': 2, 'ache': 1, 'fumbled': 1, 'YET': 1, 'Imagine': 1, 'XII': 1, 'Evidence': 1, 'flurry': 1, 'tipped': 1, 'skirt': 1, 'upsetting': 1, 'jurymen': 4, 'sprawling': 1, 'reminding': 1, 'globe': 1, 'goldfish': 2, 'accidentally': 1, 'BEG': 1, 'dismay': 1, 'accident': 2, 'vague': 1, 'die': 1, 'cannot': 1, 'emphasis': 1, 'haste': 1, 'downwards': 1, 'unable': 1, 'signifies': 1, 'shock': 1, 'pencils': 1, 'diligently': 1, 'overcome': 1, 'gazing': 1, 'Nothing': 4, 'WHATEVER': 1, 'UNimportant': 2, 'respectful': 1, 'unimportant': 3, 'note': 2, 'cackled': 1, 'Rule': 1, 'Forty': 1, 'PERSONS': 1, 'THAN': 1, 'MILE': 1, 'HIGH': 1, 'TO': 3, 'LEAVE': 1, 'COURT': 1, 'mile': 1, 'Nearly': 1, 'invented': 1, 'oldest': 1, 'Number': 1, 'prisoner': 2, 'directed': 2, 'OUTSIDE': 1, 'verses': 4, 'handwriting': 1, 'queerest': 1, 'imitated': 1, 'prove': 1, 'signed': 2, 'sign': 1, 'mischief': 1, 'honest': 1, 'clapping': 1, 'PROVES': 1, 'guilt': 1, 'proves': 1, 'Read': 1, 'Begin': 1, 'character': 1, 'push': 1, 'returned': 1, 'Though': 1, 'Involved': 1, 'affair': 1, 'trusts': 1, 'Before': 1, 'fit': 1, 'obstacle': 1, 'Him': 1, 'ourselves': 1, 'secret': 1, 'Between': 1, 'sixpence': 1, 'atom': 2, 'attempted': 1, 'saves': 1, 'spreading': 1, 'SWIM': 1, 'cardboard': 1, 'WE': 1, 'KNOW': 1, 'BE': 1, 'TRUE': 1, 'GAVE': 2, 'THEY': 2, 'RETURNED': 1, 'FROM': 1, 'clearer': 1, 'BEFORE': 1, 'HAD': 1, 'FIT': 2, 'fits': 1, 'furiously': 1, 'inkstand': 1, 'ink': 1, 'trickling': 1, 'pun': 1, 'consider': 1, 'twentieth': 1, 'Sentence': 1, 'Stuff': 1, 'purple': 1, 'flying': 1, 'brushing': 1, 'fluttered': 1, 'kissed': 1, 'wonderful': 2, 'setting': 1, 'dreaming': 1, 'dreamed': 1, 'clasped': 1, 'toss': 1, 'listened': 1, 'rustled': 1, 'splashed': 1, 'neighbouring': 1, 'rattle': 1, 'teacups': 2, 'shared': 1, 'meal': 1, 'crashed': 1, 'choking': 1, 'believed': 1, 'reality': 1, 'rustling': 1, 'rippling': 1, 'reeds': 1, 'tinkling': 1, 'sheep': 1, 'bells': 1, 'cries': 1, 'shepherd': 1, 'noises': 1, 'clamour': 1, 'busy': 1, 'farm': 1, 'yard': 1, 'lowing': 1, 'cattle': 1, 'Lastly': 1, 'pictured': 1, 'riper': 1, 'years': 1, 'loving': 1, 'childhood': 1, 'gather': 1, 'THEIR': 1, 'sorrows': 1, 'joys': 1, 'remembering': 1, 'happy': 1, 'END': 1}\n",
            "[('the', 1527), ('and', 802), ('to', 725), ('a', 615), ('I', 545), ('it', 527), ('she', 509), ('of', 500), ('said', 456), ('Alice', 396), ('in', 357), ('was', 352), ('you', 345), ('that', 275), ('as', 246), ('her', 243), ('t', 216), ('at', 202), ('s', 195), ('on', 189), ('had', 177), ('with', 175), ('all', 173), ('be', 145), ('for', 140), ('but', 133), ('not', 129), ('they', 129), ('very', 126), ('little', 125), ('so', 124), ('out', 116), ('this', 113), ('The', 108), ('he', 101), ('down', 99), ('up', 98), ('is', 97), ('about', 94), ('his', 94), ('one', 94), ('what', 93), ('them', 88), ('know', 87), ('were', 85), ('like', 84), ('again', 83), ('herself', 83), ('went', 83), ('if', 78), ('or', 76), ('Queen', 74), ('thought', 74), ('could', 73), ('have', 73), ('then', 72), ('would', 70), ('no', 69), ('when', 69), ('do', 68), ('time', 68), ('And', 67), ('into', 67), ('see', 66), ('there', 65), ('It', 64), ('off', 62), ('King', 61), ('me', 61), ('did', 60), ('Turtle', 59), ('began', 58), ('m', 58), ('can', 57), ('Mock', 56), ('its', 56), ('ll', 56), ('way', 56), ('Gryphon', 55), ('Hatter', 55), ('my', 55), ('by', 54), ('quite', 53), ('your', 53), ('an', 52), ('You', 51), ('don', 51), ('much', 51), ('say', 51), ('head', 50), ('their', 50), ('think', 50), ('thing', 49), ('now', 48), ('some', 48), ('who', 48), ('go', 47), ('more', 47), ('only', 47), ('voice', 47), ('Rabbit', 45), ('got', 45), ('just', 45), ('looked', 45), ('are', 44), ('first', 44), ('get', 44), ('ve', 43), ('Duchess', 42), ('What', 42), ('never', 42), ('must', 41), ('round', 41), ('which', 41), ('Dormouse', 40), ('came', 40), ('how', 40), ('other', 40), ('over', 40), ('such', 40), ('tone', 40), ('well', 40), ('She', 39), ('any', 39), ('great', 39), ('here', 39), ('him', 39), ('back', 38), ('been', 38), ('re', 38), ('But', 37), ('after', 37), ('before', 36), ('Oh', 35), ('March', 34), ('from', 34), ('There', 33), ('large', 33), ('last', 32), ('looking', 32), ('two', 32), ('Hare', 31), ('long', 31), ('moment', 31), ('once', 31), ('put', 31), ('things', 31), ('Mouse', 30), ('door', 30), ('found', 30), ('heard', 30), ('made', 30), ('nothing', 30), ('right', 30), ('day', 29), ('eyes', 29), ('replied', 29), ('dear', 28), ('look', 28), ('might', 28), ('next', 28), ('three', 28), ('Caterpillar', 27), ('How', 27), ('So', 27), ('That', 27), ('Why', 27), ('d', 27), ('going', 27), ('make', 27), ('seemed', 27), ('should', 27), ('tell', 27), ('Cat', 26), ('course', 26), ('good', 26), ('upon', 26), ('without', 26), ('won', 26), ('away', 25), ('come', 25), ('poor', 25), ('rather', 25), ('too', 25), ('soon', 24), ('will', 24), ('Well', 23), ('added', 23), ('felt', 23), ('same', 23), ('shall', 23), ('than', 23), ('took', 23), ('we', 23), ('White', 22), ('another', 22), ('getting', 22), ('half', 22), ('jury', 22), ('Come', 21), ('Then', 21), ('They', 21), ('find', 21), ('minute', 21), ('till', 21), ('wish', 21), ('words', 21), ('yet', 21), ('He', 20), ('No', 20), ('cried', 20), ('ever', 20), ('hand', 20), ('sort', 20), ('sure', 20), ('while', 20), ('anything', 19), ('being', 19), ('curious', 19), ('feet', 19), ('tried', 19), ('enough', 18), ('house', 18), ('take', 18), ('tea', 18), ('use', 18), ('wonder', 18), ('A', 17), ('As', 17), ('This', 17), ('asked', 17), ('court', 17), ('eat', 17), ('end', 17), ('even', 17), ('old', 17), ('question', 17), ('sat', 17), ('side', 17), ('something', 17), ('spoke', 17), ('table', 17), ('Bill', 16), ('If', 16), ('am', 16), ('bit', 16), ('doesn', 16), ('garden', 16), ('hastily', 16), ('ran', 16), ('talking', 16), ('turned', 16), ('under', 16), ('Who', 15), ('YOU', 15), ('air', 15), ('arm', 15), ('called', 15), ('done', 15), ('face', 15), ('high', 15), ('idea', 15), ('indeed', 15), ('low', 15), ('saying', 15), ('seen', 15), ('Dinah', 14), ('anxiously', 14), ('baby', 14), ('because', 14), ('beginning', 14), ('better', 14), ('both', 14), ('didn', 14), ('hear', 14), ('itself', 14), ('knew', 14), ('left', 14), ('mad', 14), ('mouse', 14), ('near', 14), ('ought', 14), ('perhaps', 14), ('remember', 14), ('saw', 14), ('sea', 14), ('set', 14), ('talk', 14), ('trying', 14), ('us', 14), ('Do', 13), ('Dodo', 13), ('For', 13), ('However', 13), ('Soup', 13), ('THAT', 13), ('VERY', 13), ('behind', 13), ('cats', 13), ('certainly', 13), ('change', 13), ('close', 13), ('cook', 13), ('dance', 13), ('far', 13), ('gave', 13), ('gone', 13), ('grow', 13), ('kept', 13), ('people', 13), ('please', 13), ('room', 13), ('size', 13), ('speak', 13), ('through', 13), ('used', 13), ('whole', 13), ('why', 13), ('CHAPTER', 12), ('Majesty', 12), ('Now', 12), ('Yes', 12), ('afraid', 12), ('always', 12), ('among', 12), ('begin', 12), ('deal', 12), ('else', 12), ('every', 12), ('everything', 12), ('finished', 12), ('game', 12), ('hands', 12), ('life', 12), ('many', 12), ('queer', 12), ('still', 12), ('suddenly', 12), ('suppose', 12), ('try', 12), ('turning', 12), ('wouldn', 12), ('Footman', 11), ('Here', 11), ('In', 11), ('Let', 11), ('Of', 11), ('Off', 11), ('Pigeon', 11), ('ask', 11), ('book', 11), ('cat', 11), ('child', 11), ('glad', 11), ('gloves', 11), ('growing', 11), ('hardly', 11), ('hurried', 11), ('hurry', 11), ('let', 11), ('makes', 11), ('may', 11), ('minutes', 11), ('really', 11), ('silence', 11), ('these', 11), ('waited', 11), ('wasn', 11), ('whether', 11), ('We', 10), ('When', 10), ('best', 10), ('bottle', 10), ('box', 10), ('children', 10), ('conversation', 10), ('creatures', 10), ('fan', 10), ('glass', 10), ('having', 10), ('lessons', 10), ('mean', 10), ('mouth', 10), ('name', 10), ('nearly', 10), ('offended', 10), ('oh', 10), ('opened', 10), ('own', 10), ('pool', 10), ('read', 10), ('remark', 10), ('remarked', 10), ('repeated', 10), ('rest', 10), ('sight', 10), ('sitting', 10), ('small', 10), ('soldiers', 10), ('tears', 10), ('thinking', 10), ('though', 10), ('trial', 10), ('walked', 10), ('where', 10), ('witness', 10), ('word', 10), ('yourself', 10), ('At', 9), ('Don', 9), ('Knave', 9), ('Not', 9), ('THE', 9), ('against', 9), ('angrily', 9), ('answer', 9), ('believe', 9), ('birds', 9), ('butter', 9), ('continued', 9), ('couldn', 9), ('different', 9), ('either', 9), ('few', 9), ('foot', 9), ('give', 9), ('hall', 9), ('heads', 9), ('help', 9), ('interrupted', 9), ('join', 9), ('keep', 9), ('key', 9), ('least', 9), ('matter', 9), ('mind', 9), ('party', 9), ('pig', 9), ('puzzled', 9), ('rate', 9), ('reason', 9), ('shook', 9), ('shouted', 9), ('sister', 9), ('tail', 9), ('those', 9), ('timidly', 9), ('together', 9), ('want', 9), ('IS', 8), ('Which', 8), ('Would', 8), ('appeared', 8), ('asleep', 8), ('beautiful', 8), ('bright', 8), ('changed', 8), ('coming', 8), ('croquet', 8), ('distance', 8), ('dry', 8), ('eagerly', 8), ('explain', 8), ('fact', 8), ('feel', 8), ('followed', 8), ('four', 8), ('gardeners', 8), ('happen', 8), ('hard', 8), ('haven', 8), ('live', 8), ('lying', 8), ('making', 8), ('meaning', 8), ('moral', 8), ('most', 8), ('mushroom', 8), ('nose', 8), ('noticed', 8), ('opportunity', 8), ('place', 8), ('play', 8), ('ready', 8), ('running', 8), ('seem', 8), ('slates', 8), ('slowly', 8), ('top', 8), ('tree', 8), ('turn', 8), ('waiting', 8), ('white', 8), ('whiting', 8), ('window', 8), ('wood', 8), ('work', 8), ('Cheshire', 7), ('First', 7), ('Five', 7), ('Just', 7), ('Lory', 7), ('ME', 7), ('NOT', 7), ('S', 7), ('Soo', 7), ('YOUR', 7), ('beg', 7), ('begun', 7), ('bread', 7), ('business', 7), ('chin', 7), ('deep', 7), ('draw', 7), ('dream', 7), ('each', 7), ('eye', 7), ('fall', 7), ('fancy', 7), ('feeling', 7), ('frightened', 7), ('generally', 7), ('goes', 7), ('golden', 7), ('ground', 7), ('grown', 7), ('hadn', 7), ('hair', 7), ('happened', 7), ('hedgehog', 7), ('history', 7), ('hot', 7), ('however', 7), ('important', 7), ('isn', 7), ('kind', 7), ('larger', 7), ('learn', 7), ('leave', 7), ('listen', 7), ('lobsters', 7), ('manage', 7), ('middle', 7), ('mine', 7), ('neck', 7), ('oop', 7), ('open', 7), ('others', 7), ('our', 7), ('pleased', 7), ('puppy', 7), ('silent', 7), ('song', 7), ('stood', 7), ('story', 7), ('surprised', 7), ('tired', 7), ('trees', 7), ('watch', 7), ('wondering', 7), ('world', 7), ('ARE', 6), ('After', 6), ('English', 6), ('Hearts', 6), ('Lizard', 6), ('One', 6), ('Two', 6), ('WHAT', 6), ('Will', 6), ('William', 6), ('almost', 6), ('along', 6), ('arms', 6), ('broken', 6), ('chimney', 6), ('does', 6), ('dreadfully', 6), ('e', 6), ('ear', 6), ('evidence', 6), ('exclaimed', 6), ('executed', 6), ('executioner', 6), ('fell', 6), ('fetch', 6), ('fish', 6), ('forgotten', 6), ('full', 6), ('grin', 6), ('guinea', 6), ('has', 6), ('himself', 6), ('hold', 6), ('inches', 6), ('jumped', 6), ('late', 6), ('leaves', 6), ('liked', 6), ('loud', 6), ('marked', 6), ('melancholy', 6), ('myself', 6), ('nice', 6), ('nonsense', 6), ('pardon', 6), ('pepper', 6), ('piece', 6), ('pigs', 6), ('pocket', 6), ('politely', 6), ('repeat', 6), ('roof', 6), ('school', 6), ('serpent', 6), ('sharp', 6), ('shoes', 6), ('sir', 6), ('sit', 6), ('sleep', 6), ('sneezing', 6), ('subject', 6), ('tarts', 6), ('times', 6), ('told', 6), ('trembling', 6), ('trouble', 6), ('understand', 6), ('writing', 6), ('written', 6), ('youth', 6), ('Ah', 5), ('All', 5), ('An', 5), ('Beautiful', 5), ('Lobster', 5), ('M', 5), ('Please', 5), ('SHE', 5), ('Seven', 5), ('Tell', 5), ('Very', 5), ('WOULD', 5), ('Where', 5), ('While', 5), ('across', 5), ('aloud', 5), ('altogether', 5), ('angry', 5), ('asking', 5), ('become', 5), ('between', 5), ('call', 5), ('case', 5), ('clock', 5), ('confusion', 5), ('crowded', 5), ('curiosity', 5), ('cut', 5), ('dare', 5), ('direction', 5), ('doing', 5), ('drew', 5), ('dropped', 5), ('ears', 5), ('eggs', 5), ('evening', 5), ('everybody', 5), ('exactly', 5), ('faces', 5), ('finger', 5), ('finish', 5), ('flamingo', 5), ('happens', 5), ('height', 5), ('home', 5), ('hookah', 5), ('impatiently', 5), ('instantly', 5), ('interesting', 5), ('kid', 5), ('knee', 5), ('likely', 5), ('man', 5), ('means', 5), ('meant', 5), ('morning', 5), ('moved', 5), ('nearer', 5), ('nervous', 5), ('night', 5), ('nine', 5), ('nobody', 5), ('notice', 5), ('often', 5), ('pack', 5), ('pair', 5), ('passed', 5), ('procession', 5), ('quietly', 5), ('rabbit', 5), ('race', 5), ('remembered', 5), ('reply', 5), ('sadly', 5), ('seems', 5), ('sentence', 5), ('shan', 5), ('shouldn', 5), ('shriek', 5), ('shrill', 5), ('shut', 5), ('sighed', 5), ('simple', 5), ('sing', 5), ('sky', 5), ('sleepy', 5), ('somebody', 5), ('sometimes', 5), ('sounded', 5), ('speaking', 5), ('stand', 5), ('stay', 5), ('stop', 5), ('strange', 5), ('stupid', 5), ('sudden', 5), ('surprise', 5), ('swam', 5), ('taking', 5), ('temper', 5), ('ten', 5), ('treacle', 5), ('twice', 5), ('twinkle', 5), ('until', 5), ('usual', 5), ('walk', 5), ('walking', 5), ('water', 5), ('waving', 5), ('whispered', 5), ('write', 5), ('wrong', 5), ('young', 5), ('ALL', 4), ('Ann', 4), ('Are', 4), ('Beau', 4), ('By', 4), ('CAN', 4), ('COULD', 4), ('Call', 4), ('French', 4), ('HAVE', 4), ('HE', 4), ('Hold', 4), ('IT', 4), ('Mabel', 4), ('Mary', 4), ('Never', 4), ('Nothing', 4), ('ONE', 4), ('On', 4), ('Quadrille', 4), ('Said', 4), ('Sure', 4), ('THIS', 4), ('Take', 4), ('WAS', 4), ('With', 4), ('adventures', 4), ('age', 4), ('alone', 4), ('animals', 4), ('answered', 4), ('arches', 4), ('argument', 4), ('bats', 4), ('beat', 4), ('begins', 4), ('bottom', 4), ('bowed', 4), ('breath', 4), ('busily', 4), ('capital', 4), ('care', 4), ('carried', 4), ('chance', 4), ('confused', 4), ('corner', 4), ('creature', 4), ('crowd', 4), ('crumbs', 4), ('days', 4), ('dead', 4), ('decidedly', 4), ('deeply', 4), ('difficulty', 4), ('dish', 4), ('doubt', 4), ('drink', 4), ('earth', 4), ('escape', 4), ('except', 4), ('fallen', 4), ('fast', 4), ('fear', 4), ('fellow', 4), ('fire', 4), ('fond', 4), ('frowning', 4), ('girl', 4), ('grass', 4), ('green', 4), ('grunted', 4), ('hearing', 4), ('held', 4), ('hers', 4), ('hole', 4), ('honour', 4), ('hours', 4), ('indignantly', 4), ('judge', 4), ('jumping', 4), ('jurors', 4), ('jurymen', 4), ('kitchen', 4), ('lay', 4), ('led', 4), ('lives', 4), ('managed', 4), ('master', 4), ('mice', 4), ('mouths', 4), ('natural', 4), ('new', 4), ('none', 4), ('number', 4), ('officers', 4), ('ootiful', 4), ('ordered', 4), ('otherwise', 4), ('pale', 4), ('paper', 4), ('particular', 4), ('passage', 4), ('paws', 4), ('perfectly', 4), ('person', 4), ('pictures', 4), ('plan', 4), ('players', 4), ('pointing', 4), ('porpoise', 4), ('puzzling', 4), ('questions', 4), ('reach', 4), ('rose', 4), ('rule', 4), ('savage', 4), ('says', 4), ('screamed', 4), ('second', 4), ('several', 4), ('severely', 4), ('sharply', 4), ('shore', 4), ('short', 4), ('shoulder', 4), ('shoulders', 4), ('shrinking', 4), ('sides', 4), ('sigh', 4), ('since', 4), ('slate', 4), ('sobs', 4), ('solemnly', 4), ('sound', 4), ('soup', 4), ('stick', 4), ('suppressed', 4), ('taken', 4), ('taught', 4), ('thimble', 4), ('thoughtfully', 4), ('tiny', 4), ('tongue', 4), ('twelve', 4), ('twinkling', 4), ('uncomfortable', 4), ('vanished', 4), ('ventured', 4), ('verdict', 4), ('verse', 4), ('verses', 4), ('violently', 4), ('wanted', 4), ('worth', 4), ('wow', 4), ('yer', 4), ('ALICE', 3), ('AND', 3), ('Adventures', 3), ('Caucus', 3), ('Consider', 3), ('Did', 3), ('Down', 3), ('Drawling', 3), ('Duck', 3), ('Eaglet', 3), ('Exactly', 3), ('Give', 3), ('Go', 3), ('HIM', 3), ('Have', 3), ('Her', 3), ('Is', 3), ('MUST', 3), ('Miss', 3), ('My', 3), ('Nobody', 3), ('O', 3), ('OF', 3), ('Once', 3), ('Only', 3), ('Owl', 3), ('Panther', 3), ('Pat', 3), ('Perhaps', 3), ('Pray', 3), ('Serpent', 3), ('Silence', 3), ('THINK', 3), ('TO', 3), ('Thank', 3), ('Time', 3), ('Tortoise', 3), ('Turn', 3), ('Twinkle', 3), ('WILL', 3), ('Wonderland', 3), ('Yet', 3), ('above', 3), ('advance', 3), ('advantage', 3), ('alas', 3), ('alive', 3), ('anxious', 3), ('around', 3), ('attending', 3), ('bank', 3), ('bat', 3), ('beheaded', 3), ('below', 3), ('besides', 3), ('boy', 3), ('breathe', 3), ('bringing', 3), ('brought', 3), ('cake', 3), ('cakes', 3), ('candle', 3), ('cards', 3), ('carefully', 3), ('catch', 3), ('caught', 3), ('cause', 3), ('cautiously', 3), ('certain', 3), ('checked', 3), ('cheered', 3), ('choked', 3), ('chorus', 3), ('civil', 3), ('confusing', 3), ('considered', 3), ('considering', 3), ('courage', 3), ('crash', 3), ('cross', 3), ('crossed', 3), ('crown', 3), ('cry', 3), ('dark', 3), ('dears', 3), ('decided', 3), ('delight', 3), ('directions', 3), ('dog', 3), ('dogs', 3), ('dull', 3), ('eager', 3), ('easily', 3), ('edge', 3), ('effect', 3), ('elbow', 3), ('em', 3), ('execution', 3), ('expecting', 3), ('faster', 3), ('figure', 3), ('filled', 3), ('finding', 3), ('floor', 3), ('fly', 3), ('folded', 3), ('follows', 3), ('footman', 3), ('forgetting', 3), ('free', 3), ('friend', 3), ('fun', 3), ('funny', 3), ('fur', 3), ('further', 3), ('general', 3), ('gently', 3), ('girls', 3), ('grand', 3), ('grave', 3), ('gravely', 3), ('grinned', 3), ('growl', 3), ('guess', 3), ('guessed', 3), ('guests', 3), ('handed', 3), ('hanging', 3), ('hedgehogs', 3), ('hoarse', 3), ('holding', 3), ('hope', 3), ('hoping', 3), ('howling', 3), ('hungry', 3), ('hunting', 3), ('hurt', 3), ('immediately', 3), ('impossible', 3), ('instance', 3), ('instead', 3), ('joined', 3), ('kick', 3), ('knife', 3), ('knocking', 3), ('knowledge', 3), ('lady', 3), ('later', 3), ('legs', 3), ('less', 3), ('lesson', 3), ('letter', 3), ('list', 3), ('listening', 3), ('lived', 3), ('livery', 3), ('longer', 3), ('lost', 3), ('loudly', 3), ('mark', 3), ('mentioned', 3), ('met', 3), ('miles', 3), ('mistake', 3), ('move', 3), ('moving', 3), ('muchness', 3), ('music', 3), ('mustard', 3), ('muttering', 3), ('needn', 3), ('nibbling', 3), ('noise', 3), ('notion', 3), ('nurse', 3), ('nursing', 3), ('o', 3), ('obliged', 3), ('opening', 3), ('order', 3), ('outside', 3), ('passion', 3), ('past', 3), ('pattering', 3), ('paw', 3), ('peeped', 3), ('picked', 3), ('pie', 3), ('pieces', 3), ('pity', 3), ('plate', 3), ('pleaded', 3), ('poison', 3), ('possibly', 3), ('present', 3), ('pressed', 3), ('prizes', 3), ('proper', 3), ('putting', 3), ('reading', 3), ('real', 3), ('remained', 3), ('remarking', 3), ('remarks', 3), ('repeating', 3), ('roses', 3), ('rules', 3), ('run', 3), ('sad', 3), ('sense', 3), ('serpents', 3), ('settled', 3), ('shaking', 3), ('shaped', 3), ('show', 3), ('sighing', 3), ('simply', 3), ('slipped', 3), ('smaller', 3), ('snail', 3), ('sobbing', 3), ('solemn', 3), ('sorts', 3), ('sounds', 3), ('spectacles', 3), ('speech', 3), ('spread', 3), ('stairs', 3), ('staring', 3), ('stopped', 3), ('stuff', 3), ('succeeded', 3), ('suit', 3), ('sulky', 3), ('swim', 3), ('tails', 3), ('tale', 3), ('tasted', 3), ('teacup', 3), ('telescope', 3), ('themselves', 3), ('throw', 3), ('timid', 3), ('toes', 3), ('tossing', 3), ('true', 3), ('trumpet', 3), ('tucked', 3), ('turns', 3), ('unfortunate', 3), ('unimportant', 3), ('upset', 3), ('venture', 3), ('voices', 3), ('watching', 3), ('week', 3), ('whiskers', 3), ('whisper', 3), ('worse', 3), ('wrote', 3), ('yesterday', 3), ('BEST', 2), ('Be', 2), ('CHORUS', 2), ('Can', 2), ('Conqueror', 2), ('Crab', 2), ('D', 2), ('DRINK', 2), ('Digging', 2), ('Does', 2), ('Edwin', 2), ('Everybody', 2), ('Everything', 2), ('Explain', 2), ('FATHER', 2), ('FIT', 2), ('Father', 2), ('Fish', 2), ('Found', 2), ('Fury', 2), ('GAVE', 2), ('Get', 2), ('HER', 2), ('Hush', 2), ('IF', 2), ('IN', 2), ('Keep', 2), ('LITTLE', 2), ('Latitude', 2), ('Longitude', 2), ('MINE', 2), ('MORE', 2), ('Ma', 2), ('May', 2), ('Mercia', 2), ('Mind', 2), ('Morcar', 2), ('Mystery', 2), ('NEVER', 2), ('Next', 2), ('Northumbria', 2), ('OLD', 2), ('Paris', 2), ('Pennyworth', 2), ('Pepper', 2), ('Pig', 2), ('Poor', 2), ('Presently', 2), ('Prizes', 2), ('QUITE', 2), ('Really', 2), ('Rome', 2), ('SAID', 2), ('Shall', 2), ('Some', 2), ('Speak', 2), ('Suppose', 2), ('T', 2), ('THEY', 2), ('TWO', 2), ('These', 2), ('Tis', 2), ('Treacle', 2), ('UNimportant', 2), ('Ugh', 2), ('Uglification', 2), ('Up', 2), ('WILLIAM', 2), ('Wake', 2), ('Wow', 2), ('Your', 2), ('absurd', 2), ('accident', 2), ('addressed', 2), ('advisable', 2), ('afterwards', 2), ('ago', 2), ('agree', 2), ('alarm', 2), ('allow', 2), ('already', 2), ('also', 2), ('anger', 2), ('animal', 2), ('appear', 2), ('apples', 2), ('archbishop', 2), ('ashamed', 2), ('assembled', 2), ('atom', 2), ('authority', 2), ('bad', 2), ('bark', 2), ('barrowful', 2), ('bear', 2), ('beasts', 2), ('beating', 2), ('beautifully', 2), ('became', 2), ('beds', 2), ('belongs', 2), ('bend', 2), ('bird', 2), ('bite', 2), ('blasts', 2), ('blew', 2), ('blow', 2), ('body', 2), ('books', 2), ('boots', 2), ('branches', 2), ('break', 2), ('brightened', 2), ('bring', 2), ('broke', 2), ('brown', 2), ('burn', 2), ('bye', 2), ('cares', 2), ('carrying', 2), ('catching', 2), ('cauldron', 2), ('caused', 2), ('changes', 2), ('changing', 2), ('choice', 2), ('chose', 2), ('claws', 2), ('clear', 2), ('clever', 2), ('closed', 2), ('coaxing', 2), ('collected', 2), ('comes', 2), ('comfits', 2), ('concert', 2), ('concluded', 2), ('conclusion', 2), ('constant', 2), ('contemptuously', 2), ('cool', 2), ('courtiers', 2), ('crimson', 2), ('crying', 2), ('cucumber', 2), ('cup', 2), ('cupboards', 2), ('curled', 2), ('cushion', 2), ('custody', 2), ('dancing', 2), ('declare', 2), ('delighted', 2), ('delightful', 2), ('denied', 2), ('deny', 2), ('difficult', 2), ('digging', 2), ('dinner', 2), ('dipped', 2), ('directed', 2), ('directly', 2), ('disappeared', 2), ('dishes', 2), ('dispute', 2), ('distant', 2), ('doors', 2), ('doth', 2), ('doubtful', 2), ('doubtfully', 2), ('dreadful', 2), ('drunk', 2), ('earls', 2), ('earnestly', 2), ('easy', 2), ('editions', 2), ('eel', 2), ('encouraging', 2), ('ending', 2), ('entangled', 2), ('entirely', 2), ('examine', 2), ('excellent', 2), ('executions', 2), ('experiment', 2), ('explanation', 2), ('extraordinary', 2), ('extremely', 2), ('falling', 2), ('fancied', 2), ('fashion', 2), ('father', 2), ('feeble', 2), ('feelings', 2), ('ferrets', 2), ('fight', 2), ('fine', 2), ('flamingoes', 2), ('flat', 2), ('flower', 2), ('flowers', 2), ('follow', 2), ('footsteps', 2), ('forehead', 2), ('forget', 2), ('forgot', 2), ('fountains', 2), ('friends', 2), ('fright', 2), ('frog', 2), ('front', 2), ('giddy', 2), ('giving', 2), ('goldfish', 2), ('goose', 2), ('hasn', 2), ('hate', 2), ('heart', 2), ('heavy', 2), ('hedge', 2), ('hint', 2), ('hit', 2), ('hour', 2), ('humbly', 2), ('hurriedly', 2), ('ill', 2), ('interrupting', 2), ('introduce', 2), ('invitation', 2), ('invited', 2), ('jar', 2), ('jaws', 2), ('keeping', 2), ('kindly', 2), ('knot', 2), ('knowing', 2), ('knows', 2), ('label', 2), ('laid', 2), ('lap', 2), ('lasted', 2), ('laughed', 2), ('law', 2), ('leaning', 2), ('learning', 2), ('learnt', 2), ('lefthand', 2), ('legged', 2), ('lie', 2), ('line', 2), ('living', 2), ('lobster', 2), ('locks', 2), ('lonely', 2), ('longed', 2), ('love', 2), ('lovely', 2), ('manner', 2), ('matters', 2), ('meekly', 2), ('meet', 2), ('merely', 2), ('messages', 2), ('milk', 2), ('miserable', 2), ('missed', 2), ('mixed', 2), ('month', 2), ('mostly', 2), ('muttered', 2), ('names', 2), ('narrow', 2), ('neatly', 2), ('neither', 2), ('nibbled', 2), ('nicely', 2), ('nor', 2), ('note', 2), ('nowhere', 2), ('occurred', 2), ('offer', 2), ('older', 2), ('ordering', 2), ('ornamented', 2), ('painting', 2), ('panting', 2), ('parchment', 2), ('part', 2), ('patiently', 2), ('pause', 2), ('pebbles', 2), ('pencil', 2), ('persisted', 2), ('personal', 2), ('picking', 2), ('pinched', 2), ('places', 2), ('plates', 2), ('playing', 2), ('pleasure', 2), ('position', 2), ('presents', 2), ('prisoner', 2), ('proceed', 2), ('proud', 2), ('proved', 2), ('purring', 2), ('quarrelling', 2), ('quickly', 2), ('quiet', 2), ('railway', 2), ('raised', 2), ('rapidly', 2), ('rattling', 2), ('raving', 2), ('recovered', 2), ('red', 2), ('regular', 2), ('relief', 2), ('remarkable', 2), ('removed', 2), ('resting', 2), ('riddles', 2), ('ring', 2), ('ringlets', 2), ('roots', 2), ('row', 2), ('royal', 2), ('rubbing', 2), ('rude', 2), ('rush', 2), ('safe', 2), ('salt', 2), ('sang', 2), ('scream', 2), ('scroll', 2), ('secondly', 2), ('sell', 2), ('sending', 2), ('sensation', 2), ('sent', 2), ('shelves', 2), ('shorter', 2), ('shouting', 2), ('shower', 2), ('showing', 2), ('shutting', 2), ('signed', 2), ('singers', 2), ('singing', 2), ('sisters', 2), ('six', 2), ('smallest', 2), ('smile', 2), ('smiled', 2), ('smiling', 2), ('smoking', 2), ('snatch', 2), ('sneeze', 2), ('sneezes', 2), ('somersault', 2), ('somewhere', 2), ('sooner', 2), ('sorrow', 2), ('sorrowful', 2), ('splashing', 2), ('spoon', 2), ('squeaking', 2), ('stamping', 2), ('started', 2), ('startled', 2), ('stirring', 2), ('stoop', 2), ('straight', 2), ('stretched', 2), ('struck', 2), ('sugar', 2), ('sulkily', 2), ('summer', 2), ('sun', 2), ('swimming', 2), ('takes', 2), ('taller', 2), ('taste', 2), ('teacups', 2), ('telling', 2), ('tells', 2), ('tempered', 2), ('thistle', 2), ('thoroughly', 2), ('thoughts', 2), ('thousand', 2), ('threw', 2), ('throat', 2), ('throwing', 2), ('thump', 2), ('tiptoe', 2), ('tis', 2), ('tones', 2), ('treading', 2), ('trembled', 2), ('triumphantly', 2), ('trotting', 2), ('tumbling', 2), ('turtles', 2), ('twenty', 2), ('twist', 2), ('ugly', 2), ('undertone', 2), ('uneasily', 2), ('unfolded', 2), ('unhappy', 2), ('unless', 2), ('unpleasant', 2), ('unrolled', 2), ('useful', 2), ('using', 2), ('usually', 2), ('violent', 2), ('wandered', 2), ('wandering', 2), ('wants', 2), ('wash', 2), ('washing', 2), ('wasting', 2), ('watched', 2), ('weak', 2), ('wet', 2), ('whatever', 2), ('wherever', 2), ('whose', 2), ('wide', 2), ('wig', 2), ('wild', 2), ('wildly', 2), ('wind', 2), ('wine', 2), ('wink', 2), ('wise', 2), ('within', 2), ('woman', 2), ('wonderful', 2), ('wretched', 2), ('yawned', 2), ('yawning', 2), ('year', 2), ('yours', 2), ('0', 1), ('3', 1), ('ADVENTURES', 1), ('AT', 1), ('Ada', 1), ('Advice', 1), ('Ahem', 1), ('Alas', 1), ('Allow', 1), ('Always', 1), ('Ambition', 1), ('Antipathies', 1), ('Anything', 1), ('Arithmetic', 1), ('Atheling', 1), ('Australia', 1), ('BE', 1), ('BEE', 1), ('BEFORE', 1), ('BEG', 1), ('BOOTS', 1), ('BUSY', 1), ('Back', 1), ('Because', 1), ('Before', 1), ('Begin', 1), ('Behead', 1), ('Besides', 1), ('Between', 1), ('Birds', 1), ('Boots', 1), ('Brandy', 1), ('Bring', 1), ('C', 1), ('COURT', 1), ('CURTSEYING', 1), ('Canary', 1), ('Canterbury', 1), ('Carroll', 1), ('Catch', 1), ('Certainly', 1), ('Change', 1), ('Chorus', 1), ('Christmas', 1), ('Classics', 1), ('Coils', 1), ('Collar', 1), ('Coming', 1), ('Croquet', 1), ('Curiouser', 1), ('DOES', 1), ('DON', 1), ('DOTH', 1), ('Dear', 1), ('Derision', 1), ('Dinn', 1), ('Distraction', 1), ('Drink', 1), ('Drive', 1), ('EAT', 1), ('EDITION', 1), ('END', 1), ('ESQ', 1), ('EVEN', 1), ('EVER', 1), ('EVERYBODY', 1), ('Each', 1), ('Edgar', 1), ('Either', 1), ('Elsie', 1), ('England', 1), ('Even', 1), ('Evidence', 1), ('FENDER', 1), ('FOOT', 1), ('FROM', 1), ('FUL', 1), ('FULCRUM', 1), ('Fainting', 1), ('Fetch', 1), ('Fifteenth', 1), ('Forty', 1), ('Fourteenth', 1), ('France', 1), ('Frog', 1), ('From', 1), ('Game', 1), ('Geography', 1), ('Good', 1), ('Grammar', 1), ('Grief', 1), ('Ground', 1), ('HAD', 1), ('HATED', 1), ('HEARTHRUG', 1), ('HEARTS', 1), ('HERE', 1), ('HIGH', 1), ('HIS', 1), ('HOW', 1), ('Hadn', 1), ('Half', 1), ('Hand', 1), ('Hardly', 1), ('Has', 1), ('Heads', 1), ('Herald', 1), ('Him', 1), ('His', 1), ('Hjckrrh', 1), ('Hm', 1), ('Hole', 1), ('II', 1), ('III', 1), ('INSIDE', 1), ('ITS', 1), ('IV', 1), ('IX', 1), ('Idiot', 1), ('Imagine', 1), ('Improve', 1), ('Indeed', 1), ('Involved', 1), ('Jack', 1), ('KING', 1), ('KNOW', 1), ('Kings', 1), ('LEAVE', 1), ('LESS', 1), ('LL', 1), ('LOVE', 1), ('Lacie', 1), ('Last', 1), ('Lastly', 1), ('Latin', 1), ('Laughing', 1), ('Leave', 1), ('Lewis', 1), ('Like', 1), ('Little', 1), ('London', 1), ('Long', 1), ('Look', 1), ('Luckily', 1), ('MARMALADE', 1), ('MILE', 1), ('MILLENNIUM', 1), ('MYSELF', 1), ('Mad', 1), ('Magpie', 1), ('Maybe', 1), ('Mine', 1), ('Multiplication', 1), ('NEAR', 1), ('NO', 1), ('Nay', 1), ('Nearly', 1), ('New', 1), ('Nile', 1), ('Nonsense', 1), ('Nor', 1), ('Normans', 1), ('Number', 1), ('ORANGE', 1), ('OURS', 1), ('OUT', 1), ('OUTSIDE', 1), ('Or', 1), ('Ou', 1), ('Our', 1), ('PERSONS', 1), ('PLEASE', 1), ('PLENTY', 1), ('POCKET', 1), ('PRECIOUS', 1), ('PROVES', 1), ('Party', 1), ('Pinch', 1), ('Pool', 1), ('Puss', 1), ('QUEEN', 1), ('Queens', 1), ('Quick', 1), ('RABBIT', 1), ('RED', 1), ('RETURNED', 1), ('RIGHT', 1), ('Race', 1), ('Read', 1), ('Reeling', 1), ('Repeat', 1), ('Right', 1), ('Rule', 1), ('Run', 1), ('SHOES', 1), ('SIT', 1), ('SLUGGARD', 1), ('SOME', 1), ('SOMEBODY', 1), ('SOMETHING', 1), ('SOMEWHERE', 1), ('SOUP', 1), ('SWIM', 1), ('Same', 1), ('Seals', 1), ('Seaography', 1), ('See', 1), ('Sends', 1), ('Sentence', 1), ('Sh', 1), ('Shakespeare', 1), ('Shan', 1), ('Shark', 1), ('Shy', 1), ('Sing', 1), ('Sir', 1), ('Sit', 1), ('Sixteenth', 1), ('Soles', 1), ('Somebody', 1), ('Soon', 1), ('Sounds', 1), ('Stand', 1), ('Stigand', 1), ('Still', 1), ('Stole', 1), ('Stolen', 1), ('Stop', 1), ('Story', 1), ('Stretching', 1), ('Stuff', 1), ('Stupid', 1), ('Such', 1), ('Suddenly', 1), ('Suppress', 1), ('Swim', 1), ('THAN', 1), ('THEIR', 1), ('THEN', 1), ('THERE', 1), ('THESE', 1), ('THROUGH', 1), ('TIS', 1), ('TOOK', 1), ('TRUE', 1), ('Table', 1), ('Tale', 1), ('Talking', 1), ('Tarts', 1), ('Tea', 1), ('Tears', 1), ('Ten', 1), ('Their', 1), ('Therefore', 1), ('Thinking', 1), ('Those', 1), ('Though', 1), ('Tillie', 1), ('To', 1), ('Too', 1), ('Trims', 1), ('Tut', 1), ('Twenty', 1), ('V', 1), ('VE', 1), ('VI', 1), ('VII', 1), ('VIII', 1), ('VOICE', 1), ('Visit', 1), ('W', 1), ('WAISTCOAT', 1), ('WASHING', 1), ('WATCH', 1), ('WE', 1), ('WHATEVER', 1), ('WITH', 1), ('WONDERLAND', 1), ('Waiting', 1), ('Was', 1), ('Whoever', 1), ('Wouldn', 1), ('Write', 1), ('Writhing', 1), ('X', 1), ('XI', 1), ('XII', 1), ('YET', 1), ('YOURS', 1), ('Zealand', 1), ('abide', 1), ('able', 1), ('absence', 1), ('acceptance', 1), ('accidentally', 1), ('account', 1), ('accounting', 1), ('accounts', 1), ('accusation', 1), ('accustomed', 1), ('ache', 1), ('act', 1), ('actually', 1), ('adding', 1), ('addressing', 1), ('adjourn', 1), ('adoption', 1), ('advice', 1), ('advise', 1), ('affair', 1), ('affectionately', 1), ('afford', 1), ('afore', 1), ('agony', 1), ('airs', 1), ('alarmed', 1), ('altered', 1), ('alternately', 1), ('ancient', 1), ('annoy', 1), ('annoyed', 1), ('answers', 1), ('anywhere', 1), ('appealed', 1), ('appearance', 1), ('appearing', 1), ('applause', 1), ('apple', 1), ('arch', 1), ('argue', 1), ('argued', 1), ('arguments', 1), ('arranged', 1), ('arrived', 1), ('arrow', 1), ('arrum', 1), ('askance', 1), ('ate', 1), ('attempt', 1), ('attempted', 1), ('attempts', 1), ('attended', 1), ('attends', 1), ('audibly', 1), ('avoid', 1), ('awfully', 1), ('axes', 1), ('axis', 1), ('backs', 1), ('bag', 1), ('baked', 1), ('balanced', 1), ('balls', 1), ('banks', 1), ('banquet', 1), ('barking', 1), ('barley', 1), ('bathing', 1), ('bawled', 1), ('beak', 1), ('beast', 1), ('beauti', 1), ('beautify', 1), ('becoming', 1), ('bed', 1), ('begged', 1), ('beheading', 1), ('believed', 1), ('bells', 1), ('belong', 1), ('beloved', 1), ('belt', 1), ('bent', 1), ('bill', 1), ('birthday', 1), ('bitter', 1), ('blacking', 1), ('blades', 1), ('blame', 1), ('bleeds', 1), ('blown', 1), ('blows', 1), ('boldly', 1), ('bone', 1), ('bones', 1), ('boon', 1), ('bore', 1), ('bother', 1), ('bough', 1), ('bound', 1), ('bowing', 1), ('boxed', 1), ('brain', 1), ('branch', 1), ('brass', 1), ('brave', 1), ('breeze', 1), ('bristling', 1), ('brother', 1), ('brush', 1), ('brushing', 1), ('burning', 1), ('burnt', 1), ('burst', 1), ('bursting', 1), ('busy', 1), ('buttercup', 1), ('buttered', 1), ('butterfly', 1), ('buttons', 1), ('cackled', 1), ('calling', 1), ('calmly', 1), ('camomile', 1), ('cannot', 1), ('canvas', 1), ('capering', 1), ('cardboard', 1), ('carrier', 1), ('carry', 1), ('cart', 1), ('cartwheels', 1), ('caterpillar', 1), ('cattle', 1), ('ceiling', 1), ('centre', 1), ('chain', 1), ('chains', 1), ('chair', 1), ('chanced', 1), ('character', 1), ('charges', 1), ('chatte', 1), ('cheap', 1), ('cheated', 1), ('cheeks', 1), ('cheerfully', 1), ('cherry', 1), ('chief', 1), ('childhood', 1), ('chimneys', 1), ('choke', 1), ('choking', 1), ('choosing', 1), ('chop', 1), ('chrysalis', 1), ('chuckled', 1), ('circle', 1), ('circumstances', 1), ('clamour', 1), ('clapping', 1), ('clasped', 1), ('clean', 1), ('cleared', 1), ('clearer', 1), ('clearly', 1), ('climb', 1), ('clinging', 1), ('closely', 1), ('closer', 1), ('clubs', 1), ('coast', 1), ('cold', 1), ('comfort', 1), ('comfortable', 1), ('comfortably', 1), ('common', 1), ('commotion', 1), ('company', 1), ('complained', 1), ('complaining', 1), ('completely', 1), ('condemn', 1), ('conduct', 1), ('conger', 1), ('conquest', 1), ('consented', 1), ('consider', 1), ('consultation', 1), ('contempt', 1), ('contemptuous', 1), ('content', 1), ('contradicted', 1), ('conversations', 1), ('corners', 1), ('cost', 1), ('counting', 1), ('country', 1), ('couple', 1), ('couples', 1), ('coward', 1), ('crab', 1), ('crashed', 1), ('crawled', 1), ('crawling', 1), ('crazy', 1), ('creep', 1), ('crept', 1), ('cries', 1), ('crocodile', 1), ('croqueted', 1), ('croqueting', 1), ('crossly', 1), ('crouched', 1), ('crust', 1), ('cunning', 1), ('cur', 1), ('curiouser', 1), ('curls', 1), ('curly', 1), ('currants', 1), ('curtain', 1), ('curtsey', 1), ('curving', 1), ('custard', 1), ('cutting', 1), ('dainties', 1), ('daisies', 1), ('daisy', 1), ('daresay', 1), ('darkness', 1), ('dates', 1), ('daughter', 1), ('death', 1), ('declared', 1), ('deepest', 1), ('delay', 1), ('denial', 1), ('denies', 1), ('denying', 1), ('depends', 1), ('deserved', 1), ('desk', 1), ('desks', 1), ('despair', 1), ('desperate', 1), ('desperately', 1), ('diamonds', 1), ('die', 1), ('died', 1), ('difficulties', 1), ('dig', 1), ('diligently', 1), ('dinn', 1), ('disagree', 1), ('disappointment', 1), ('disgust', 1), ('dismay', 1), ('disobey', 1), ('dive', 1), ('dodged', 1), ('doorway', 1), ('double', 1), ('doubled', 1), ('doubling', 1), ('downward', 1), ('downwards', 1), ('doze', 1), ('dozing', 1), ('draggled', 1), ('drawing', 1), ('dreamed', 1), ('dreaming', 1), ('dreamy', 1), ('dressed', 1), ('dried', 1), ('driest', 1), ('drinking', 1), ('dripping', 1), ('drive', 1), ('drop', 1), ('dropping', 1), ('drowned', 1), ('duck', 1), ('dunce', 1), ('eaten', 1), ('eating', 1), ('eats', 1), ('educations', 1), ('eels', 1), ('egg', 1), ('eh', 1), ('elbows', 1), ('elegant', 1), ('eleventh', 1), ('emphasis', 1), ('empty', 1), ('encourage', 1), ('encouraged', 1), ('energetic', 1), ('engaged', 1), ('engine', 1), ('engraved', 1), ('enjoy', 1), ('enormous', 1), ('entrance', 1), ('est', 1), ('evidently', 1), ('exact', 1), ('examining', 1), ('exclamation', 1), ('execute', 1), ('executes', 1), ('existence', 1), ('expected', 1), ('explained', 1), ('explanations', 1), ('expressing', 1), ('expression', 1), ('extra', 1), ('extras', 1), ('eyed', 1), ('eyelids', 1), ('fading', 1), ('failure', 1), ('faint', 1), ('faintly', 1), ('fair', 1), ('fairly', 1), ('fairy', 1), ('familiarly', 1), ('family', 1), ('fancying', 1), ('fanned', 1), ('fanning', 1), ('farm', 1), ('farmer', 1), ('farther', 1), ('fat', 1), ('favoured', 1), ('favourite', 1), ('feared', 1), ('feather', 1), ('feathers', 1), ('feebly', 1), ('fellows', 1), ('fidgeted', 1), ('field', 1), ('fifteen', 1), ('fifth', 1), ('fig', 1), ('fighting', 1), ('figures', 1), ('fills', 1), ('finds', 1), ('finishing', 1), ('fireplace', 1), ('fishes', 1), ('fit', 1), ('fits', 1), ('fitted', 1), ('five', 1), ('fix', 1), ('fixed', 1), ('flame', 1), ('flapper', 1), ('flappers', 1), ('flashed', 1), ('flavour', 1), ('flew', 1), ('flinging', 1), ('flock', 1), ('flown', 1), ('flung', 1), ('flurry', 1), ('flustered', 1), ('fluttered', 1), ('flying', 1), ('folding', 1), ('foolish', 1), ('footmen', 1), ('forepaws', 1), ('fork', 1), ('form', 1), ('fortunately', 1), ('forwards', 1), ('fourth', 1), ('frame', 1), ('frames', 1), ('frighten', 1), ('frontispiece', 1), ('frying', 1), ('fumbled', 1), ('furious', 1), ('furiously', 1), ('furrow', 1), ('furrows', 1), ('fury', 1), ('gained', 1), ('gallons', 1), ('games', 1), ('gather', 1), ('gay', 1), ('gazing', 1), ('given', 1), ('glanced', 1), ('glaring', 1), ('globe', 1), ('gloomily', 1), ('graceful', 1), ('grant', 1), ('gravy', 1), ('grazed', 1), ('grew', 1), ('grey', 1), ('grinning', 1), ('grins', 1), ('growled', 1), ('growling', 1), ('growls', 1), ('grumbled', 1), ('grunt', 1), ('guard', 1), ('guilt', 1), ('handsome', 1), ('handwriting', 1), ('happening', 1), ('happy', 1), ('harm', 1), ('haste', 1), ('hat', 1), ('hatching', 1), ('hatter', 1), ('hatters', 1), ('heap', 1), ('hearth', 1), ('hearts', 1), ('hedges', 1), ('heels', 1), ('helped', 1), ('helpless', 1), ('hid', 1), ('hide', 1), ('highest', 1), ('hippopotamus', 1), ('hiss', 1), ('histories', 1), ('hoarsely', 1), ('holiday', 1), ('hollow', 1), ('honest', 1), ('hoped', 1), ('hopeful', 1), ('hopeless', 1), ('horse', 1), ('housemaid', 1), ('houses', 1), ('howled', 1), ('humble', 1), ('hundred', 1), ('hung', 1), ('hurrying', 1), ('hush', 1), ('idiotic', 1), ('ignorant', 1), ('imagine', 1), ('imitated', 1), ('immediate', 1), ('immense', 1), ('impatient', 1), ('impertinent', 1), ('incessantly', 1), ('inclined', 1), ('indignant', 1), ('injure', 1), ('ink', 1), ('inkstand', 1), ('inquired', 1), ('inquisitively', 1), ('inside', 1), ('insolence', 1), ('insult', 1), ('interest', 1), ('interrupt', 1), ('introduced', 1), ('invent', 1), ('invented', 1), ('inwards', 1), ('irons', 1), ('irritated', 1), ('jaw', 1), ('jelly', 1), ('jogged', 1), ('journey', 1), ('joys', 1), ('judging', 1), ('jug', 1), ('juror', 1), ('justice', 1), ('kettle', 1), ('kill', 1), ('killing', 1), ('kills', 1), ('king', 1), ('kiss', 1), ('kissed', 1), ('kneel', 1), ('knelt', 1), ('knock', 1), ('knocked', 1), ('known', 1), ('knuckles', 1), ('labelled', 1), ('lad', 1), ('ladder', 1), ('lamps', 1), ('land', 1), ('languid', 1), ('largest', 1), ('lark', 1), ('lately', 1), ('laugh', 1), ('laughing', 1), ('laughter', 1), ('lazily', 1), ('lazy', 1), ('leaders', 1), ('leading', 1), ('leant', 1), ('leap', 1), ('learned', 1), ('leaving', 1), ('ledge', 1), ('length', 1), ('lessen', 1), ('lest', 1), ('letters', 1), ('licking', 1), ('lifted', 1), ('likes', 1), ('limbs', 1), ('lines', 1), ('linked', 1), ('lips', 1), ('listened', 1), ('listeners', 1), ('lit', 1), ('lock', 1), ('locked', 1), ('lodging', 1), ('loose', 1), ('lose', 1), ('losing', 1), ('louder', 1), ('loveliest', 1), ('loving', 1), ('lower', 1), ('lowing', 1), ('luckily', 1), ('lullaby', 1), ('ma', 1), ('machines', 1), ('magic', 1), ('mallets', 1), ('managing', 1), ('manners', 1), ('maps', 1), ('marched', 1), ('maybe', 1), ('mayn', 1), ('meal', 1), ('meanwhile', 1), ('measure', 1), ('meat', 1), ('meeting', 1), ('memorandum', 1), ('memory', 1), ('men', 1), ('merrily', 1), ('mile', 1), ('minded', 1), ('minding', 1), ('mineral', 1), ('mischief', 1), ('miss', 1), ('moderate', 1), ('modern', 1), ('moon', 1), ('morals', 1), ('morsel', 1), ('mournful', 1), ('mournfully', 1), ('muddle', 1), ('murder', 1), ('murdering', 1), ('muscular', 1), ('nasty', 1), ('natured', 1), ('naturedly', 1), ('neat', 1), ('needs', 1), ('neighbour', 1), ('neighbouring', 1), ('nest', 1), ('nevertheless', 1), ('newspapers', 1), ('nodded', 1), ('noises', 1), ('noticing', 1), ('oblong', 1), ('obstacle', 1), ('occasional', 1), ('occasionally', 1), ('odd', 1), ('offend', 1), ('officer', 1), ('ointment', 1), ('oldest', 1), ('ones', 1), ('oneself', 1), ('onions', 1), ('opinion', 1), ('opposite', 1), ('ourselves', 1), ('overcome', 1), ('overhead', 1), ('oyster', 1), ('pace', 1), ('paint', 1), ('pairs', 1), ('pan', 1), ('panted', 1), ('pardoned', 1), ('partner', 1), ('partners', 1), ('parts', 1), ('pass', 1), ('passing', 1), ('passionate', 1), ('patience', 1), ('patriotic', 1), ('patted', 1), ('pattern', 1), ('paused', 1), ('peeping', 1), ('peering', 1), ('pegs', 1), ('pence', 1), ('pencils', 1), ('permitted', 1), ('pet', 1), ('picture', 1), ('pictured', 1), ('pigeon', 1), ('pinch', 1), ('pine', 1), ('pink', 1), ('piteous', 1), ('pitied', 1), ('placed', 1), ('plainly', 1), ('planning', 1), ('played', 1), ('pleasant', 1), ('pleasanter', 1), ('pleases', 1), ('pleasing', 1), ('plenty', 1), ('pointed', 1), ('poker', 1), ('poky', 1), ('pop', 1), ('pope', 1), ('positively', 1), ('possible', 1), ('pot', 1), ('pounds', 1), ('pour', 1), ('poured', 1), ('powdered', 1), ('practice', 1), ('presented', 1), ('pressing', 1), ('pretend', 1), ('pretending', 1), ('pretexts', 1), ('prettier', 1), ('pretty', 1), ('prevent', 1), ('printed', 1), ('prison', 1), ('prize', 1), ('processions', 1), ('produced', 1), ('producing', 1), ('promise', 1), ('promised', 1), ('promising', 1), ('pronounced', 1), ('proposal', 1), ('prosecute', 1), ('protection', 1), ('prove', 1), ('proves', 1), ('provoking', 1), ('puffed', 1), ('pulled', 1), ('pulling', 1), ('pun', 1), ('punching', 1), ('punished', 1), ('purple', 1), ('purpose', 1), ('push', 1), ('puzzle', 1), ('quarrel', 1), ('quarrelled', 1), ('queerest', 1), ('quick', 1), ('quicker', 1), ('quiver', 1), ('rabbits', 1), ('raising', 1), ('rapped', 1), ('rat', 1), ('rats', 1), ('rattle', 1), ('raven', 1), ('ravens', 1), ('raw', 1), ('reaching', 1), ('readily', 1), ('reality', 1), ('rearing', 1), ('reasonable', 1), ('reasons', 1), ('received', 1), ('recognised', 1), ('reduced', 1), ('reeds', 1), ('refreshments', 1), ('refused', 1), ('relieved', 1), ('remain', 1), ('remaining', 1), ('remedies', 1), ('remembering', 1), ('reminding', 1), ('resource', 1), ('respect', 1), ('respectable', 1), ('respectful', 1), ('result', 1), ('retire', 1), ('returned', 1), ('returning', 1), ('rich', 1), ('riddle', 1), ('ridge', 1), ('ridges', 1), ('ridiculous', 1), ('righthand', 1), ('rightly', 1), ('riper', 1), ('rippling', 1), ('rise', 1), ('rises', 1), ('rising', 1), ('roared', 1), ('roast', 1), ('rock', 1), ('rocket', 1), ('rope', 1), ('rosetree', 1), ('roughly', 1), ('rubbed', 1), ('rudeness', 1), ('rumbling', 1), ('rushed', 1), ('rustled', 1), ('rustling', 1), ('sage', 1), ('salmon', 1), ('sand', 1), ('sands', 1), ('saucepan', 1), ('saucepans', 1), ('saucer', 1), ('save', 1), ('saves', 1), ('scale', 1), ('scaly', 1), ('schoolroom', 1), ('scolded', 1), ('scrambling', 1), ('scratching', 1), ('screaming', 1), ('search', 1), ('seaside', 1), ('seated', 1), ('secret', 1), ('seeing', 1), ('seldom', 1), ('send', 1), ('sentenced', 1), ('series', 1), ('seriously', 1), ('setting', 1), ('settle', 1), ('settling', 1), ('seven', 1), ('severity', 1), ('sh', 1), ('shade', 1), ('shake', 1), ('shape', 1), ('share', 1), ('shared', 1), ('sharing', 1), ('sharks', 1), ('shedding', 1), ('sheep', 1), ('shepherd', 1), ('shifting', 1), ('shilling', 1), ('shillings', 1), ('shingle', 1), ('shining', 1), ('shiny', 1), ('shiver', 1), ('shock', 1), ('shrieked', 1), ('shrieks', 1), ('shrimp', 1), ('shrink', 1), ('shyly', 1), ('sign', 1), ('signifies', 1), ('signify', 1), ('simpleton', 1), ('sink', 1), ('sits', 1), ('sixpence', 1), ('sizes', 1), ('skimming', 1), ('skirt', 1), ('skurried', 1), ('slightest', 1), ('slippery', 1), ('smoke', 1), ('snappishly', 1), ('sneezed', 1), ('snorting', 1), ('snout', 1), ('sob', 1), ('sobbed', 1), ('soft', 1), ('softly', 1), ('soldier', 1), ('solid', 1), ('somehow', 1), ('someone', 1), ('son', 1), ('soothing', 1), ('sorrows', 1), ('sorry', 1), ('sour', 1), ('spades', 1), ('speaker', 1), ('speed', 1), ('spell', 1), ('spirited', 1), ('spite', 1), ('splash', 1), ('splashed', 1), ('splendidly', 1), ('spoken', 1), ('spot', 1), ('sprawling', 1), ('spreading', 1), ('squeaked', 1), ('squeeze', 1), ('squeezed', 1), ('stalk', 1), ('standing', 1), ('star', 1), ('state', 1), ('station', 1), ('stays', 1), ('steady', 1), ('steam', 1), ('sternly', 1), ('sticks', 1), ('stiff', 1), ('stingy', 1), ('stockings', 1), ('stole', 1), ('stool', 1), ('stopping', 1), ('straightened', 1), ('straightening', 1), ('strength', 1), ('stretching', 1), ('strings', 1), ('stupidest', 1), ('stupidly', 1), ('subdued', 1), ('subjects', 1), ('submitted', 1), ('suet', 1), ('supple', 1), ('swallow', 1), ('swallowed', 1), ('swallowing', 1), ('sweet', 1), ('tales', 1), ('tart', 1), ('tastes', 1), ('teaching', 1), ('teapot', 1), ('teases', 1), ('teeth', 1), ('telescopes', 1), ('terms', 1), ('terribly', 1), ('terrier', 1), ('terror', 1), ('thank', 1), ('thanked', 1), ('thatched', 1), ('theirs', 1), ('thick', 1), ('thin', 1), ('thirteen', 1), ('throne', 1), ('thrown', 1), ('thunder', 1), ('thunderstorm', 1), ('tide', 1), ('tidy', 1), ('tie', 1), ('tied', 1), ('tight', 1), ('tinkling', 1), ('tipped', 1), ('tittered', 1), ('toast', 1), ('today', 1), ('toffee', 1), ('tomorrow', 1), ('tops', 1), ('toss', 1), ('touch', 1), ('tougher', 1), ('towards', 1), ('toys', 1), ('trampled', 1), ('traps', 1), ('tray', 1), ('treat', 1), ('treated', 1), ('tremble', 1), ('tremulous', 1), ('trials', 1), ('trickling', 1), ('tricks', 1), ('trot', 1), ('trusts', 1), ('truth', 1), ('truthful', 1), ('tulip', 1), ('tumbled', 1), ('tunnel', 1), ('tureen', 1), ('turkey', 1), ('tut', 1), ('twelfth', 1), ('twentieth', 1), ('twinkled', 1), ('uglify', 1), ('uglifying', 1), ('unable', 1), ('uncivil', 1), ('uncomfortably', 1), ('uncommon', 1), ('uncommonly', 1), ('uncorked', 1), ('underneath', 1), ('understood', 1), ('undo', 1), ('undoing', 1), ('uneasy', 1), ('unjust', 1), ('unlocking', 1), ('untwist', 1), ('unusually', 1), ('unwillingly', 1), ('upright', 1), ('upsetting', 1), ('upstairs', 1), ('usurpation', 1), ('vague', 1), ('vanishing', 1), ('variations', 1), ('various', 1), ('vegetable', 1), ('velvet', 1), ('vinegar', 1), ('violence', 1), ('vote', 1), ('vulgar', 1), ('wag', 1), ('wags', 1), ('waist', 1), ('waistcoat', 1), ('wait', 1), ('walrus', 1), ('wander', 1), ('warning', 1), ('waste', 1), ('waters', 1), ('ways', 1), ('wearily', 1), ('weeks', 1), ('welcome', 1), ('wept', 1), ('weren', 1), ('whenever', 1), ('whereupon', 1), ('whiles', 1), ('whispers', 1), ('whistle', 1), ('whistling', 1), ('whom', 1), ('wider', 1), ('wife', 1), ('win', 1), ('wings', 1), ('winter', 1), ('wits', 1), ('woke', 1), ('wondered', 1), ('wooden', 1), ('wore', 1), ('works', 1), ('worm', 1), ('worried', 1), ('worry', 1), ('wrapping', 1), ('wriggling', 1), ('yard', 1), ('yards', 1), ('ye', 1), ('years', 1), ('yelled', 1), ('yelp', 1), ('yes', 1), ('zigzag', 1)]\n"
          ]
        }
      ],
      "source": [
        "input_file_path = \"aip_file_io/alice_in_wonderland.txt\"\n",
        "expected_result_file = \"aip_file_io/expected_result.pkl\"\n",
        "analyzer = TextAnalyzer(input_file_path)\n",
        "result = analyzer.word_frequency()\n",
        "print(result)\n",
        "sorted_result = sorted(result.items(), key=lambda x: (-x[1], x[0]))\n",
        "print(sorted_result)"
      ]
    },
    {
      "cell_type": "code",
      "execution_count": 71,
      "metadata": {
        "id": "4OXPr0YxXJwx"
      },
      "outputs": [],
      "source": [
        "class TextAnalyzer:\n",
        "    def __init__(self, file_path: str):\n",
        "        self.file_path = file_path\n",
        "\n",
        "    def word_frequency(self) -> dict:\n",
        "        result = {}\n",
        "        try:\n",
        "            with open(self.file_path, 'r') as file:\n",
        "                for file_content in file:\n",
        "                    words = ''.join([char if char.isalnum() or char.isspace() else ' ' for char in file_content]).split()\n",
        "                    for word in words:\n",
        "                        word = word.lower()\n",
        "                        if word not in result.keys():\n",
        "                            result[word] = 1\n",
        "                        else:\n",
        "                            result[word] += 1\n",
        "            return result\n",
        "        except FileNotFoundError as e:\n",
        "            print(f'파일을 찾을 수 없습니다: {e}')\n",
        "        print(words)\n",
        "        \n"
      ]
    },
    {
      "cell_type": "code",
      "execution_count": 73,
      "metadata": {
        "id": "trMw_2Fdh97P"
      },
      "outputs": [],
      "source": [
        "import pickle\n",
        "\n",
        "def read_expected_result(expected_result_file):\n",
        "  try:\n",
        "      with open(expected_result_file, 'rb') as f:\n",
        "          expected_result = pickle.load(f)\n",
        "  except FileNotFoundError:\n",
        "      print(\"Expected result file not found.\")\n",
        "      expected_result = None\n",
        "  finally:\n",
        "      return expected_result\n",
        "\n",
        "input_file_path = \"aip_file_io/alice_in_wonderland.txt\"\n",
        "expected_result_file = \"aip_file_io/expected_result.pkl\"\n",
        "\n",
        "analyzer = TextAnalyzer(input_file_path)\n",
        "result = analyzer.word_frequency()\n",
        "\n",
        "expected_result = read_expected_result(expected_result_file)\n",
        "sorted_result = sorted(result.items(), key=lambda x: (-x[1], x[0]))\n",
        "assert sorted_result == expected_result\n",
        "# print(f'결과 {sorted_result}')\n",
        "# print(f'예상 {expected_result}')\n",
        "\n",
        "\n",
        "# missing_file_path = \"missing.txt\"\n",
        "# expected_result_file = \"missing_output.pkl\"\n",
        "# analyzer = TextAnalyzer(missing_file_path)\n",
        "\n",
        "# expected_result = read_expected_result(expected_result_file)\n",
        "# output = analyzer.word_frequency()\n",
        "\n",
        "# assert output == expected_result"
      ]
    },
    {
      "cell_type": "markdown",
      "metadata": {
        "id": "INqFk2K5c7ks"
      },
      "source": [
        "## 3. 다음을 계산하는 메서드를 포함한 CountryStatistics 클래스를 작성하세요:\n",
        "\n",
        "* GDP가 가장 높은 상위 5개 국가: 이 메서드는 GDP가 가장 높은 상위 5개 국가의 이름을 반환하며, GDP 값은 쉼표로 형식화됩니다.\n",
        "* 기대 수명이 가장 긴 상위 5개 국가: 이 메서드는 기대 수명이 가장 긴 상위 5개 국가의 이름을 반환합니다.\n",
        "* 인구 밀도가 가장 높은 상위 5개 국가: 이 메서드는 인구 밀도가 가장 높은 상위 5개 국가의 이름을 반환합니다.\n",
        "\n",
        "* 파일: https://gist.github.com/vr-23/d6a4a0aadcf3a2640091ca43c25e1955#file-world-data-2023-csv\n",
        "\n",
        "### CountryStatistics 클래스\n",
        "\n",
        "* __clean_numeric_data(value: str): 문자열을 입력으로 받아 쉼표, 달러 기호, 백분율 기호를 제거하고 숫자 값을 float으로 반환합니다. 입력을 변환할 수 없으면 0.0을 반환합니다.\n",
        "\n",
        "> 힌트: 이 함수는 쉼표나 달러 기호가 포함된 CSV 파일의 숫자 데이터를 처리하는 데 유용합니다.\n",
        "빈 문자열이나 숫자가 아닌 값을 처리할 수 있도록 예외 처리에 신경 쓰세요.\n",
        "\n",
        "* __load_data(filename: str): CSV 파일에서 국가 데이터를 로드하고 데이터를 파싱하여 Country 객체를 생성합니다. 정리된 데이터는 self.countries 리스트에 저장됩니다.\n",
        "\n",
        "> 힌트: csv.reader를 사용하여 CSV 파일을 한 줄씩 읽습니다.\n",
        "첫 번째 행은 헤더이므로 건너뜁니다.\n",
        "모든 숫자 데이터 필드에 대해 __clean_numeric_data를 호출하여 데이터를 저장하기 전에 정확하게 정리된 데이터를 확인하세요.\n",
        "GDP, 기대 수명, 인구 등의 열 인덱스를 정확하게 매핑하세요.\n",
        "\n",
        "* top_5_gdp(): GDP가 가장 높은 상위 5개 국가의 이름과 쉼표로 형식화된 GDP 값을 포함한 튜플 목록을 반환합니다.\n",
        "\n",
        "> 힌트: 국가들을 gdp 속성 기준으로 내림차순 정렬하세요.\n",
        "슬라이싱 ([:5])을 사용하여 상위 5개 항목을 선택하세요.\n",
        "국가 이름과 형식화된 GDP 값을 반환하세요.\n",
        "\n",
        "* top_5_life_expectancy(): 기대 수명이 가장 긴 상위 5개 국가의 이름과 그들의 기대 수명 값을 포함한 튜플 목록을 반환합니다.\n",
        "\n",
        "> 힌트: 국가들을 기대 수명(life_expectancy) 기준으로 내림차순 정렬하세요.\n",
        "슬라이싱 ([:5])을 사용하여 상위 5개 항목을 추출하세요.\n",
        "기대 수명 값은 형식화할 필요가 없으므로 있는 그대로 반환하세요.\n",
        "\n",
        "* countries_by_density(): 인구 밀도가 가장 높은 상위 5개 국가의 이름과 인구 밀도를 반환합니다.\n",
        "\n",
        "> 힌트: 국가들을 인구 밀도(density) 속성 기준으로 내림차순 정렬하세요.\n",
        "슬라이싱 ([:5])을 사용하여 상위 5개 항목을 선택하세요.\n",
        "인구 밀도 값은 정수이므로 형식화할 필요가 없습니다.\n"
      ]
    },
    {
      "cell_type": "code",
      "execution_count": 1,
      "metadata": {},
      "outputs": [
        {
          "ename": "ValueError",
          "evalue": "could not convert string to float: 'dk'",
          "output_type": "error",
          "traceback": [
            "\u001b[1;31m---------------------------------------------------------------------------\u001b[0m",
            "\u001b[1;31mValueError\u001b[0m                                Traceback (most recent call last)",
            "Cell \u001b[1;32mIn[1], line 1\u001b[0m\n\u001b[1;32m----> 1\u001b[0m \u001b[38;5;28;43mfloat\u001b[39;49m\u001b[43m(\u001b[49m\u001b[38;5;124;43m'\u001b[39;49m\u001b[38;5;124;43mdk\u001b[39;49m\u001b[38;5;124;43m'\u001b[39;49m\u001b[43m)\u001b[49m\n",
            "\u001b[1;31mValueError\u001b[0m: could not convert string to float: 'dk'"
          ]
        }
      ],
      "source": [
        "float('dk')"
      ]
    },
    {
      "cell_type": "code",
      "execution_count": 8,
      "metadata": {
        "id": "u-O90MGn4Hmy"
      },
      "outputs": [],
      "source": [
        "import csv\n",
        "\n",
        "class Country:\n",
        "    def __init__(self, name: str, density: int, land_area: int, gdp: float, life_expectancy: float, population: int):\n",
        "        self.name = name\n",
        "        self.density = density\n",
        "        self.land_area = land_area\n",
        "        self.gdp = gdp\n",
        "        self.life_expectancy = life_expectancy\n",
        "        self.population = population\n",
        "\n",
        "class CountryStatistics:\n",
        "    def __init__(self, filename: str):\n",
        "        self.filename = filename\n",
        "        self.countries = []\n",
        "\n",
        "    def __clean_numeric_data(self, value: str) -> float:\n",
        "        if ',' in value:\n",
        "            value = value.replace(',', '')\n",
        "        if ' ' in value:\n",
        "            value = value.replace(' ', '')\n",
        "        if '$' in value:\n",
        "            value = value.replace('$', '')\n",
        "        if '%' in value:\n",
        "            value = float(value.replace('%', ''))/100\n",
        "        \n",
        "        try:\n",
        "            value = float(value)\n",
        "        except ValueError as e:\n",
        "            if value == '' :\n",
        "                value = 0.0\n",
        "            else:\n",
        "                pass\n",
        "\n",
        "    def __load_data(self, filename: str):\n",
        "        lines = open(filename)\n",
        "        reader = csv.reader(lines)\n",
        "        next(reader)\n",
        "        \n",
        "        for row in reader:\n",
        "            for elem in row:\n",
        "                self.__clean_numeric_data(elem)\n",
        "            name, density, land_area, gdp, life_expectancy, population = row[0], row[1], row[4], row[16], row[21], row[27]\n",
        "            c = Country(name, density, land_area, gdp, life_expectancy, population)\n",
        "            self.countries.append(c)\n",
        "        return\n",
        "\n",
        "    def top_5_gdp(self):\n",
        "        self.__load_data(self.filename)\n",
        "        result = []\n",
        "        gdp = sorted(self.countries, key= lambda x: int(x.gdp.replace('$', '')), reverse=True)[:5]\n",
        "        for country in gdp:\n",
        "            result.append((country.name, country.gdp))\n",
        "        return result\n",
        "\n",
        "\n",
        "    def top_5_life_expectancy(self):\n",
        "        self.__load_data(self.filename)\n",
        "        result = []\n",
        "        life_ex = sorted(self.countries, key= lambda x: x.life_expectancy, reverse=True)[:5]\n",
        "        for country in life_ex:\n",
        "            result.append((country.name, country.life_expectancy))\n",
        "        return result\n",
        "\n",
        "\n",
        "    def countries_by_density(self):\n",
        "        self.__load_data(self.filename)\n",
        "        result = []\n",
        "        density = sorted(self.countries, key= lambda x: x.density, reverse=True)[:5]\n",
        "        for country in density:\n",
        "            result.append((country.name, country.density))\n",
        "        return result\n"
      ]
    },
    {
      "cell_type": "code",
      "execution_count": 9,
      "metadata": {
        "id": "gtu5YK_Vx623"
      },
      "outputs": [
        {
          "ename": "ValueError",
          "evalue": "invalid literal for int() with base 10: '19,101,353,833 '",
          "output_type": "error",
          "traceback": [
            "\u001b[1;31m---------------------------------------------------------------------------\u001b[0m",
            "\u001b[1;31mValueError\u001b[0m                                Traceback (most recent call last)",
            "Cell \u001b[1;32mIn[9], line 29\u001b[0m\n\u001b[0;32m     25\u001b[0m expected_average_population \u001b[38;5;241m=\u001b[39m \u001b[38;5;241m57\u001b[39m\n\u001b[0;32m     27\u001b[0m stats \u001b[38;5;241m=\u001b[39m CountryStatistics(\u001b[38;5;124m'\u001b[39m\u001b[38;5;124m./aip_file_io/countries.csv\u001b[39m\u001b[38;5;124m'\u001b[39m)\n\u001b[1;32m---> 29\u001b[0m \u001b[38;5;28;01mfor\u001b[39;00m (expected_country, expected_gdp), (result_country, result_gdp) \u001b[38;5;129;01min\u001b[39;00m \u001b[38;5;28mzip\u001b[39m(expected_gdp_output, \u001b[43mstats\u001b[49m\u001b[38;5;241;43m.\u001b[39;49m\u001b[43mtop_5_gdp\u001b[49m\u001b[43m(\u001b[49m\u001b[43m)\u001b[49m):\n\u001b[0;32m     30\u001b[0m     \u001b[38;5;66;03m# assert expected_country == result_country\u001b[39;00m\n\u001b[0;32m     31\u001b[0m     \u001b[38;5;66;03m# assert expected_gdp == result_gdp\u001b[39;00m\n\u001b[0;32m     32\u001b[0m     \u001b[38;5;28mprint\u001b[39m(expected_country, result_country)\n\u001b[0;32m     33\u001b[0m     \u001b[38;5;28mprint\u001b[39m(expected_gdp, result_gdp)\n",
            "Cell \u001b[1;32mIn[8], line 51\u001b[0m, in \u001b[0;36mCountryStatistics.top_5_gdp\u001b[1;34m(self)\u001b[0m\n\u001b[0;32m     49\u001b[0m \u001b[38;5;28mself\u001b[39m\u001b[38;5;241m.\u001b[39m__load_data(\u001b[38;5;28mself\u001b[39m\u001b[38;5;241m.\u001b[39mfilename)\n\u001b[0;32m     50\u001b[0m result \u001b[38;5;241m=\u001b[39m []\n\u001b[1;32m---> 51\u001b[0m gdp \u001b[38;5;241m=\u001b[39m \u001b[38;5;28;43msorted\u001b[39;49m\u001b[43m(\u001b[49m\u001b[38;5;28;43mself\u001b[39;49m\u001b[38;5;241;43m.\u001b[39;49m\u001b[43mcountries\u001b[49m\u001b[43m,\u001b[49m\u001b[43m \u001b[49m\u001b[43mkey\u001b[49m\u001b[38;5;241;43m=\u001b[39;49m\u001b[43m \u001b[49m\u001b[38;5;28;43;01mlambda\u001b[39;49;00m\u001b[43m \u001b[49m\u001b[43mx\u001b[49m\u001b[43m:\u001b[49m\u001b[43m \u001b[49m\u001b[38;5;28;43mint\u001b[39;49m\u001b[43m(\u001b[49m\u001b[43mx\u001b[49m\u001b[38;5;241;43m.\u001b[39;49m\u001b[43mgdp\u001b[49m\u001b[38;5;241;43m.\u001b[39;49m\u001b[43mreplace\u001b[49m\u001b[43m(\u001b[49m\u001b[38;5;124;43m'\u001b[39;49m\u001b[38;5;124;43m$\u001b[39;49m\u001b[38;5;124;43m'\u001b[39;49m\u001b[43m,\u001b[49m\u001b[43m \u001b[49m\u001b[38;5;124;43m'\u001b[39;49m\u001b[38;5;124;43m'\u001b[39;49m\u001b[43m)\u001b[49m\u001b[43m)\u001b[49m\u001b[43m,\u001b[49m\u001b[43m \u001b[49m\u001b[43mreverse\u001b[49m\u001b[38;5;241;43m=\u001b[39;49m\u001b[38;5;28;43;01mTrue\u001b[39;49;00m\u001b[43m)\u001b[49m[:\u001b[38;5;241m5\u001b[39m]\n\u001b[0;32m     52\u001b[0m \u001b[38;5;28;01mfor\u001b[39;00m country \u001b[38;5;129;01min\u001b[39;00m gdp:\n\u001b[0;32m     53\u001b[0m     result\u001b[38;5;241m.\u001b[39mappend((country\u001b[38;5;241m.\u001b[39mname, country\u001b[38;5;241m.\u001b[39mgdp))\n",
            "Cell \u001b[1;32mIn[8], line 51\u001b[0m, in \u001b[0;36mCountryStatistics.top_5_gdp.<locals>.<lambda>\u001b[1;34m(x)\u001b[0m\n\u001b[0;32m     49\u001b[0m \u001b[38;5;28mself\u001b[39m\u001b[38;5;241m.\u001b[39m__load_data(\u001b[38;5;28mself\u001b[39m\u001b[38;5;241m.\u001b[39mfilename)\n\u001b[0;32m     50\u001b[0m result \u001b[38;5;241m=\u001b[39m []\n\u001b[1;32m---> 51\u001b[0m gdp \u001b[38;5;241m=\u001b[39m \u001b[38;5;28msorted\u001b[39m(\u001b[38;5;28mself\u001b[39m\u001b[38;5;241m.\u001b[39mcountries, key\u001b[38;5;241m=\u001b[39m \u001b[38;5;28;01mlambda\u001b[39;00m x: \u001b[38;5;28;43mint\u001b[39;49m\u001b[43m(\u001b[49m\u001b[43mx\u001b[49m\u001b[38;5;241;43m.\u001b[39;49m\u001b[43mgdp\u001b[49m\u001b[38;5;241;43m.\u001b[39;49m\u001b[43mreplace\u001b[49m\u001b[43m(\u001b[49m\u001b[38;5;124;43m'\u001b[39;49m\u001b[38;5;124;43m$\u001b[39;49m\u001b[38;5;124;43m'\u001b[39;49m\u001b[43m,\u001b[49m\u001b[43m \u001b[49m\u001b[38;5;124;43m'\u001b[39;49m\u001b[38;5;124;43m'\u001b[39;49m\u001b[43m)\u001b[49m\u001b[43m)\u001b[49m, reverse\u001b[38;5;241m=\u001b[39m\u001b[38;5;28;01mTrue\u001b[39;00m)[:\u001b[38;5;241m5\u001b[39m]\n\u001b[0;32m     52\u001b[0m \u001b[38;5;28;01mfor\u001b[39;00m country \u001b[38;5;129;01min\u001b[39;00m gdp:\n\u001b[0;32m     53\u001b[0m     result\u001b[38;5;241m.\u001b[39mappend((country\u001b[38;5;241m.\u001b[39mname, country\u001b[38;5;241m.\u001b[39mgdp))\n",
            "\u001b[1;31mValueError\u001b[0m: invalid literal for int() with base 10: '19,101,353,833 '"
          ]
        }
      ],
      "source": [
        "expected_gdp_output = [\n",
        "    (\"United States\", \"21,427,700,000,000\"),\n",
        "    (\"China\", \"19,910,000,000,000\"),\n",
        "    (\"Japan\", \"5,081,769,542,380\"),\n",
        "    (\"Germany\", \"3,845,630,030,824\"),\n",
        "    (\"United Kingdom\", \"2,827,113,184,696\")\n",
        "]\n",
        "\n",
        "expected_life_expectancy_output = [\n",
        "    (\"San Marino\", 85.4),\n",
        "    (\"Japan\", 84.2),\n",
        "    (\"Switzerland\", 83.6),\n",
        "    (\"Spain\", 83.3),\n",
        "    (\"Singapore\", 83.1)\n",
        "]\n",
        "\n",
        "expected_density_output = [\n",
        "    (\"Monaco\", 26337),\n",
        "    (\"Singapore\", 8358),\n",
        "    (\"Bahrain\", 2239),\n",
        "    (\"Vatican City\", 2003),\n",
        "    (\"Maldives\", 1802)\n",
        "]\n",
        "\n",
        "expected_average_population = 57\n",
        "\n",
        "stats = CountryStatistics('./aip_file_io/countries.csv')\n",
        "\n",
        "for (expected_country, expected_gdp), (result_country, result_gdp) in zip(expected_gdp_output, stats.top_5_gdp()):\n",
        "    # assert expected_country == result_country\n",
        "    # assert expected_gdp == result_gdp\n",
        "    print(expected_country, result_country)\n",
        "    print(expected_gdp, result_gdp)\n",
        "\n",
        "# for (expected_country, expected_life), (result_country, result_life) in zip(expected_life_expectancy_output, stats.top_5_life_expectancy()):\n",
        "#     assert expected_country == result_country\n",
        "#     assert expected_life == result_life\n",
        "\n",
        "# for (expected_country, expected_density), (result_country, result_density) in zip(expected_density_output, stats.countries_by_density()):\n",
        "#     assert expected_country == result_country\n",
        "#     assert expected_density == result_density\n"
      ]
    },
    {
      "cell_type": "markdown",
      "metadata": {
        "id": "LtGlz5V2Nhmw"
      },
      "source": [
        "## 4. 파일에서 숫자 데이터를 처리하고 합계, 평균, 최소값, 최대값 및 중앙값과 같은 기본 통계를 계산하는 메서드를 제공하는 FileProcessor 클래스를 작성하세요.\n",
        "\n",
        "### FileProcessor 클래스\n",
        "\n",
        "* 생성자: FileProcessor 객체를 초기화합니다. 파일 이름을 입력으로 받아 저장하고, 이후에 파일에서 읽어온 숫자 데이터를 저장할 빈 리스트 self.data를 초기화합니다.\n",
        "\n",
        "> 힌트: 이 메서드는 파일을 읽고 처리할 준비를 합니다. 파일 경로는 저장되지만, 데이터는 다른 메서드에서 요청할 때까지 로드되지 않습니다.\n",
        "\n",
        "* __read_file(self): 파일에서 데이터를 읽습니다. 파일을 읽기 모드로 열고, 각 줄에서 불필요한 문자를 제거한 후 데이터를 실수로 변환합니다. 이 처리된 데이터를 self.data에 저장합니다.\n",
        "\n",
        "> 힌트: 이 메서드를 사용하여 필요한 경우에만 데이터를 지연 로드합니다. FileNotFoundError 및 ValueError와 같은 파일 관련 오류를 처리하여 파일 읽기가 견고하게 이루어지도록 합니다.\n",
        "\n",
        "* calc_sum(self): 숫자 데이터의 합계를 계산합니다. 데이터가 아직 읽히지 않았다면 먼저 _read_file 메서드를 호출합니다. 데이터가 사용 가능해지면 값을 합산하고 결과를 소수점 한 자리까지 반올림하여 반환합니다.\n",
        "\n",
        "> 힌트: 계산을 수행하기 전에 파일이 읽혔는지 확인하세요. 내장된 sum() 함수를 사용하여 코드를 간소화할 수 있습니다. 빈 파일이 있을 수 있으므로 _read_file이 성공적으로 호출된 경우에만 이 메서드가 제대로 작동합니다.\n",
        "\n",
        "* calc_average(self): 숫자 데이터의 평균(산술 평균)을 계산합니다. 필요한 경우 _read_file을 호출하여 데이터가 사용 가능한지 확인합니다. 데이터가 없을 경우 ZeroDivisionError를 발생시킵니다.\n",
        "\n",
        "> 힌트: 평균은 데이터의 합계를 항목 수로 나눈 값입니다. 나누기를 수행하기 전에 항목이 있는지 확인하여 0으로 나누는 오류를 방지하세요.\n",
        "\n",
        "* calc_min(self): 데이터셋에서 최소값을 계산하고 반환합니다. 아직 파일을 읽지 않았다면 파일을 읽어 데이터를 확인합니다. 데이터가 없을 경우 ValueError를 발생시킵니다.\n",
        "\n",
        "> 힌트: Python의 내장 min() 함수를 사용하여 최소값을 찾습니다. 데이터가 없는 경우 적절하게 예외를 발생시켜야 합니다.\n",
        "\n",
        "* calc_max(self): 데이터셋에서 최대값을 계산하고 반환합니다. 필요한 경우 데이터를 읽고, 데이터가 비어 있으면 ValueError를 발생시킵니다.\n",
        "\n",
        "> 힌트: calc_min()과 유사하게 구현되지만, max()를 사용하여 가장 큰 숫자를 반환합니다.\n",
        "\n",
        "* calc_median(self): 숫자 데이터의 중앙값을 계산하고 반환합니다. 데이터를 정렬한 후 중앙값을 계산합니다. 데이터 포인트 수가 홀수인 경우 중간값을 반환하고, 짝수인 경우 두 중간값의 평균을 반환합니다.\n",
        "\n",
        "> 힌트: 데이터를 읽은 후 정렬하여 중앙값을 계산합니다. 데이터 길이가 짝수일 경우 중앙값은 두 중간 숫자의 평균이고, 홀수일 경우 중앙값은 중간 숫자입니다.\n",
        "\n",
        "### 오류 처리\n",
        "\n",
        "클래스는 파일을 찾을 수 없거나 파일에 유효하지 않은 데이터가 있을 때 적절한 예외를 발생시켜야 합니다.\n",
        "\n",
        "* FileNotFoundError: 파일이 존재하지 않을 때 발생합니다.\n",
        "* ValueError: 파일의 한 줄이 실수로 변환할 수 없거나 최소값, 최대값 또는 중앙값 작업에 대해 빈 파일이 제공될 때 발생합니다.\n",
        "* ZeroDivisionError: 파일이 비어 있어 평균을 계산할 데이터가 없을 때 발생합니다.\n"
      ]
    },
    {
      "cell_type": "code",
      "execution_count": null,
      "metadata": {
        "id": "2UAF4rYtNqtF"
      },
      "outputs": [],
      "source": [
        "class FileProcessor:\n",
        "    def __init__(self, file_name: str):\n",
        "        pass\n",
        "\n",
        "    def __read_file(self):\n",
        "        pass\n",
        "\n",
        "    def calc_sum(self) -> float:\n",
        "        pass\n",
        "\n",
        "    def calc_average(self) -> float:\n",
        "        pass\n",
        "\n",
        "    def calc_min(self) -> float:\n",
        "        pass\n",
        "\n",
        "    def calc_max(self) -> float:\n",
        "        pass\n",
        "\n",
        "    def calc_median(self) -> float:\n",
        "        pass\n"
      ]
    },
    {
      "cell_type": "code",
      "execution_count": null,
      "metadata": {
        "id": "8HB7gKAQOZs4"
      },
      "outputs": [],
      "source": [
        "input_files = ['./Numbers.txt', './EmptyFile.txt', './InvalidFile.txt']\n",
        "expected_sums = [23759.0, None, None]\n",
        "expected_averages = [475.2, None, None]\n",
        "expected_mins = [33.0, None, None]\n",
        "expected_maxs = [948.0, None, None]\n",
        "expected_medians = [442.5, None, None]\n",
        "\n",
        "failed_tests = []\n",
        "\n",
        "for file, expected_sum, expected_avg, expected_min, expected_max, expected_median in zip(input_files, expected_sums, expected_averages, expected_mins, expected_maxs, expected_medians):\n",
        "    processor = FileProcessor(file)\n",
        "\n",
        "    try:\n",
        "        result_sum = processor.calc_sum()\n",
        "        if expected_sum is not None:\n",
        "            assert round(result_sum, 1) == round(expected_sum, 1)\n",
        "    except (FileNotFoundError, ValueError, ZeroDivisionError) as e:\n",
        "        if expected_sum is None:\n",
        "            pass\n",
        "        else:\n",
        "            failed_tests.append(f\"Sum test failed for {file}: {e}\")\n",
        "\n",
        "    try:\n",
        "        result_avg = processor.calc_average()\n",
        "        if expected_avg is not None:\n",
        "            assert round(result_avg, 1) == round(expected_avg, 1)\n",
        "    except (FileNotFoundError, ValueError, ZeroDivisionError) as e:\n",
        "        if expected_avg is None:\n",
        "            pass\n",
        "        else:\n",
        "            failed_tests.append(f\"Average test failed for {file}: {e}\")\n",
        "\n",
        "    try:\n",
        "        result_min = processor.calc_min()\n",
        "        if expected_min is not None:\n",
        "            assert round(result_min, 1) == round(expected_min, 1)\n",
        "    except (FileNotFoundError, ValueError) as e:\n",
        "        if expected_min is None:\n",
        "            pass\n",
        "        else:\n",
        "            failed_tests.append(f\"Min test failed for {file}: {e}\")\n",
        "\n",
        "    try:\n",
        "        result_max = processor.calc_max()\n",
        "        if expected_max is not None:\n",
        "            assert round(result_max, 1) == round(expected_max, 1)\n",
        "    except (FileNotFoundError, ValueError) as e:\n",
        "        if expected_max is None:\n",
        "            pass\n",
        "        else:\n",
        "            failed_tests.append(f\"Max test failed for {file}: {e}\")\n",
        "\n",
        "    try:\n",
        "        result_median = processor.calc_median()\n",
        "        if expected_median is not None:\n",
        "            assert round(result_median, 1) == round(expected_median, 1)\n",
        "    except (FileNotFoundError, ValueError) as e:\n",
        "        if expected_median is None:\n",
        "            pass\n",
        "        else:\n",
        "            failed_tests.append(f\"Median test failed for {file}: {e}\")\n",
        "\n",
        "if failed_tests:\n",
        "    for test in failed_tests:\n",
        "        print(test)"
      ]
    }
  ],
  "metadata": {
    "colab": {
      "provenance": [],
      "toc_visible": true
    },
    "kernelspec": {
      "display_name": "Python 3",
      "name": "python3"
    },
    "language_info": {
      "codemirror_mode": {
        "name": "ipython",
        "version": 3
      },
      "file_extension": ".py",
      "mimetype": "text/x-python",
      "name": "python",
      "nbconvert_exporter": "python",
      "pygments_lexer": "ipython3",
      "version": "3.9.19"
    }
  },
  "nbformat": 4,
  "nbformat_minor": 0
}
