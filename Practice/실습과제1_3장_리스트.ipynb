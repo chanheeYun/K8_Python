{
 "cells": [
  {
   "cell_type": "code",
   "execution_count": 3,
   "metadata": {},
   "outputs": [
    {
     "name": "stdout",
     "output_type": "stream",
     "text": [
      "첫 번째 자동차 : genesis / 마지막 자동차 : casper\n",
      "\n",
      "정렬 전 자동차 리스트: ['genesis', 'santafe', 'morning', 'pride', 'casper']\n",
      "\n",
      "정렬 후 자동차 리스트: ['casper', 'genesis', 'morning', 'pride', 'santafe']\n",
      "정렬된 자동차 리스트:\n",
      "casper\n",
      "genesis\n",
      "morning\n",
      "pride\n",
      "santafe\n"
     ]
    }
   ],
   "source": [
    "# 실습과제1_3,4장_리스트\n",
    "# 빈 cars 리스트 생성\n",
    "cars = []\n",
    "\n",
    "# 자동차 리스트에 자동차 이름 추가 (append, insert 사용)\n",
    "cars.append('genesis')\n",
    "cars.append('santafe')\n",
    "cars.append('pride')\n",
    "cars.append('casper')\n",
    "\n",
    "# 세 번째 위치에 삽입\n",
    "cars.insert(2, 'morning')\n",
    "\n",
    "# f-문자열과 리스트 인덱스를 사용하여 첫 번째와 마지막 요소 출력\n",
    "print(f'첫 번째 자동차 : {cars[0]} / 마지막 자동차 : {cars[-1]}')\n",
    "\n",
    "# 정렬하기 전의 리스트 출력\n",
    "print(f\"\\n정렬 전 자동차 리스트: {cars}\")\n",
    "\n",
    "# 리스트 정렬\n",
    "cars.sort()\n",
    "\n",
    "# 정렬 후의 리스트 출력\n",
    "print(f\"\\n정렬 후 자동차 리스트: {cars}\")\n",
    "\n",
    "# 정렬된 리스트를 for loop로 각 행에 하나씩 출력\n",
    "print(\"\\n정렬된 자동차 리스트:\")\n",
    "for car in cars :\n",
    "   print(car)\n",
    "\n"
   ]
  },
  {
   "cell_type": "markdown",
   "metadata": {},
   "source": [
    "4장 리스트 다루기 실습"
   ]
  },
  {
   "cell_type": "code",
   "execution_count": 1,
   "metadata": {},
   "outputs": [
    {
     "name": "stdout",
     "output_type": "stream",
     "text": [
      "<class 'list'>\n"
     ]
    }
   ],
   "source": [
    "#리스트\n",
    "l = [1, 2, 3, 4]\n",
    "print(type(l))"
   ]
  }
 ],
 "metadata": {
  "kernelspec": {
   "display_name": "Python 3",
   "language": "python",
   "name": "python3"
  },
  "language_info": {
   "codemirror_mode": {
    "name": "ipython",
    "version": 3
   },
   "file_extension": ".py",
   "mimetype": "text/x-python",
   "name": "python",
   "nbconvert_exporter": "python",
   "pygments_lexer": "ipython3",
   "version": "3.9.13"
  }
 },
 "nbformat": 4,
 "nbformat_minor": 2
}
